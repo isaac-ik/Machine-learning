{
 "cells": [
  {
   "cell_type": "markdown",
   "id": "7ad415b4",
   "metadata": {},
   "source": [
    "Revisiing Python\n"
   ]
  },
  {
   "cell_type": "markdown",
   "id": "666a8bb2",
   "metadata": {},
   "source": [
    "Data"
   ]
  },
  {
   "cell_type": "code",
   "execution_count": 2,
   "id": "0e5432ae",
   "metadata": {},
   "outputs": [],
   "source": [
    "# strings \n",
    "name = \"Isaac\"\n",
    "\n",
    "# numbers\n",
    "age = 19\n",
    "height = 1.5\n",
    "weight = 68\n",
    "\n",
    "# List - mutable\n",
    "Engineering_Students = [\"Ade\", \"Bisi\", \"john\", \"Jack\", \"felix\"]\n",
    "\n",
    "# Tuples - immutable\n",
    "place_of_birth = (\"London\", \"Berlin\", \"Lagos\", \"Montreal\", \"Dubai\")\n"
   ]
  },
  {
   "cell_type": "markdown",
   "id": "5ede27eb",
   "metadata": {},
   "source": [
    "Why use a mutable data type for name? - Cause there can be a change of name.\n",
    "why use an immutable data type for place of birth? - because it cant be changed after the person has been born.\n"
   ]
  },
  {
   "cell_type": "code",
   "execution_count": 3,
   "id": "1bf3a38e",
   "metadata": {},
   "outputs": [],
   "source": [
    "# Dictionaries\n",
    "std_data = {}\n",
    "\n",
    "std_data_v2 = {}"
   ]
  },
  {
   "cell_type": "code",
   "execution_count": 4,
   "id": "2b1e1708",
   "metadata": {},
   "outputs": [
    {
     "name": "stdout",
     "output_type": "stream",
     "text": [
      "{'Ade': 'London', 'Bisi': 'Berlin', 'john': 'Lagos', 'Jack': 'Montreal', 'felix': 'Dubai'}\n"
     ]
    }
   ],
   "source": [
    "for x in range(0, len(Engineering_Students)):\n",
    "    std_data[Engineering_Students[x]] = place_of_birth[x]\n",
    "\n",
    "print(std_data)"
   ]
  },
  {
   "cell_type": "code",
   "execution_count": 14,
   "id": "2b1c3e47",
   "metadata": {},
   "outputs": [
    {
     "ename": "ValueError",
     "evalue": "too many values to unpack (expected 2)",
     "output_type": "error",
     "traceback": [
      "\u001b[1;31m---------------------------------------------------------------------------\u001b[0m",
      "\u001b[1;31mValueError\u001b[0m                                Traceback (most recent call last)",
      "Cell \u001b[1;32mIn[14], line 1\u001b[0m\n\u001b[1;32m----> 1\u001b[0m \u001b[38;5;28;01mfor\u001b[39;00m y, z \u001b[38;5;129;01min\u001b[39;00m (Engineering_Students), (place_of_birth):\n\u001b[0;32m      2\u001b[0m     std_data[y] \u001b[38;5;241m=\u001b[39m z\n\u001b[0;32m      4\u001b[0m \u001b[38;5;28mprint\u001b[39m(std_data_v2)\n",
      "\u001b[1;31mValueError\u001b[0m: too many values to unpack (expected 2)"
     ]
    }
   ],
   "source": [
    "for y, z in (Engineering_Students), (place_of_birth):\n",
    "    std_data[y] = z\n",
    "\n",
    "print(std_data_v2)"
   ]
  },
  {
   "cell_type": "code",
   "execution_count": 7,
   "id": "954ea3c7",
   "metadata": {},
   "outputs": [
    {
     "data": {
      "text/plain": [
       "list"
      ]
     },
     "execution_count": 7,
     "metadata": {},
     "output_type": "execute_result"
    }
   ],
   "source": [
    "# check data type\n",
    "type(std_data)\n",
    "type(Engineering_Students)"
   ]
  },
  {
   "cell_type": "code",
   "execution_count": 10,
   "id": "5d4d165e",
   "metadata": {},
   "outputs": [],
   "source": [
    "# array [[]]\n",
    "a = [[1, 3], [4,2]]"
   ]
  },
  {
   "cell_type": "code",
   "execution_count": 11,
   "id": "22ef535a",
   "metadata": {},
   "outputs": [
    {
     "data": {
      "text/plain": [
       "list"
      ]
     },
     "execution_count": 11,
     "metadata": {},
     "output_type": "execute_result"
    }
   ],
   "source": [
    "type(a)"
   ]
  },
  {
   "cell_type": "markdown",
   "id": "65e44ec9",
   "metadata": {},
   "source": [
    "EXCERCISEs"
   ]
  },
  {
   "cell_type": "markdown",
   "id": "7beb9e10",
   "metadata": {},
   "source": [
    "Create a program that displays your name and complete mailing address. The address\n",
    "should be printed in the format that is normally used in the area where you live. Your\n",
    "program does not need to read any input from the user."
   ]
  },
  {
   "cell_type": "code",
   "execution_count": 16,
   "id": "3d122e4d",
   "metadata": {},
   "outputs": [
    {
     "name": "stdout",
     "output_type": "stream",
     "text": [
      "Isaac Ikhaiduwor\n",
      "1451 Lascote Rue\n",
      "Longueiel\n"
     ]
    }
   ],
   "source": [
    "# what: display name and mail \n",
    "# How: letter format \n",
    "\n",
    "print(\"Isaac Ikhaiduwor\\n1451 Lascote Rue\\nLongueiel\")"
   ]
  },
  {
   "cell_type": "markdown",
   "id": "a4a06546",
   "metadata": {},
   "source": [
    "Write a program that asks the user to enter his or her name. The program should\n",
    "respond with a message that says hello to the user, using his or her name.\n"
   ]
  },
  {
   "cell_type": "code",
   "execution_count": 18,
   "id": "7697459c",
   "metadata": {},
   "outputs": [
    {
     "name": "stdout",
     "output_type": "stream",
     "text": [
      "Enter name:Isaac\n",
      "Hello Isaac\n"
     ]
    }
   ],
   "source": [
    "# what: request name, respond \"Hi [name]\"\n",
    "\n",
    "name = input(\"Enter name:\")\n",
    "print(\"Hello\", name)"
   ]
  },
  {
   "cell_type": "markdown",
   "id": "75f928ba",
   "metadata": {},
   "source": [
    "Write a program that asks the user to enter the width and length of a room. Once\n",
    "these values have been read, your program should compute and display the area of\n",
    "the room. The length and the width will be entered as floating-point numbers. Include\n",
    "units in your prompt and output message; either feet or meters, depending on which\n",
    "unit you are more comfortable working with."
   ]
  },
  {
   "cell_type": "code",
   "execution_count": 21,
   "id": "ad22f34d",
   "metadata": {},
   "outputs": [
    {
     "name": "stdout",
     "output_type": "stream",
     "text": [
      "Enter width(in meters):9\n",
      "Enter length(in meters):12\n",
      "Area is 108.00sq-meters\n"
     ]
    }
   ],
   "source": [
    "# what: request width and length, compute area, display area\n",
    "# how: float-pointing values, include units.\n",
    "\n",
    "width = float(input(\"Enter width(in meters):\"))\n",
    "length = float(input(\"Enter length(in meters):\"))\n",
    "\n",
    "area = width * length\n",
    "\n",
    "print(\"Area is {:.2f}sq-meters\".format(area))"
   ]
  },
  {
   "cell_type": "markdown",
   "id": "4c1d5a22",
   "metadata": {},
   "source": [
    "Create a program that reads the length and width of a farmer’s field from the user in\n",
    "feet. Display the area of the field in acres.\n",
    "Hint: There are 43,560 square feet in an acre."
   ]
  },
  {
   "cell_type": "code",
   "execution_count": 23,
   "id": "979843c7",
   "metadata": {},
   "outputs": [
    {
     "name": "stdout",
     "output_type": "stream",
     "text": [
      "Enter length (in feet):34\n",
      "Enter width (in feet):12\n",
      "Area is 0.01acres\n"
     ]
    }
   ],
   "source": [
    "# what: request length and width, compute area, (convert area), display area\n",
    "# how: length and width in feets, result in arces\n",
    "\n",
    "length = float(input(\"Enter length (in feet):\"))\n",
    "width = float(input(\"Enter width (in feet):\"))\n",
    "\n",
    "area_ft = length * width\n",
    "\n",
    "acres = area_ft/43560\n",
    "\n",
    "print(\"Area is {:.2f}acres\".format(acres))"
   ]
  },
  {
   "cell_type": "markdown",
   "id": "72a78cae",
   "metadata": {},
   "source": [
    "In many jurisdictions a small deposit is added to drink containers to encourage people to recycle them. In one particular jurisdiction, drink containers holding one liter or less have a \\\\$0.10 deposit, and drink containers holding more than one liter have a $0.25 deposit.\n",
    "\n",
    "Write a program that reads the number of containers of each size from the user.\n",
    "Your program should continue by computing and displaying the refund that will be\n",
    "received for returning those containers. Format the output so that it includes a dollar\n",
    "sign and two digits to the right of the decimal point.\n"
   ]
  },
  {
   "cell_type": "code",
   "execution_count": 24,
   "id": "70fcf36b",
   "metadata": {},
   "outputs": [
    {
     "name": "stdout",
     "output_type": "stream",
     "text": [
      "Number of containers(1L and below):2\n",
      "Number of containers(above 1L):1\n",
      "Your refund is $0.45\n"
     ]
    }
   ],
   "source": [
    "# what: store deposit/unit-type, request number of each sizes, compute refund for each, sum refund, display refund\n",
    "# how: refund sum with dollar sign, 2 dp.\n",
    "\n",
    "deposit_1Landbelow = 0.1\n",
    "deposit_above1L = 0.25\n",
    "\n",
    "num_of_cont_1Litndbelow = int(input(\"Number of containers(1L and below):\"))\n",
    "num_of_cont_above1Lit = int(input(\"Number of containers(above 1L):\"))\n",
    "\n",
    "refund_small = deposit_1Landbelow * num_of_cont_1Litndbelow\n",
    "refund_big = deposit_above1L * num_of_cont_above1Lit\n",
    "\n",
    "Total_refund = refund_big + refund_small\n",
    "\n",
    "print(\"Your refund is ${:.2f}\".format(Total_refund))"
   ]
  },
  {
   "cell_type": "markdown",
   "id": "6bb93df1",
   "metadata": {},
   "source": [
    "The program that you create for this exercise will begin by reading the cost of a meal\n",
    "ordered at a restaurant from the user. Then your program will compute the tax and\n",
    "tip for the meal. Use your local tax rate when computing the amount of tax owing.\n",
    "Compute the tip as 18 percent of the meal amount (without the tax). The output from\n",
    "your program should include the tax amount, the tip amount, and the grand total for\n",
    "the meal including both the tax and the tip. Format the output so that all of the values\n",
    "are displayed using two decimal places."
   ]
  },
  {
   "cell_type": "code",
   "execution_count": 27,
   "id": "7d6421b2",
   "metadata": {},
   "outputs": [
    {
     "name": "stdout",
     "output_type": "stream",
     "text": [
      "Enter cost of meal:30\n",
      "Meal: $30.00\n",
      "Tip: $5.40\n",
      "Tax: $1.80\n",
      "Grand Total: $37.20\n"
     ]
    }
   ],
   "source": [
    "# what: read meal cost, compute tax, tip and grand total, display tax, tip and grand total\n",
    "# how: all values in 2.dp\n",
    "\n",
    "tip_rate = 18/100\n",
    "tax_rate = 6/100\n",
    "\n",
    "meal_cost = float(input(\"Enter cost of meal:\"))\n",
    "\n",
    "tip_on_meal = tip_rate * meal_cost\n",
    "\n",
    "tax_on_meal = tax_rate * meal_cost\n",
    "\n",
    "grand_total = meal_cost + tip_on_meal + tax_on_meal\n",
    "\n",
    "print(\"Meal: ${:.2f}\\nTip: ${:.2f}\\nTax: ${:.2f}\\nGrand Total: ${:.2f}\".format(meal_cost,tip_on_meal,tax_on_meal,grand_total))\n"
   ]
  },
  {
   "cell_type": "markdown",
   "id": "34f3aeb3",
   "metadata": {},
   "source": [
    "Write a program that reads a positive integer, n, from the user and then displays the\n",
    "sum of all of the integers from 1 to n. The sum of the first n positive integers can be\n",
    "computed using the formula:\n",
    "sum = (n)(n + 1)/2"
   ]
  },
  {
   "cell_type": "code",
   "execution_count": 29,
   "id": "b58dab60",
   "metadata": {},
   "outputs": [
    {
     "name": "stdout",
     "output_type": "stream",
     "text": [
      "Enter an integer value:4\n",
      "Sum of values from 1 to 4 is 10\n"
     ]
    }
   ],
   "source": [
    "# what: read value, compute sum from 1 to value, display sum\n",
    "\n",
    "value = int(input(\"Enter an integer value:\"))\n",
    "\n",
    "sum_of_1_to_value = (value * (value + 1))/2\n",
    "\n",
    "print(\"Sum of values from 1 to {} is {:.0f}\".format(value, sum_of_1_to_value))"
   ]
  },
  {
   "cell_type": "markdown",
   "id": "7ccab615",
   "metadata": {},
   "source": [
    "An online retailer sells two products: widgets and gizmos. Each widget weighs 75\n",
    "grams. Each gizmo weighs 112 grams. Write a program that reads the number of\n",
    "widgets and the number of gizmos from the user. Then your program should compute\n",
    "and display the total weight of the parts.\n",
    "\n"
   ]
  },
  {
   "cell_type": "code",
   "execution_count": 30,
   "id": "ed836047",
   "metadata": {},
   "outputs": [
    {
     "name": "stdout",
     "output_type": "stream",
     "text": [
      "Enter number of widgets:4\n",
      "Enter number of gizmo:2\n",
      "Total weights is 524.00g\n"
     ]
    }
   ],
   "source": [
    "# what: stores weight per product type, read number of each product type, compute total weights per product type, \n",
    "# compute weight sum, display weight sum\n",
    "\n",
    "weight_per_widget = 75\n",
    "weight_per_gizmo = 112\n",
    "\n",
    "num_of_widget = int(input(\"Enter number of widgets:\"))\n",
    "num_of_gizmo = int(input(\"Enter number of gizmo:\"))\n",
    "\n",
    "widgets_weight = num_of_widget * weight_per_widget\n",
    "gizmo_weight = num_of_gizmo * weight_per_gizmo\n",
    "\n",
    "total_weight = widgets_weight + gizmo_weight\n",
    "\n",
    "print(\"Total weights is {:.2f}g\".format(total_weight))"
   ]
  },
  {
   "cell_type": "markdown",
   "id": "285c1349",
   "metadata": {},
   "source": [
    "Pretend that you have just opened a new savings account that earns 4 percent interest\n",
    "per year. The interest that you earn is paid at the end of the year, and is added to the\n",
    "balance of the savings account. Write a program that begins by reading the amount of\n",
    "money deposited into the account from the user. Then your program should compute\n",
    "and display the amount in the savings account after 1, 2, and 3 years. Display each\n",
    "amount so that it is rounded to 2 decimal places."
   ]
  },
  {
   "cell_type": "code",
   "execution_count": 35,
   "id": "af9adb82",
   "metadata": {},
   "outputs": [
    {
     "name": "stdout",
     "output_type": "stream",
     "text": [
      "Enter Deposit: 20000\n",
      "Original Deposit: $20000.00\n",
      "After 1 yr: $20800.00\n",
      "After 2yr: $21632.00\n",
      "After 3yr: $22497.28\n"
     ]
    }
   ],
   "source": [
    "# what: stores interest rate, read deposited money, compute amount after 1,2 and 3 yrs, display amounts\n",
    "# how: dipslay amount in 2dp\n",
    "\n",
    "interest_rate = 4/100\n",
    "\n",
    "deposit = float(input(\"Enter Deposit: \"))\n",
    "\n",
    "amount_y1 = deposit * (1 + interest_rate)**1\n",
    "\n",
    "amount_y2 = deposit * (1 + interest_rate)**2\n",
    "\n",
    "amount_y3 = deposit * (1+ interest_rate)**3\n",
    "\n",
    "print(\"Original Deposit: ${:.2f}\\nAfter 1 yr: ${:.2f}\\nAfter 2yr: ${:.2f}\\nAfter 3yr: ${:.2f}\".format(deposit, amount_y1, amount_y2,amount_y3))"
   ]
  },
  {
   "cell_type": "markdown",
   "id": "5167bac5",
   "metadata": {},
   "source": [
    "Create a program that reads two integers, a and b, from the user.Your program should\n",
    "compute and display:\n",
    "• The sum of a and b\n",
    "• The difference when b is subtracted from a\n",
    "• The product of a and b\n",
    "• The quotient when a is divided by b\n",
    "• The remainder when a is divided by b\n",
    "• The result of log10 a\n",
    "• The result of ab\n",
    "Hint: You will probably find the log10 function in the math module helpful\n",
    "for computing the second last item in the list."
   ]
  },
  {
   "cell_type": "code",
   "execution_count": 40,
   "id": "0c6be935",
   "metadata": {},
   "outputs": [
    {
     "name": "stdout",
     "output_type": "stream",
     "text": [
      "Value 1: 10\n",
      "Value 2: 2\n",
      "Sum: 12\n",
      "differnce: 8\n",
      "product: 20\n",
      "quotient of a divided by b: 5\n",
      "remainder: 0\n",
      "logA: 1.0\n",
      "Power(a^b): 100\n"
     ]
    }
   ],
   "source": [
    "# what: read value a, read value b, compute (sum, difference, product, quotient of a/b, reminder of a/b, log10A,a**b)\n",
    "\n",
    "import math\n",
    "\n",
    "a = int(input(\"Value 1: \"))\n",
    "b = int(input(\"Value 2: \"))\n",
    "\n",
    "sum_a_and_b = a + b\n",
    "diff = a - b\n",
    "prod = a * b\n",
    "quotient = a//b\n",
    "remainder = a%b\n",
    "\n",
    "log = math.log10(a)\n",
    "power = a**b\n",
    "\n",
    "print(\"Sum: {}\\ndiffernce: {}\\nproduct: {:.0f}\\nquotient of a divided by b: {}\\nremainder: {}\\nlogA: {}\\nPower(a^b): {}\".format(sum_a_and_b, diff,prod,quotient,remainder,\n",
    "                                                                                                                                log, power))"
   ]
  },
  {
   "cell_type": "markdown",
   "id": "73ee8178",
   "metadata": {},
   "source": [
    "In the United States, fuel efficiency for vehicles is normally expressed in miles-pergallon\n",
    "(MPG). In Canada, fuel efficiency is normally expressed in liters-per-hundred\n",
    "kilometers (L/100 km). Use your research skills to determine how to convert from\n",
    "MPGto L/100 km. Then create a program that reads a value from the user in American\n",
    "units and displays the equivalent fuel efficiency in Canadian units."
   ]
  },
  {
   "cell_type": "code",
   "execution_count": 55,
   "id": "a2c6789c",
   "metadata": {},
   "outputs": [
    {
     "name": "stdout",
     "output_type": "stream",
     "text": [
      "Enter fuel efficiency(in mpg):1000\n",
      "Equivaluent fuel efficiency (in canadian units): 0.24\n"
     ]
    }
   ],
   "source": [
    "# what: stores fuel efficency, read value, compute conversion, display result\n",
    "miles_to_km = 1.609\n",
    "gal_to_lit = 3.78541\n",
    "\n",
    "mpg_value = float(input(\"Enter fuel efficiency(in mpg):\"))\n",
    "\n",
    "literper100_value = (1/(mpg_value * miles_to_km/gal_to_lit))*100\n",
    "\n",
    "print(\"Equivaluent fuel efficiency (in canadian units): {:.2f}\".format(literper100_value))"
   ]
  },
  {
   "cell_type": "markdown",
   "id": "37fddf5f",
   "metadata": {},
   "source": [
    "The surface of the Earth is curved, and the distance between degrees of longitude\n",
    "varies with latitude. As a result, finding the distance between two points on the surface\n",
    "of the Earth is more complicated than simply using the Pythagorean theorem.\n",
    "Let (t1, g1) and (t2, g2) be the latitude and longitude of two points on the Earth’s\n",
    "surface. The distance between these points, following the surface of the Earth, in\n",
    "kilometers is:\n",
    "distance = 6371.01 × arccos(sin(t1) × sin(t2) + cos(t1) × cos(t2) × cos(g1 − g2))\n",
    "The value 6371.01 in the previous equation wasn’t selected at random. It is the\n",
    "average radius of the Earth in kilometers.\n",
    "Create a program that allows the user to enter the latitude and longitude of two\n",
    "points on the Earth in degrees. Your program should display the distance between\n",
    "the points, following the surface of the earth, in kilometers.\n",
    "Hint: Python’s trigonometric functions operate in radians. As a result, you will\n",
    "need to convert the user’s input from degrees to radians before computing the\n",
    "distance with the formula discussed previously. The math module contains a\n",
    "function named radians which converts from degrees to radians."
   ]
  },
  {
   "cell_type": "code",
   "execution_count": 84,
   "id": "38f0bcd4",
   "metadata": {},
   "outputs": [
    {
     "name": "stdout",
     "output_type": "stream",
     "text": [
      "Enter (t1, g1):14, 23\n",
      "Enter (t2, g2):14, 50\n",
      "The distance between the two points is 2911.48km\n"
     ]
    }
   ],
   "source": [
    "# what: read longitude and latitude, (Convert to rad), compute distance, display distance\n",
    "# how: in km, using python units(rad)\n",
    "import math as m\n",
    "\n",
    "point_1 = list(input(\"Enter (t1, g1):\").split(\",\"))\n",
    "point_2 = list(input(\"Enter (t2, g2):\").split(\",\"))\n",
    "\n",
    "point1_rad = [m.radians(int(point_1[0])), m.radians(int(point_1[1]))]\n",
    "point2_rad = [m.radians(int(point_2[0])), m.radians(int(point_2[1]))]\n",
    "\n",
    "t1 = point1_rad[0]\n",
    "g1 = point1_rad[1]\n",
    "t2 = point2_rad[0]\n",
    "g2 = point2_rad[1]\n",
    "\n",
    "distance = 6371.01 * m.acos(m.sin(t1) * m.sin(t2) + m.cos(t1) * m.cos(t2) * m.cos(g1 - g2))\n",
    "\n",
    "print(\"The distance between the two points is {:.2f}km\".format(distance))"
   ]
  },
  {
   "cell_type": "markdown",
   "id": "5bdb45c0",
   "metadata": {},
   "source": [
    "Consider the software that runs on a self-checkout machine. One task that it must be\n",
    "able to perform is to determine how much change to provide when the shopper pays\n",
    "for a purchase with cash.\n",
    "Write a program that begins by reading a number of cents from the user as an\n",
    "integer. Then your program should compute and display the denominations of the\n",
    "coins that should be used to give that amount of change to the shopper. The change\n",
    "should be given using as few coins as possible. Assume that the machine is loaded\n",
    "with pennies, nickels, dimes, quarters, loonies and toonies.\n",
    "A one dollar coin was introduced in Canada in 1987. It is referred to as a loonie\n",
    "because one side of the coin has a loon (a type of bird) on it. The two dollar\n",
    "coin, referred to as a toonie, was introduced 9 years later. It’s name is derived\n",
    "from the combination of the number two and the name of the loonie.\n"
   ]
  },
  {
   "cell_type": "code",
   "execution_count": 94,
   "id": "a73d78d4",
   "metadata": {},
   "outputs": [
    {
     "name": "stdout",
     "output_type": "stream",
     "text": [
      "Enter Change(in cents): 123458\n",
      "\n",
      "Toonies: 617\n",
      "Loonies: 0\n",
      "quarter: 2\n",
      "Dime: 0\n",
      "Nickel: 1\n",
      "Penny: 3\n",
      "\n"
     ]
    }
   ],
   "source": [
    "# what: store exchange rates, read total change, compute into different denomiation, \n",
    "# how: total change in cents, fewest coins possible - denomiation(fom highest to lowest)\n",
    "\n",
    "cents_per_penny = 1\n",
    "cents_per_nickel = 5\n",
    "cents_per_dime = 10\n",
    "cents_per_quarter = 25\n",
    "cents_per_loonies = 100\n",
    "cents_per_toonie = 200\n",
    "\n",
    "total_change = int(input(\"Enter Change(in cents): \"))\n",
    "remainder = 0\n",
    "\n",
    "number_of_toonie = total_change//cents_per_toonie\n",
    "remainder = total_change%cents_per_toonie\n",
    "\n",
    "number_of_loonies = remainder//cents_per_loonies\n",
    "remainder = remainder%cents_per_loonies\n",
    "\n",
    "number_of_quarter = remainder//cents_per_quarter\n",
    "remainder = remainder%cents_per_quarter\n",
    "\n",
    "number_of_dime = remainder//cents_per_dime\n",
    "remainder = remainder%cents_per_dime\n",
    "\n",
    "number_of_nickel = remainder//cents_per_nickel\n",
    "remainder = remainder%cents_per_nickel\n",
    "\n",
    "number_of_penny = remainder//cents_per_penny\n",
    "remainder = remainder%cents_per_penny\n",
    "\n",
    "print(\"\"\"\n",
    "Toonies: {}\n",
    "Loonies: {}\n",
    "quarter: {}\n",
    "Dime: {}\n",
    "Nickel: {}\n",
    "Penny: {}\n",
    "\"\"\".format(number_of_toonie, number_of_loonies, number_of_quarter, number_of_dime, number_of_nickel, number_of_penny))\n",
    "\n",
    "\n"
   ]
  },
  {
   "cell_type": "markdown",
   "id": "24759f12",
   "metadata": {},
   "source": [
    "Many people think about their height in feet and inches, even in some countries that\n",
    "primarily use the metric system. Write a program that reads a number of feet from\n",
    "the user, followed by a number of inches. Once these values are read, your program\n",
    "should compute and display the equivalent number of centimeters.\n",
    "Hint: One foot is 12 inches. One inch is 2.54 centimeters."
   ]
  },
  {
   "cell_type": "code",
   "execution_count": 99,
   "id": "f31e0569",
   "metadata": {},
   "outputs": [
    {
     "name": "stdout",
     "output_type": "stream",
     "text": [
      "Enter height(X ft, Y inches):5, 7\n",
      "Height(in cm):  170.18\n"
     ]
    }
   ],
   "source": [
    "# what: store conversion, read height, compute conversion, display result\n",
    "# How: in feet and inches, result in cm\n",
    "\n",
    "foot_to_inch = 12\n",
    "inch_to_cm = 2.54\n",
    "\n",
    "height = list(input(\"Enter height(X ft, Y inches):\").split(\",\"))\n",
    "\n",
    "ft_conv = float(height[0]) * foot_to_inch * inch_to_cm\n",
    "inch_conv = float(height[1]) * inch_to_cm\n",
    "\n",
    "result = ft_conv + inch_conv\n",
    "\n",
    "print(\"Height(in cm): \", result)"
   ]
  },
  {
   "cell_type": "code",
   "execution_count": null,
   "id": "5452413a",
   "metadata": {},
   "outputs": [],
   "source": []
  },
  {
   "cell_type": "markdown",
   "id": "782b6181",
   "metadata": {},
   "source": [
    "In this exercise, you will create a program that begins by reading a measurement\n",
    "in feet from the user. Then your program should display the equivalent distance in\n",
    "inches, yards and miles. Use the Internet to look up the necessary conversion factors\n",
    "if you don’t have them memorized."
   ]
  },
  {
   "cell_type": "code",
   "execution_count": 101,
   "id": "068199a9",
   "metadata": {},
   "outputs": [
    {
     "name": "stdout",
     "output_type": "stream",
     "text": [
      "Enter measurement(in ft):30\n",
      "Equivalent measures\n",
      "Inches: 360.00\n",
      "Yards: 10.00\n",
      "Miles: 0.005682\n"
     ]
    }
   ],
   "source": [
    "# what: store conversion rates, read meausremnet, compute conversions, display results\n",
    "ft_to_in = 12\n",
    "ft_to_yards = 0.3333\n",
    "ft_to_miles = 0.000189394\n",
    "\n",
    "feet = float(input(\"Enter measurement(in ft):\"))\n",
    "\n",
    "conv_to_in = feet * ft_to_in\n",
    "conv_to_yards = feet * ft_to_yards\n",
    "conv_to_miles = feet * ft_to_miles\n",
    "\n",
    "print(\"Equivalent measures\\nInches: {:.2f}\\nYards: {:.2f}\\nMiles: {:.6f}\".format(conv_to_in,conv_to_yards,conv_to_miles))"
   ]
  },
  {
   "cell_type": "markdown",
   "id": "0b3ea851",
   "metadata": {},
   "source": [
    "Write a program that begins by reading a radius, r , from the user. The program will\n",
    "continue by computing and displaying the area of a circle with radius r and the\n",
    "volume of a sphere with radius r . Use the pi constant in the math module in your\n",
    "calculations.\n",
    "Hint: The area of a circle is computed using the formula area = πr 2. The\n",
    "volume of a sphere is computed using the formula volume = 4\n",
    "3πr 3."
   ]
  },
  {
   "cell_type": "code",
   "execution_count": 102,
   "id": "693c47c3",
   "metadata": {},
   "outputs": [
    {
     "name": "stdout",
     "output_type": "stream",
     "text": [
      "Enter radius:5\n",
      "Area is 78.54\n",
      "Volume is 523.60\n"
     ]
    }
   ],
   "source": [
    "# what: read radius, compute area and volume, display result\n",
    "# how: utilizing pi in math module\n",
    "import math as m\n",
    "\n",
    "radius = float(input(\"Enter radius:\"))\n",
    "\n",
    "area = m.pi * (radius**2)\n",
    "volume = m.pi * (4/3) * (radius**3)\n",
    "\n",
    "print(\"Area is {:.2f}\\nVolume is {:.2f}\".format(area,volume))"
   ]
  },
  {
   "cell_type": "markdown",
   "id": "feb8de18",
   "metadata": {},
   "source": [
    "The amount of energy required to increase the temperature of one gram of a material\n",
    "by one degree Celsius is the material’s specific heat capacity, C. The total amount\n",
    "of energy, q, required to raise m grams of a material by ΔT degrees Celsius can be\n",
    "computed using the formula:\n",
    "q = mCΔT\n",
    "Write a program that reads the mass of some water and the temperature change from\n",
    "the user. Your program should display the total amount of energy that must be added\n",
    "or removed to achieve the desired temperature change.\n",
    "Hint: The specific heat capacity of water is 4.186 J\n",
    "g◦C. Because water has a\n",
    "density of 1.0 grams per milliliter, you can use grams and milliliters interchangeably\n",
    "in this exercise.\n",
    "Extend your program so that it also computes the cost of heating the water. Electricity\n",
    "is normally billed using units of kilowatt hours rather than Joules. In this\n",
    "exercise, you should assume that electricity costs 8.9 cents per kilowatt hour. Use\n",
    "your program to compute the cost of boiling the water needed for a cup of coffee.\n",
    "Hint: You will need to look up the factor for converting between Joules and\n",
    "kilowatt hours to complete the last part of this exercise."
   ]
  },
  {
   "cell_type": "code",
   "execution_count": 106,
   "id": "197dcbed",
   "metadata": {},
   "outputs": [
    {
     "name": "stdout",
     "output_type": "stream",
     "text": [
      "Enter mass(in grams):200\n",
      "Enter desired temperature change:20\n",
      "Total amount of energy required: 16744.00J\n",
      "Cost of heating is 0.04\n"
     ]
    }
   ],
   "source": [
    "# what: store parameters(C,density, electricity cost), read mass and temp Change, compute energy, compute cost of heating\n",
    "\n",
    "C = 4.186\n",
    "density = 1\n",
    "cost_per_kwh = 8.9\n",
    "joule_to_kwh = 2.777778*10**-7\n",
    "\n",
    "mass = float(input(\"Enter mass(in grams):\"))\n",
    "temp_change = float(input(\"Enter desired temperature change:\"))\n",
    "\n",
    "req_energy = mass * C * temp_change\n",
    "\n",
    "conv_to_kwh = req_energy * joule_to_kwh\n",
    "cost = cost_per_kwh * conv_to_kwh\n",
    "\n",
    "print(\"Total amount of energy required: {:.2f}J\\nCost of heating is {:.2f}\".format(req_energy, cost))\n",
    "\n",
    "\n",
    "\n"
   ]
  },
  {
   "cell_type": "markdown",
   "id": "95a37f06",
   "metadata": {},
   "source": [
    "The volume of a cylinder can be computed by multiplying the area of its circular\n",
    "base by its height. Write a program that reads the radius of the cylinder, along with\n",
    "its height, from the user and computes its volume. Display the result rounded to one\n",
    "decimal place."
   ]
  },
  {
   "cell_type": "code",
   "execution_count": 108,
   "id": "33bcb797",
   "metadata": {},
   "outputs": [
    {
     "name": "stdout",
     "output_type": "stream",
     "text": [
      "Enter radius:5\n",
      "Enter height of cylinder:10\n",
      "Volume of cylinder is 785.4\n"
     ]
    }
   ],
   "source": [
    "# what: read radius and height, compute volume, display result\n",
    "# how: utilize pi from math module, result in 1dp\n",
    "import math as m\n",
    "\n",
    "radius = float(input(\"Enter radius:\"))\n",
    "height = float(input(\"Enter height of cylinder:\"))\n",
    "\n",
    "volume = (m.pi * radius**2) * height\n",
    "\n",
    "print(\"Volume of cylinder is {:.1f}\".format(volume))"
   ]
  },
  {
   "cell_type": "markdown",
   "id": "81e3351b",
   "metadata": {},
   "source": [
    "Create a program that determines how quickly an object is travelling when it hits the\n",
    "ground. The user will enter the height from which the object is dropped in meters (m).\n",
    "Because the object is dropped its initial speed is 0m/s. Assume that the acceleration\n",
    "due to gravity is 9.8m/s2. You can use the formula vf =\n",
    "\u0002\n",
    "v2\n",
    "i\n",
    "+ 2ad to compute the\n",
    "final speed, vf , when the initial speed, vi , acceleration, a, and distance, d, are known."
   ]
  },
  {
   "cell_type": "code",
   "execution_count": 110,
   "id": "21f984c8",
   "metadata": {},
   "outputs": [
    {
     "name": "stdout",
     "output_type": "stream",
     "text": [
      "Enter height:20\n",
      "The final speed is 19.80m/s\n"
     ]
    }
   ],
   "source": [
    "# what: store parameters, read height, compute final speed, display result\n",
    "# how: utilize sqrt function in math module, \n",
    "acc_due_to_gravity = 9.8\n",
    "init_speed = 0\n",
    "\n",
    "height = float(input(\"Enter height:\"))\n",
    "\n",
    "final_speed = m.sqrt(init_speed**2 + (2 * acc_due_to_gravity * height))\n",
    "\n",
    "print(\"The final speed is {:.2f}m/s\".format(final_speed))"
   ]
  },
  {
   "cell_type": "markdown",
   "id": "bf3a4cda",
   "metadata": {},
   "source": [
    "The ideal gas law is a mathematical approximation of the behavior of gasses as\n",
    "pressure, volume and temperature change. It is usually stated as:\n",
    "PV = nRT\n",
    "where P is the pressure in Pascals, V is the volume in liters, n is the amount of\n",
    "substance in moles, R is the ideal gas constant, equal to 8.314 J\n",
    "mol K , and T is the\n",
    "temperature in degrees Kelvin.\n",
    "18 1 Introduction to Programming\n",
    "Write a program that computes the amount of gas in moles when the user supplies\n",
    "the pressure, volume and temperature. Test your program by determining the number\n",
    "of moles of gas in a SCUBA tank. A typical SCUBA tank holds 12 liters of gas at\n",
    "a pressure of 20,000,000 Pascals (approximately 3,000 PSI). Room temperature is\n",
    "approximately 20 degrees Celsius or 68 degrees Fahrenheit.\n",
    "Hint: A temperature is converted from Celsius to Kelvin by adding 273.15\n",
    "to it. To convert a temperature from Fahrenheit to Kelvin, deduct 32 from it,\n",
    "multiply it by 59\n",
    "and then add 273.15 to it."
   ]
  },
  {
   "cell_type": "code",
   "execution_count": 111,
   "id": "2bda8866",
   "metadata": {},
   "outputs": [
    {
     "name": "stdout",
     "output_type": "stream",
     "text": [
      "Enter pressure(in Pascals):20000000\n",
      "Enter Volume(in litres):12\n",
      "Enter temperature(in Celsius):20\n",
      "Amount of gas(in moles) is 98471.67\n"
     ]
    }
   ],
   "source": [
    "# what: store parameters, read (pressure, volume and temperature), conversion(temp) compute amount of gas,  \n",
    "# How: amount of gas in moles, temperature in calculation is Kelvin\n",
    "\n",
    "R = 8.314\n",
    "\n",
    "pressure = float(input(\"Enter pressure(in Pascals):\"))\n",
    "volume = float(input(\"Enter Volume(in litres):\"))\n",
    "temp = float(input(\"Enter temperature(in Celsius):\"))\n",
    "\n",
    "conv_to_kelvin = temp + 273.15\n",
    "\n",
    "amount_of_gas = (pressure * volume)/(R * conv_to_kelvin)\n",
    "\n",
    "print(\"Amount of gas(in moles) is {:.2f}\".format(amount_of_gas))"
   ]
  },
  {
   "cell_type": "markdown",
   "id": "b8bcc5a4",
   "metadata": {},
   "source": [
    "The area of a triangle can be computed using the following formula, where b is the\n",
    "length of the base of the triangle, and h is its height:\n",
    "area = b × h\n",
    "2\n",
    "Write a program that allows the user to enter values for b and h. The program should\n",
    "then compute and display the area of a triangle with base length b and height h."
   ]
  },
  {
   "cell_type": "code",
   "execution_count": 112,
   "id": "93588f84",
   "metadata": {},
   "outputs": [
    {
     "name": "stdout",
     "output_type": "stream",
     "text": [
      "Enter Height: 2\n",
      "Enter breadth: 3\n",
      "Area is 3.00\n"
     ]
    }
   ],
   "source": [
    "# what: read (breadth and height), compute area, display result\n",
    "\n",
    "height = float(input(\"Enter Height: \"))\n",
    "breadth = float(input(\"Enter breadth: \"))\n",
    "\n",
    "area = (breadth * height)/2\n",
    "\n",
    "print(\"Area is {:.2f}\".format(area))"
   ]
  },
  {
   "cell_type": "markdown",
   "id": "0330118c",
   "metadata": {},
   "source": [
    "In the previous exercise you created a program that computed the area of a triangle\n",
    "when the length of its base and its height were known. It is also possible to compute\n",
    "the area of a triangle when the lengths of all three sides are known. Let s1, s2 and s3\n",
    "be the lengths of the sides. Let s = (s1 + s2 + s3)/2. Then the area of the triangle\n",
    "can be calculated using the following formula:\n",
    "area =\n",
    "\u0003\n",
    "s × (s − s1) × (s − s2) × (s − s3)\n",
    "Develop a program that reads the lengths of the sides of a triangle from the user and\n",
    "displays its area."
   ]
  },
  {
   "cell_type": "code",
   "execution_count": 114,
   "id": "7f36e225",
   "metadata": {},
   "outputs": [
    {
     "name": "stdout",
     "output_type": "stream",
     "text": [
      "Enter length of side 1:4\n",
      "Enter length of side 2:5\n",
      "Enter length of side 3:2\n",
      "Area of triangle is 3.80\n"
     ]
    }
   ],
   "source": [
    "# what: read (length of sides), compute area, display result\n",
    "# how: utlize the sqrt function in math module\n",
    "\n",
    "import math as m\n",
    "\n",
    "s1 = float(input(\"Enter length of side 1:\"))\n",
    "s2 = float(input(\"Enter length of side 2:\"))\n",
    "s3 = float(input(\"Enter length of side 3:\"))\n",
    "\n",
    "\n",
    "s = (s1 + s2 + s3)/2\n",
    "area = m.sqrt(s * (s - s1) * (s - s2) * (s - s3))\n",
    "\n",
    "print(\"Area of triangle is {:.2f}\".format(area))"
   ]
  },
  {
   "cell_type": "markdown",
   "id": "ec1f92fc",
   "metadata": {},
   "source": [
    "A polygon is regular if its sides are all the same length and the angles between all of\n",
    "the adjacent sides are equal. The area of a regular polygon can be computed using\n",
    "the following formula, where s is the length of a side and n is the number of sides:\n",
    "1.6 Exercises 19\n",
    "area = n × s2\n",
    "4 × tan\n",
    "\u0004\n",
    "π\n",
    "n\n",
    "\u0005\n",
    "Write a program that reads s and n from the user and then displays the area of a\n",
    "regular polygon constructed from these values.\n"
   ]
  },
  {
   "cell_type": "code",
   "execution_count": 8,
   "id": "c0094f5c",
   "metadata": {},
   "outputs": [
    {
     "name": "stdout",
     "output_type": "stream",
     "text": [
      "Enter length:4\n",
      "Enter number of sides:4\n",
      "The area of the polygon is 16.00\n"
     ]
    }
   ],
   "source": [
    "# what: read (length of side, number of sides), compute area, display result\n",
    "# how: utilizing the (tan and pi) from math module\n",
    "import math as m\n",
    "\n",
    "length = float(input(\"Enter length:\"))\n",
    "num_of_sides = int(input(\"Enter number of sides:\"))\n",
    "\n",
    "area = (num_of_sides * length**2)/(4 * m.tan(m.pi/num_of_sides))\n",
    "\n",
    "print(\"The area of the polygon is {:.2f}\".format(area))"
   ]
  },
  {
   "cell_type": "markdown",
   "id": "f62c891b",
   "metadata": {},
   "source": [
    "Create a program that reads a duration from the user as a number of days, hours,\n",
    "minutes, and seconds. Compute and display the total number of seconds represented\n",
    "by this duration."
   ]
  },
  {
   "cell_type": "code",
   "execution_count": 10,
   "id": "d8359c07",
   "metadata": {},
   "outputs": [
    {
     "name": "stdout",
     "output_type": "stream",
     "text": [
      "Enter duration(in DD:HH:MM:SS):1:5:6:9\n",
      "The total number of seconds in the duration is: 104769\n"
     ]
    }
   ],
   "source": [
    "# what: store conversations, reads (Format of DD:HH:MM:SS), compute the conversion, display result\n",
    "# how: results in seconds\n",
    "mins_to_sec = 60\n",
    "hr_to_sec = 60 * mins_to_sec\n",
    "day_to_sec = 24 * hr_to_sec\n",
    "\n",
    "duration = list(input(\"Enter duration(in DD:HH:MM:SS):\").split(\":\"))\n",
    "\n",
    "day = int(duration[0])\n",
    "hrs = int(duration[1])\n",
    "mins = int(duration[2])\n",
    "secs = int(duration[3])\n",
    "\n",
    "conver = (day * day_to_sec) + (hrs * hr_to_sec) + (mins * mins_to_sec) + secs\n",
    "\n",
    "print(\"The total number of seconds in the duration is: {}\".format(conver))\n",
    "\n"
   ]
  },
  {
   "cell_type": "markdown",
   "id": "b6701570",
   "metadata": {},
   "source": [
    "In this exercise you will reverse the process described in Exercise 24. Develop a\n",
    "program that begins by reading a number of seconds from the user. Then your program\n",
    "should display the equivalent amount of time in the form D:HH:MM:SS, where D,\n",
    "HH,MM,and SS represent days, hours, minutes and seconds respectively. The hours,\n",
    "minutes and seconds should all be formatted so that they occupy exactly two digits.\n",
    "Use your research skills determine what additional character needs to be included in\n",
    "the format specifier so that leading zeros are used instead of leading spaces when a\n",
    "number is formatted to a particular width"
   ]
  },
  {
   "cell_type": "code",
   "execution_count": 24,
   "id": "07e263b2",
   "metadata": {},
   "outputs": [
    {
     "name": "stdout",
     "output_type": "stream",
     "text": [
      "Enter duration(in seconds):105769\n",
      "The equivalent amount of time in form DD:HH:MM:SS is 01:05:22:49\n"
     ]
    }
   ],
   "source": [
    "# what: store conversion rates, read (number of secs), compute conversion, display result\n",
    "# how: result in DD:HH:MM:SS format\n",
    "\n",
    "mins_to_sec = 60\n",
    "hr_to_sec = 60 * mins_to_sec\n",
    "day_to_sec = 24 * hr_to_sec\n",
    "\n",
    "duration = int(input(\"Enter duration(in seconds):\"))\n",
    "remainder = 0\n",
    "\n",
    "days = duration // day_to_sec\n",
    "remainder = duration % day_to_sec\n",
    "\n",
    "hrs = remainder // hr_to_sec\n",
    "remainder = remainder % hr_to_sec\n",
    "\n",
    "mins = remainder // mins_to_sec\n",
    "remainder = remainder % mins_to_sec\n",
    "\n",
    "seconds = remainder\n",
    "\n",
    "print(\"The equivalent amount of time in form DD:HH:MM:SS is {:02d}:{:02d}:{:02d}:{:02d}\".format(days, hrs, mins, seconds))"
   ]
  },
  {
   "cell_type": "markdown",
   "id": "36eea394",
   "metadata": {},
   "source": [
    "Python’s time module includes several time-related functions. One of these is the\n",
    "asctime function which reads the current time from the computer’s internal clock\n",
    "and returns it in a human-readable format. Use this function to write a program that\n",
    "displays the current time and date. Your program will not require any input from the\n",
    "user."
   ]
  },
  {
   "cell_type": "code",
   "execution_count": 26,
   "id": "d7ee962a",
   "metadata": {},
   "outputs": [
    {
     "name": "stdout",
     "output_type": "stream",
     "text": [
      "Current time is Wed Aug 28 09:02:07 2024\n"
     ]
    }
   ],
   "source": [
    "# what: get current time, display result\n",
    "# how: the time module\n",
    "import time\n",
    "\n",
    "current_time = time.asctime()\n",
    "\n",
    "print(\"Current time is {}\".format(current_time))"
   ]
  },
  {
   "cell_type": "markdown",
   "id": "37b816a6",
   "metadata": {},
   "source": [
    "Easter is celebrated on the Sunday immediately after the first full moon following the\n",
    "spring equinox. Because its date includes a lunar component, Easter does not have\n",
    "a fixed date in the Gregorian calendar. Instead, it can occur on any date between\n",
    "March 22 and April 25. The month and day for Easter can be computed for a given\n",
    "year using the Anonymous Gregorian Computus algorithm, which is shown below.\n",
    "Set a equal to the remainder when year is divided by 19\n",
    "Set b equal to the floor of year divided by 100\n",
    "Set c equal to the remainder when year is divided by 100\n",
    "Set d equal to the floor of b divided by 4\n",
    "Set e equal to the remainder when b is divided by 4\n",
    "Set f equal to the floor of\n",
    "b + 8\n",
    "25\n",
    "Set g equal to the floor of\n",
    "b − f + 1\n",
    "3\n",
    "Set h equal to the remainder when 19a + b − d − g + 15 is divided by 30\n",
    "Set i equal to the floor of c divided by 4\n",
    "Set k equal to the remainder when c is divided by 4\n",
    "Set l equal to the remainder when 32 + 2e + 2i − h − k is divided by 7\n",
    "Set m equal to the floor of\n",
    "a + 11h + 22l\n",
    "451\n",
    "Set month equal to the floor of\n",
    "h + l − 7m + 114\n",
    "31\n",
    "Set day equal to one plus the remainder when h + l − 7m + 114 is divided\n",
    "by 31\n",
    "Write a program that implements the Anonymous Gregorian Computus algorithm\n",
    "to compute the date of Easter. Your program should read the year from the user and\n",
    "then display a appropriate message that includes the date of Easter in that year."
   ]
  },
  {
   "cell_type": "code",
   "execution_count": 29,
   "id": "2aa877d0",
   "metadata": {},
   "outputs": [
    {
     "name": "stdout",
     "output_type": "stream",
     "text": [
      "Enter year:2025\n",
      "The date of the Easter is Day 20 of Month 4\n"
     ]
    }
   ],
   "source": [
    "# what: read year, compute Easter date, display result\n",
    "# how: computation by Gregorian computus algorithm\n",
    "\n",
    "year_of_inquiry = int(input(\"Enter year:\"))\n",
    "\n",
    "a = year_of_inquiry % 19\n",
    "b = year_of_inquiry // 100\n",
    "c = year_of_inquiry % 100\n",
    "d = b // 4\n",
    "e = b % 4\n",
    "f = (b + 8) // 25\n",
    "g = (b - f + 1) // 3\n",
    "h = (19*a + b - d - g + 15) % 30\n",
    "i = c // 4\n",
    "k = c % 4\n",
    "l = (32 + 2*e + 2*i - h - k) % 7\n",
    "m = (a + 11*h + 22*l) // 451\n",
    "\n",
    "month = (h + l - 7*m + 114) // 31\n",
    "day = ((h + l - 7*m + 114) % 31) + 1\n",
    "\n",
    "print(\"The date of the Easter is Day {} of Month {}\".format(day, month))\n"
   ]
  },
  {
   "cell_type": "markdown",
   "id": "e4044908",
   "metadata": {},
   "source": [
    "Write a program that computes the body mass index (BMI) of an individual. Your\n",
    "program should begin by reading a height and weight from the user. Then it should\n",
    "use one of the following two formulas to compute the BMI before displaying it. If\n",
    "you read the height in inches and the weight in pounds then body mass index is\n",
    "computed using the following formula:\n",
    "BMI = weight\n",
    "height × height\n",
    "× 703\n",
    "If you read the height in meters and the weight in kilograms then body mass index\n",
    "is computed using this slightly simpler formula:\n",
    "BMI = weight\n",
    "height × height"
   ]
  },
  {
   "cell_type": "code",
   "execution_count": 30,
   "id": "eab7b8a9",
   "metadata": {},
   "outputs": [
    {
     "name": "stdout",
     "output_type": "stream",
     "text": [
      "Enter weight(in kg):68\n",
      "Enter height(in meters):1.6\n",
      "BMI is 0.62\n"
     ]
    }
   ],
   "source": [
    "# what: read (weight and height), compute BMI, display result\n",
    "\n",
    "weight = float(input(\"Enter weight(in kg):\"))\n",
    "height = float(input(\"Enter height(in meters):\"))\n",
    "\n",
    "bmi = weight/(weight * height)\n",
    "\n",
    "print(\"BMI is {:.2f}\".format(bmi))"
   ]
  },
  {
   "cell_type": "markdown",
   "id": "92c32532",
   "metadata": {},
   "source": [
    "When the wind blows in cold weather, the air feels even colder than it actually is\n",
    "because the movement of the air increases the rate of cooling for warm objects, like\n",
    "people. This effect is known as wind chill.\n",
    "In 2001, Canada, the United Kingdom and the United States adopted the following\n",
    "formula for computing the wind chill index. Within the formula Ta is the\n",
    "air temperature in degrees Celsius and V is the wind speed in kilometers per hour.\n",
    "A similar formula with different constant values can be used for temperatures in\n",
    "degrees Fahrenheit and wind speeds in miles per hour.\n",
    "WCI = 13.12 + 0.6215Ta − 11.37V0.16 + 0.3965TaV0.16\n",
    "Write a program that begins by reading the air temperature and wind speed from the\n",
    "user. Once these values have been read your program should display the wind chill\n",
    "index rounded to the closest integer.\n",
    "The wind chill index is only considered valid for temperatures less than or\n",
    "equal to 10 degrees Celsius and wind speeds exceeding 4.8 kilometers per\n",
    "hour."
   ]
  },
  {
   "cell_type": "code",
   "execution_count": 31,
   "id": "518b7fbe",
   "metadata": {},
   "outputs": [
    {
     "name": "stdout",
     "output_type": "stream",
     "text": [
      "Enter air temperature(in celsius):20\n",
      "Enter wind speed(in km/h):30\n",
      "The WCI is 19.62\n"
     ]
    }
   ],
   "source": [
    "# what: read (air temp and wind speed), compute wind chill index(WCI), display result\n",
    "# Temp (in degree), Wind speed (in km/h)\n",
    "\n",
    "air_temp = float(input(\"Enter air temperature(in celsius):\"))\n",
    "wind_speed = float(input(\"Enter wind speed(in km/h):\"))\n",
    "\n",
    "wci = 13.12 + (0.6215 * air_temp) - (11.37 * (wind_speed**0.16)) + (0.3965 * air_temp * (wind_speed**0.16))\n",
    "\n",
    "print(\"The WCI is {:.2f}\".format(wci))"
   ]
  },
  {
   "cell_type": "markdown",
   "id": "3a4830cd",
   "metadata": {},
   "source": [
    "Write a program that begins by reading a temperature from the user in degrees\n",
    "Celsius. Then your program should display the equivalent temperature in degrees\n",
    "Fahrenheit and degrees Kelvin. The calculations needed to convert between different\n",
    "units of temperature can be found on the Internet."
   ]
  },
  {
   "cell_type": "code",
   "execution_count": 32,
   "id": "8eb31fe1",
   "metadata": {},
   "outputs": [
    {
     "name": "stdout",
     "output_type": "stream",
     "text": [
      "Enter temperature(in celsius):32\n",
      "The equivlaient temperature in kelvin and Fahrenheit is 305.15K and 89.6F respectively\n"
     ]
    }
   ],
   "source": [
    "# what: read (temp), compute conversions, display results\n",
    "\n",
    "temp_cel = float(input(\"Enter temperature(in celsius):\"))\n",
    "\n",
    "temp_kelvin = temp_cel + 273.15\n",
    "temp_fahren = temp_cel * (9/5) + 32\n",
    "\n",
    "print(\"The equivlaient temperature in kelvin and Fahrenheit is {}K and {}F respectively\".format(temp_kelvin, temp_fahren))"
   ]
  },
  {
   "cell_type": "markdown",
   "id": "4276f572",
   "metadata": {},
   "source": [
    "In this exercise you will create a program that reads a pressure from the user in kilopascals.\n",
    "Once the pressure has been read your program should report the equivalent\n",
    "pressure in pounds per square inch, millimeters of mercury and atmospheres. Use\n",
    "your research skills to determine the conversion factors between these units."
   ]
  },
  {
   "cell_type": "code",
   "execution_count": 35,
   "id": "a26e8fa1",
   "metadata": {},
   "outputs": [
    {
     "name": "stdout",
     "output_type": "stream",
     "text": [
      "Enter pressure(in Kilopascals):10\n",
      "The equivaluent pressure in psi, mmHg and atm are 1.45psi, 75.01mmHg and 0.10atm respectively\n"
     ]
    }
   ],
   "source": [
    "# what: read (pressure), compute conversions, display result\n",
    "pa_per_atm = 101325\n",
    "pa_per_psi = 6894.757\n",
    "pa_per_mmHg = 133.3224\n",
    "\n",
    "pressure_kPas = float(input(\"Enter pressure(in Kilopascals):\")) * 1000\n",
    "\n",
    "pres_psi = pressure_kPas /  pa_per_psi\n",
    "pres_mmHg = pressure_kPas / pa_per_mmHg\n",
    "pres_atm = pressure_kPas / pa_per_atm\n",
    "\n",
    "print(\"The equivaluent pressure in psi, mmHg and atm are {:.2f}psi, {:.2f}mmHg and {:.2f}atm respectively\".format(pres_psi,pres_mmHg,pres_atm))"
   ]
  },
  {
   "cell_type": "markdown",
   "id": "53d4e7b0",
   "metadata": {},
   "source": [
    "Develop a program that reads a four-digit integer from the user and displays the sum\n",
    "of its digits. For example, if the user enters 3141 then your program should display\n",
    "3+1+4+1=9."
   ]
  },
  {
   "cell_type": "code",
   "execution_count": 38,
   "id": "bc5b5fa9",
   "metadata": {},
   "outputs": [
    {
     "name": "stdout",
     "output_type": "stream",
     "text": [
      "Enter a four-digit number:3141\n",
      "The sum of all digits is  9\n"
     ]
    }
   ],
   "source": [
    "# what: read (integers), compute sum of digits, display results\n",
    "sum = 0\n",
    "\n",
    "number = list(input(\"Enter a four-digit number:\").strip(\"\"))\n",
    "for digit in number:\n",
    "    sum = sum + int(digit)\n",
    "\n",
    "print(\"The sum of all digits is \", sum)\n"
   ]
  },
  {
   "cell_type": "code",
   "execution_count": 36,
   "id": "81c62848",
   "metadata": {},
   "outputs": [
    {
     "name": "stdout",
     "output_type": "stream",
     "text": [
      "Enter a four-digit number:399\n",
      "['3', '9', '9']\n"
     ]
    }
   ],
   "source": [
    "number = list(input(\"Enter a four-digit number:\").strip(\"\"))\n",
    "\n",
    "print(number)"
   ]
  },
  {
   "cell_type": "markdown",
   "id": "89121994",
   "metadata": {},
   "source": [
    "Create a program that reads three integers from the user and displays them in sorted\n",
    "order (from smallest to largest). Use the min and max functions to find the smallest\n",
    "and largest values. The middle value can be found by computing the sum of all three\n",
    "values, and then subtracting the minimum value and the maximum value."
   ]
  },
  {
   "cell_type": "code",
   "execution_count": 39,
   "id": "0f6fde82",
   "metadata": {},
   "outputs": [
    {
     "name": "stdout",
     "output_type": "stream",
     "text": [
      "Enter number 1:2\n",
      "Enter number 2:67\n",
      "Enter number 3:23\n",
      "The sorted order(from smallest to highest) is 2, 23 and 67\n"
     ]
    }
   ],
   "source": [
    "# what: read(integers), compute sorting, display result\n",
    "\n",
    "a = int(input(\"Enter number 1:\"))\n",
    "b = int(input(\"Enter number 2:\"))\n",
    "c = int(input(\"Enter number 3:\"))\n",
    "\n",
    "smallest = min(a,b,c)\n",
    "largest = max(a,b,c)\n",
    "middle = (a+b+c) - smallest - largest\n",
    "\n",
    "print(\"The sorted order(from smallest to highest) is {}, {} and {}\".format(smallest,middle,largest))"
   ]
  },
  {
   "cell_type": "markdown",
   "id": "9f301f2d",
   "metadata": {},
   "source": [
    "A bakery sells loaves of bread for $3.49 each. Day old bread is discounted by 60\n",
    "percent. Write a program that begins by reading the number of loaves of day old\n",
    "bread being purchased from the user. Then your program should display the regular\n",
    "price for the bread, the discount because it is a day old, and the total price. Each of\n",
    "these amounts should be displayed on its own line with an appropriate label. All of\n",
    "the values should be displayed using two decimal places, and the decimal points in\n",
    "all of the numbers should be aligned when reasonable values are entered by the user"
   ]
  },
  {
   "cell_type": "code",
   "execution_count": 54,
   "id": "be036828",
   "metadata": {},
   "outputs": [
    {
     "name": "stdout",
     "output_type": "stream",
     "text": [
      "Enter number of day old loaves:2\n",
      "Original Price:   6.98\n",
      "Discount      :   4.19\n",
      "Total Price   :   2.79\n"
     ]
    }
   ],
   "source": [
    "# what: read(number of day-old loaves), compute (discount, total price), display(regular price, discount and total price)\n",
    "# how: 2dp, aligned, reasonable amount: 1-99\n",
    "normal_unit_price = 3.49\n",
    "discount_rate = 0.60\n",
    "\n",
    "number_of_aged_loaves = int(input(\"Enter number of day old loaves:\"))\n",
    "\n",
    "\n",
    "original_price = number_of_aged_loaves * normal_unit_price\n",
    "discount = discount_rate * original_price\n",
    "total_price = original_price - discount\n",
    "\n",
    "# LABELS\n",
    "label_1 = \"Original Price\"\n",
    "label_2 = \"Discount\"\n",
    "label_3 = \"Total Price\"\n",
    "\n",
    "print(\"{:14s}:   {:3.2f}\\n{:14s}:   {:3.2f}\\n{:14s}:   {:3.2f}\".format(label_1, original_price, label_2, discount, label_3, total_price))\n"
   ]
  },
  {
   "cell_type": "code",
   "execution_count": 50,
   "id": "52a0f98c",
   "metadata": {},
   "outputs": [
    {
     "data": {
      "text/plain": [
       "14"
      ]
     },
     "execution_count": 50,
     "metadata": {},
     "output_type": "execute_result"
    }
   ],
   "source": [
    "len(label_1)"
   ]
  },
  {
   "cell_type": "markdown",
   "id": "40e413da",
   "metadata": {},
   "source": [
    "# DECISION MAKING - Decide by matching"
   ]
  },
  {
   "cell_type": "markdown",
   "id": "f007658e",
   "metadata": {},
   "source": [
    "Write a program that reads an integer from the user. Then your program should\n",
    "display a message indicating whether the integer is even or odd.\n"
   ]
  },
  {
   "cell_type": "code",
   "execution_count": 3,
   "id": "74c9c6fa",
   "metadata": {},
   "outputs": [
    {
     "name": "stdout",
     "output_type": "stream",
     "text": [
      "Enter a number:23\n",
      "Odd\n"
     ]
    }
   ],
   "source": [
    "# what: read(integer), decide on evenity, display decision\n",
    "num = int(input(\"Enter a number:\"))\n",
    "\n",
    "if num % 2 == 0:\n",
    "    print(\"Even\")\n",
    "else:\n",
    "    print(\"Odd\")"
   ]
  },
  {
   "cell_type": "markdown",
   "id": "64bf266f",
   "metadata": {},
   "source": [
    "It is commonly said that one human year is equivalent to 7 dog years. However this\n",
    "simple conversion fails to recognize that dogs reach adulthood in approximately two\n",
    "years. As a result, some people believe that it is better to count each of the first two\n",
    "human years as 10.5 dog years, and then count each additional human year as 4 dog\n",
    "years.\n",
    "Write a program that implements the conversion from human years to dog years\n",
    "described in the previous paragraph. Ensure that your program works correctly for\n",
    "conversions of less than two human years and for conversions of two or more human\n",
    "years. Your program should display an appropriate error message if the user enters\n",
    "a negative number."
   ]
  },
  {
   "cell_type": "code",
   "execution_count": 8,
   "id": "65d8cf9f",
   "metadata": {},
   "outputs": [
    {
     "name": "stdout",
     "output_type": "stream",
     "text": [
      "Enter years of dog(in human years): 4\n",
      "Your dog is really 29.0 years old\n"
     ]
    }
   ],
   "source": [
    "# what: read (years), decide if >2 or not, compute conversion, display result.\n",
    "years = float(input(\"Enter years of dog(in human years): \"))\n",
    "\n",
    "if years <= 2:\n",
    "    dog_years = years * 10.5\n",
    "else:\n",
    "    dog_years = (2*10.5) + (years-2)*4\n",
    "    \n",
    "print(\"Your dog is really {:.1f} years old\".format(dog_years))"
   ]
  },
  {
   "cell_type": "markdown",
   "id": "b32feaed",
   "metadata": {},
   "source": [
    "In this exercise you will create a program that reads a letter of the alphabet from the\n",
    "user. If the user enters a, e, i, o or u then your program should display a message\n",
    "indicating that the entered letter is a vowel. If the user enters y then your program\n",
    "should display a message indicating that sometimes y is a vowel, and sometimes y is\n",
    "a consonant. Otherwise your program should display a message indicating that the\n",
    "letter is a consonant."
   ]
  },
  {
   "cell_type": "code",
   "execution_count": 10,
   "id": "dd9704b1",
   "metadata": {},
   "outputs": [
    {
     "name": "stdout",
     "output_type": "stream",
     "text": [
      "Enter letter: a\n",
      "Its a vowel\n"
     ]
    }
   ],
   "source": [
    "# what: read letter, decide/check if letter is (vowel, consononat or y), display result\n",
    "vowels = ['a',  'e', 'i', 'o', 'u']\n",
    "\n",
    "letter = input(\"Enter letter: \")\n",
    "\n",
    "if letter in vowels:\n",
    "    print(\"Its a vowel\")\n",
    "elif letter == 'y':\n",
    "    print(\"Sometimes y is a vowel, and sometimes y is a consonant\")\n",
    "else:\n",
    "    print(\"Its a consonant\")"
   ]
  },
  {
   "cell_type": "markdown",
   "id": "f14a6fdc",
   "metadata": {},
   "source": [
    "Write a program that determines the name of a shape from its number of sides. Read\n",
    "the number of sides from the user and then report the appropriate name as part of\n",
    "a meaningful message. Your program should support shapes with anywhere from 3\n",
    "up to (and including) 10 sides. If a number of sides outside of this range is entered\n",
    "then your program should display an appropriate error message."
   ]
  },
  {
   "cell_type": "code",
   "execution_count": 11,
   "id": "0e93a426",
   "metadata": {},
   "outputs": [
    {
     "name": "stdout",
     "output_type": "stream",
     "text": [
      "Enter the number of sides: 5\n",
      "Pentagon\n"
     ]
    }
   ],
   "source": [
    "# what: read (number of sides), decide on the shape, display the result\n",
    "num_of_sides = int(input(\"Enter the number of sides: \"))\n",
    "\n",
    "if num_of_sides == 3:\n",
    "    print(\"Triangle\")\n",
    "elif num_of_sides == 4:\n",
    "    print(\"Quadrilateral\")\n",
    "elif num_of_sides == 5:\n",
    "    print(\"Pentagon\")\n",
    "elif num_of_sides == 6:\n",
    "    print(\"Hexagon\")\n",
    "elif num_of_sides == 7:\n",
    "    print(\"Heptagon\")\n",
    "elif num_of_sides == 8:\n",
    "    print(\"Octogon\")\n",
    "elif num_of_sides == 9:\n",
    "    print(\"Nonagon\")\n",
    "elif num_of_sides == 10:\n",
    "    print(\"Decagon\")\n",
    "else:\n",
    "    print(\"Error: Out of scope\")"
   ]
  },
  {
   "cell_type": "markdown",
   "id": "94b0bbe8",
   "metadata": {},
   "source": [
    "The length of a month varies from 28 to 31 days. In this exercise you will create\n",
    "a program that reads the name of a month from the user as a string. Then your\n",
    "program should display the number of days in that month. Display “28 or 29 days”\n",
    "for February so that leap years are addressed."
   ]
  },
  {
   "cell_type": "code",
   "execution_count": 17,
   "id": "c39e1cda",
   "metadata": {},
   "outputs": [
    {
     "name": "stdout",
     "output_type": "stream",
     "text": [
      "Enter the month: october\n",
      "31 days\n"
     ]
    }
   ],
   "source": [
    "# what: read (name of month), check the month, display (its number of days)\n",
    "month = input(\"Enter the month: \").capitalize()\n",
    "\n",
    "if month == \"January\":\n",
    "    print(\"31 days\")\n",
    "elif month == \"February\":\n",
    "    print(\"28 or 29 days\")\n",
    "elif month == \"March\":\n",
    "    print(\"31 days\")\n",
    "elif month == \"April\":\n",
    "    print(\"30 days\")\n",
    "elif month == \"May\":\n",
    "    print(\"31 days\")\n",
    "elif month == \"June\":\n",
    "    print(\"30 days\")\n",
    "elif month == \"July\":\n",
    "    print(\"31 days\")\n",
    "elif month == \"August\":\n",
    "    print(\"31 days\")\n",
    "elif month == \"September\":\n",
    "    print(\"30 days\")\n",
    "elif month == \"October\":\n",
    "    print(\"31 days\")\n",
    "elif month == \"November\":\n",
    "    print(\"30 days\")\n",
    "elif month == \"December\":\n",
    "    print(\"31 days\")\n",
    "else:\n",
    "    print(\"Error: Check spelling or type another\")"
   ]
  },
  {
   "cell_type": "markdown",
   "id": "9bfb4d9d",
   "metadata": {},
   "source": [
    "The following table lists the sound level in decibels for several common noises.\n",
    "Noise Decibel Level\n",
    "Jackhammer 130 dB\n",
    "Gas Lawnmower 106 dB\n",
    "Alarm Clock 70 dB\n",
    "Quiet Room 40 dB\n",
    "Write a program that reads a sound level in decibels from the user. If the user\n",
    "enters a decibel level that matches one of the noises in the table then your program\n",
    "should display a message containing only that noise. If the user enters a number\n",
    "of decibels between the noises listed then your program should display a message\n",
    "indicating which noises the value is between. Ensure that your program also generates\n",
    "reasonable output for a value smaller than the quietest noise in the table, and for a\n",
    "value larger than the loudest noise in the table."
   ]
  },
  {
   "cell_type": "code",
   "execution_count": 18,
   "id": "a0167a94",
   "metadata": {},
   "outputs": [
    {
     "name": "stdout",
     "output_type": "stream",
     "text": [
      "Enter sound level: 50\n",
      "In between quiet room and alarm clock\n"
     ]
    }
   ],
   "source": [
    "# store (sound levels), read sound level, decide if (matches standard sound_levels, in between, or out of scope), display results\n",
    "\n",
    "jackhammer = 130\n",
    "gas_lawnmower = 106\n",
    "alarm_clock = 70\n",
    "quiet_room = 40\n",
    "\n",
    "sound_level = int(input(\"Enter sound level: \"))\n",
    "\n",
    "if sound_level < quiet_room:\n",
    "    print(\"More quiet than a quiet room\")\n",
    "elif sound_level == quiet_room:\n",
    "    print(\"Quiet room\")\n",
    "elif sound_level > quiet_room and sound_level < alarm_clock:\n",
    "    print(\"In between quiet room and alarm clock\")\n",
    "elif sound_level == alarm_clock:\n",
    "    print(\"Alarm clock\")\n",
    "elif sound_level > alarm_clock and sound_level < gas_lawnmower:\n",
    "    print(\"In between alarm clock and gas lawnmower\")\n",
    "elif sound_level == gas_lawnmower:\n",
    "    print(\"Gas lawnmower\")\n",
    "elif sound_level > gas_lawnmower and sound_level < jackhammer:\n",
    "    print(\"In between gas lawnmower and jackhammer\")\n",
    "elif sound_level == jackhammer:\n",
    "    print(\"Jack hammer\")\n",
    "else:\n",
    "    print(\"Louder than a Jack Hammer\")"
   ]
  },
  {
   "cell_type": "markdown",
   "id": "92a64716",
   "metadata": {},
   "source": [
    "A triangle can be classified based on the lengths of its sides as equilateral, isosceles or\n",
    "scalene. All three sides of an equilateral triangle have the same length. An isosceles\n",
    "triangle has two sides that are the same length, and a third side that is a different\n",
    "length. If all of the sides have different lengths then the triangle is scalene.\n",
    "Write a program that reads the lengths of the three sides of a triangle from the\n",
    "user. Then display a message that states the triangle’s type."
   ]
  },
  {
   "cell_type": "code",
   "execution_count": 21,
   "id": "e15d56a5",
   "metadata": {},
   "outputs": [
    {
     "name": "stdout",
     "output_type": "stream",
     "text": [
      "Enter length of side 1: 1\n",
      "Enter length of side 2: 3\n",
      "Enter length of side 3: 1\n",
      "Isosceles triangle\n"
     ]
    }
   ],
   "source": [
    "# what: read (length of sides), decide (on what triangle based on a criteria), display result\n",
    "side_1 = float(input(\"Enter length of side 1: \"))\n",
    "side_2 = float(input(\"Enter length of side 2: \"))\n",
    "side_3 = float(input(\"Enter length of side 3: \"))\n",
    "\n",
    "if side_1 != side_2 and side_1 != side_3 and side_3 != side_2:\n",
    "    print(\"Scalene triangle\")\n",
    "elif side_1 == side_2 and side_2 == side_3:\n",
    "    print(\"equivalateral triangle\")\n",
    "else:\n",
    "    print(\"Isosceles triangle\")"
   ]
  },
  {
   "cell_type": "markdown",
   "id": "1e1c17d0",
   "metadata": {},
   "source": [
    "The following table lists an octave of music notes, beginning with middle C, along\n",
    "with their frequencies.\n",
    "Note Frequency (Hz)\n",
    "C4 261.63\n",
    "D4 293.66\n",
    "E4 329.63\n",
    "F4 349.23\n",
    "G4 392.00\n",
    "A4 440.00\n",
    "B4 493.88\n",
    "\n",
    "Begin by writing a program that reads the name of a note from the user and\n",
    "displays the note’s frequency. Your program should support all of the notes listed\n",
    "previously.\n",
    "Once you have your program working correctly for the notes listed previously\n",
    "you should add support for all of the notes from C0 to C8. While this could be\n",
    "done by adding many additional cases to your if statement, such a solution is\n",
    "cumbersome, inelegant and unacceptable for the purposes of this exercise. Instead,\n",
    "you should exploit the relationship between notes in adjacent octaves. In particular,\n",
    "the frequency of any note in octave n is half the frequency of the corresponding\n",
    "note in octave n + 1. By using this relationship, you should be able to\n",
    "add support for the additional notes without adding additional cases to your if\n",
    "statement.\n",
    "Hint: You will want to access the characters in the note entered by the user\n",
    "individually when completing this exercise. Begin by separating the letter from\n",
    "the octave. Then compute the frequency for that letter in the fourth octave using\n",
    "the data in the table above. Once you have this frequency you should divide it\n",
    "by 24−x , where x is the octave number entered by the user. This will halve or\n",
    "double the frequency the correct number of times."
   ]
  },
  {
   "cell_type": "code",
   "execution_count": 31,
   "id": "95825d70",
   "metadata": {},
   "outputs": [
    {
     "name": "stdout",
     "output_type": "stream",
     "text": [
      "Enter Notes: f6\n",
      "Frequency: 1396.92\n",
      "F and octave 6\n"
     ]
    }
   ],
   "source": [
    "# what: store (note frequiencies), read (name of note), decide (the frequnecy by matching with \"note frequencies\", or a lower note), display result\n",
    "# decide the letter then the ocatve\n",
    "\n",
    "oct_4_freq = {'C': 261.63, 'D':293.66,'E':329.63,'F': 349.23,'G': 392.00,'A': 440.00, 'B': 493.88}\n",
    "\n",
    "\n",
    "note = input(\"Enter Notes: \")\n",
    "\n",
    "letter = note[0].upper()\n",
    "octave = int(note[1])\n",
    "\n",
    "if letter in oct_4_freq.keys(): # decide if letter in the KEYS\n",
    "    \n",
    "    freq_of_ocatave_4 = oct_4_freq[letter] # Use the letter as a KEY to access the frequency VALUE\n",
    "    if octave <= 8:\n",
    "        frequency =  freq_of_ocatave_4 / 2**(4 - octave)\n",
    "        print(\"Frequency: {}\".format(frequency))\n",
    "    else:\n",
    "        print(\"Out of Octaves\")\n",
    "\n",
    "\n",
    "print(\"{} and octave {}\".format(letter,octave))"
   ]
  },
  {
   "cell_type": "code",
   "execution_count": null,
   "id": "028917f6",
   "metadata": {},
   "outputs": [],
   "source": []
  },
  {
   "cell_type": "markdown",
   "id": "40c7c75d",
   "metadata": {},
   "source": [
    "In the previous question you converted from a note’s name to its frequency. In this\n",
    "question you will write a program that reverses that process. Begin by reading a\n",
    "frequency from the user. If the frequency is within one Hertz of a value listed in\n",
    "the table in the previous question then report the name of the corresponding note.\n",
    "Otherwise report that the frequency does not correspond to a known note. In this\n",
    "exercise you only need to consider the notes listed in the table. There is no need to\n",
    "consider notes from other octaves."
   ]
  },
  {
   "cell_type": "code",
   "execution_count": 35,
   "id": "8401c139",
   "metadata": {},
   "outputs": [
    {
     "name": "stdout",
     "output_type": "stream",
     "text": [
      "Enter frequency: 260.9\n",
      "C4\n"
     ]
    }
   ],
   "source": [
    "# what: store freq, read freq, decide (by matching in a range, what note), display note\n",
    "\n",
    "C4 = 261.63\n",
    "D4 = 293.66\n",
    "E4 = 329.63\n",
    "F4 = 349.23\n",
    "G4 = 392.00\n",
    "A4 = 440.00\n",
    "B4 = 493.88\n",
    "\n",
    "freq = float(input(\"Enter frequency: \"))\n",
    "\n",
    "if freq >= C4-1 and freq <= C4+1:\n",
    "    print(\"C4\")\n",
    "elif freq >= D4-1 and freq <= D4+1:\n",
    "    print(\"D4\")\n",
    "elif freq >= E4-1 and freq <= E4+1:\n",
    "    print(\"E4\")\n",
    "elif freq >= F4-1 and freq <= F4+1:\n",
    "    print(\"F4\")\n",
    "elif freq >= G4-1 and freq <= G4+1:\n",
    "    print(\"G4\")\n",
    "elif freq >= A4-1 and freq <= A4+1:\n",
    "    print(\"A4\")\n",
    "elif freq >= B4-1 and freq <= B4+1:\n",
    "    print(\"B4\")\n",
    "else:\n",
    "    print(\"No matching note\")\n"
   ]
  },
  {
   "cell_type": "markdown",
   "id": "9f8acb3d",
   "metadata": {},
   "source": [
    "It is common for images of a country’s previous leaders, or other individuals of historical\n",
    "significance, to appear on its money. The individuals that appear on banknotes\n",
    "in the United States are listed in below.\n",
    "\n",
    "Individual Amount\n",
    "George Washington $1\n",
    "Thomas Jefferson $2\n",
    "Abraham Lincoln $5\n",
    "Alexander Hamilton $10\n",
    "Andrew Jackson $20\n",
    "Ulysses S. Grant $50\n",
    "Benjamin Franklin $100\n",
    "Write a program that begins by reading the denomination of a banknote from the\n",
    "user. Then your program should display the name of the individual that appears on the\n",
    "banknote of the entered amount. An appropriate error message should be displayed\n",
    "if no such note exists.\n",
    "While two dollar banknotes are rarely seen in circulation in the United States,\n",
    "they are legal tender that can be spent just like any other denomination. The\n",
    "United States has also issued banknotes in denominations of $500, $1,000,\n",
    "$5,000, and $10,000 for public use. However, high denomination banknotes\n",
    "have not been printed since 1945 and were officially discontinued in 1969. As\n",
    "a result, we will not consider them in this exercise."
   ]
  },
  {
   "cell_type": "code",
   "execution_count": 37,
   "id": "d195e19e",
   "metadata": {},
   "outputs": [
    {
     "name": "stdout",
     "output_type": "stream",
     "text": [
      "Enter denomination: 2\n",
      "Thomas Jefferson\n"
     ]
    }
   ],
   "source": [
    "# what: read (denomination), decide (by matching to a currency, what face to return), display reuslt\n",
    "denomination = int(input(\"Enter denomination: \"))\n",
    "\n",
    "if denomination == 1:\n",
    "    print(\"George Washington\")\n",
    "elif denomination == 2:\n",
    "    print(\"Thomas Jefferson\")\n",
    "elif denomination == 5:\n",
    "    print(\"Abraham Lincoln\")\n",
    "elif denomination == 10:\n",
    "    print(\"Alexander Hamilton\")\n",
    "elif denomination == 20:\n",
    "    print(\"Andrew Jackson\")\n",
    "elif denomination == 50:\n",
    "    print(\"Ulysses S. Grant\")\n",
    "elif denomination == 100:\n",
    "    print(\"Benjamin Franklin\")\n",
    "else:\n",
    "    print(\"Not a valid currency\")\n",
    "    "
   ]
  },
  {
   "cell_type": "markdown",
   "id": "a2602daf",
   "metadata": {},
   "source": [
    "Canada has three national holidays which fall on the same dates each year.\n",
    "Holiday Date\n",
    "New Year’s Day January 1\n",
    "Canada Day July 1\n",
    "Christmas Day December 25\n",
    "Write a program that reads a month and day from the user. If the month and day\n",
    "match one of the holidays listed previously then your program should display the\n",
    "holiday’s name. Otherwise your program should indicate that the entered month and\n",
    "day do not correspond to a fixed-date holiday.\n",
    "34 2 Decision Making\n",
    "Canada has two additional national holidays, Good Friday and Labour Day,\n",
    "whose dates vary from year to year. There are also numerous provincial and\n",
    "territorial holidays, some of which have fixed dates, and some of which have\n",
    "variable dates. We will not consider any of these additional holidays in this\n",
    "exercise"
   ]
  },
  {
   "cell_type": "code",
   "execution_count": 42,
   "id": "0ba7093e",
   "metadata": {},
   "outputs": [
    {
     "name": "stdout",
     "output_type": "stream",
     "text": [
      "Enter day (1-31):1\n",
      "Enter month: january\n",
      "New years day\n"
     ]
    }
   ],
   "source": [
    "# what: read (month and a day), decide (by matching existing holiday, what kind of day it is[holiday or normal]), display result\n",
    "\n",
    "months = ['January', 'February', 'March', 'April', 'May', 'June', 'July', 'August', 'September', 'October', 'November', 'December']\n",
    "\n",
    "day = int(input(\"Enter day (1-31):\"))\n",
    "month = input(\"Enter month: \").capitalize()\n",
    "\n",
    "if month in months and day < 31:\n",
    "    if month == 'January' and day == 1:\n",
    "        print(\"New years day\")\n",
    "    elif month == 'January' and day == 1:\n",
    "        print(\"Canada day\")\n",
    "    elif month == 'January' and day == 1:\n",
    "        print(\"Christmas day\")\n",
    "    else:\n",
    "        print(\"Normal day\")\n",
    "else:\n",
    "    print(\"Not a valid data\")"
   ]
  },
  {
   "cell_type": "markdown",
   "id": "3fcfca59",
   "metadata": {},
   "source": [
    "Positions on a chess board are identified by a letter and a number. The letter identifies\n",
    "the column, while the number identifies the row, as shown below:\n",
    "1\n",
    "2\n",
    "3\n",
    "4\n",
    "5\n",
    "6\n",
    "7\n",
    "8\n",
    "a b c d e f g h\n",
    "Write a program that reads a position from the user. Use an if statement to\n",
    "determine if the column begins with a black square or a white square. Then use\n",
    "modular arithmetic to report the color of the square in that row. For example, if the\n",
    "user enters a1 then your program should report that the square is black. If the user\n",
    "enters d5 then your program should report that the square is white. Your program\n",
    "may assume that a valid position will always be entered. It does not need to perform\n",
    "any error checking."
   ]
  },
  {
   "cell_type": "code",
   "execution_count": 48,
   "id": "4119d004",
   "metadata": {},
   "outputs": [
    {
     "name": "stdout",
     "output_type": "stream",
     "text": [
      "Enter position(for example: d5): b1\n",
      "white\n"
     ]
    }
   ],
   "source": [
    "# what: read (position), decide(by matching, whether a valid row and column), decide (by matching letter and alphabet, whether black or white), display result\n",
    "valid_row = [1,2,3,4,5,6,7,8]\n",
    "valid_col = ['a', 'b', 'c', 'd', 'e', 'f', 'g', 'h']\n",
    "\n",
    "position = input(\"Enter position(for example: d5): \")\n",
    "\n",
    "pos_row = int(position[1])\n",
    "pos_col = position[0].lower()\n",
    "\n",
    "if pos_row in valid_row and pos_col in valid_col:\n",
    "    if (pos_row + valid_col.index(pos_col) + 1) % 2 == 0: \n",
    "        print(\"black\")\n",
    "    else:\n",
    "        print(\"white\")\n",
    "else:\n",
    "    print(\"Invalid position\")\n",
    "    \n",
    "# Explanation: black: sum of the row and col index is divisble by 2, else white"
   ]
  },
  {
   "cell_type": "markdown",
   "id": "68498529",
   "metadata": {},
   "source": [
    "The year is divided into four seasons: spring, summer, fall (or autumn) and winter.\n",
    "While the exact dates that the seasons change vary a little bit from year to year\n",
    "because of the way that the calendar is constructed, we will use the following dates\n",
    "for this exercise:\n",
    "Season First Day\n",
    "Spring March 20\n",
    "Summer June 21\n",
    "Fall September 22\n",
    "Winter December 21\n",
    "Create a program that reads a month and day from the user. The user will\n",
    "enter the name of the month as a string, followed by the day within the month as an\n",
    "integer. Then your program should display the season associated with the date that\n",
    "was entered."
   ]
  },
  {
   "cell_type": "code",
   "execution_count": 59,
   "id": "24c1c053",
   "metadata": {},
   "outputs": [
    {
     "name": "stdout",
     "output_type": "stream",
     "text": [
      "Enter month: february\n",
      "Enter day (1-31): 4\n",
      "Winter\n"
     ]
    }
   ],
   "source": [
    "# what: read (a day and month), decide(by matching to valid peiod, whether its a valid date), decide(by matching to season begin, season of the date), display reuslt\n",
    "\n",
    "months = ['January', 'February', 'March', 'April', 'May', 'June', 'July', 'August', 'September', 'October', 'November', 'December']\n",
    "\n",
    "month = input(\"Enter month: \").capitalize()\n",
    "day = int(input(\"Enter day (1-31): \"))\n",
    "\n",
    "if month in months and day >= 1 and day <= 31:\n",
    "    if months.index(month) >= months.index('March') and months.index(month) < months.index('June'):\n",
    "        if (month == \"March\" and day < 20):\n",
    "            print(\"Winter\")\n",
    "        else:\n",
    "            print(\"Spring\")\n",
    "    elif months.index(month) >= months.index('June') and months.index(month) < months.index('September'):\n",
    "        if (month == \"June\" and day < 21):\n",
    "            print(\"Spring\")\n",
    "        else:\n",
    "            print(\"Summer\")\n",
    "    elif months.index(month) >= months.index('September') and months.index(month) < months.index('December'):\n",
    "        if (month == \"September\" and day < 22):\n",
    "            print(\"Summer\")\n",
    "        else:\n",
    "            print(\"Fall\")\n",
    "    else: \n",
    "        if (month == \"December\" and day < 21):\n",
    "            print(\"Fall\")\n",
    "        else:\n",
    "            print(\"Winter\")\n",
    "        \n",
    "else:\n",
    "    print(\"Invalid date\")"
   ]
  },
  {
   "cell_type": "code",
   "execution_count": null,
   "id": "a085cbdd",
   "metadata": {},
   "outputs": [],
   "source": []
  },
  {
   "cell_type": "markdown",
   "id": "88d32a77",
   "metadata": {},
   "source": [
    "The horoscopes commonly reported in newspapers use the position of the sun at the\n",
    "time of one’s birth to try and predict the future. This system of astrology divides the\n",
    "year into twelve zodiac signs, as outline in the table below:\n",
    "Zodiac Sign Date Range\n",
    "Capricorn December 22 to January 19\n",
    "Aquarius January 20 to February 18\n",
    "Pisces February 19 to March 20\n",
    "Aries March 21 to April 19\n",
    "Taurus April 20 to May 20\n",
    "Gemini May 21 to June 20\n",
    "Cancer June 21 to July 22\n",
    "Leo July 23 to August 22\n",
    "Virgo August 23 to September 22\n",
    "Libra September 23 to October 22\n",
    "Scorpio October 23 to November 21\n",
    "Sagittarius November 22 to December 21\n",
    "Write a program that asks the user to enter his or her month and day of birth. Then\n",
    "your program should report the user’s zodiac sign as part of an appropriate output\n",
    "message."
   ]
  },
  {
   "cell_type": "code",
   "execution_count": null,
   "id": "91a12ed4",
   "metadata": {},
   "outputs": [],
   "source": []
  },
  {
   "cell_type": "code",
   "execution_count": 62,
   "id": "ccafbad5",
   "metadata": {},
   "outputs": [
    {
     "name": "stdout",
     "output_type": "stream",
     "text": [
      "Enter month of birth: april\n",
      "Enter day of birth: 10\n",
      "Aries\n"
     ]
    }
   ],
   "source": [
    "# what: read (birth month and day), decide(by matching to validate date, its a valid date or not), decide(by matching to Zodiac range, which zodiac sign), display result\n",
    "\n",
    "months = ['January', 'February', 'March', 'April', 'May', 'June', 'July', 'August', 'September', 'October', 'November', 'December']\n",
    "\n",
    "birth_month = input(\"Enter month of birth: \").capitalize()\n",
    "birth_day = int(input(\"Enter day of birth: \"))\n",
    "\n",
    "if birth_month in months and day >= 1 and day <= 31:\n",
    "    if (birth_month == \"January\" and day >= 20) or (birth_month == \"February\" and day <= 18)  :\n",
    "        print(\"Aquarius\")\n",
    "    elif (birth_month == \"February\" and day >= 19) or (birth_month == \"March\" and day <= 20):\n",
    "        print(\"Pisces\")\n",
    "    elif (birth_month == \"March\" and day >= 19) or (birth_month == \"April\" and day <= 19):\n",
    "        print(\"Aries\")\n",
    "    elif (birth_month == \"April\" and day >= 20) or (birth_month == \"May\" and day <= 20):\n",
    "        print(\"Taurus\")\n",
    "    elif (birth_month == \"May\" and day >= 21) or (birth_month == \"June\" and day <= 20):\n",
    "        print(\"Gemini\")\n",
    "    elif (birth_month == \"June\" and day >= 21) or (birth_month == \"July\" and day <= 22):\n",
    "        print(\"Cancer\")\n",
    "    elif (birth_month == \"July\" and day >= 19) or (birth_month == \"August\" and day <= 20):\n",
    "        print(\"Leo\")\n",
    "    elif (birth_month == \"August\" and day >= 23) or (birth_month == \"September\" and day <= 22):\n",
    "        print(\"Virgo\")\n",
    "    elif (birth_month == \"September\" and day >= 23) or (birth_month == \"October\" and day <= 22):\n",
    "        print(\"Libra\")\n",
    "    elif (birth_month == \"October\" and day >= 23) or (birth_month == \"November\" and day <= 21):\n",
    "        print(\"Scorpio\")\n",
    "    elif (birth_month == \"November\" and day >= 22) or (birth_month == \"December\" and day <= 21):\n",
    "        print(\"Sagittarius\")\n",
    "    else:\n",
    "        print(\"Capicorn\")\n",
    "else:\n",
    "    print(\"Invalid date\")\n"
   ]
  },
  {
   "cell_type": "markdown",
   "id": "cd0eacdc",
   "metadata": {},
   "source": [
    "The Chinese zodiac assigns animals to years in a 12 year cycle. One 12 year cycle is\n",
    "shown in the table below. The pattern repeats from there, with 2012 being another\n",
    "year of the dragon, and 1999 being another year of the hare.\n",
    "Year Animal\n",
    "2000 Dragon\n",
    "2001 Snake\n",
    "2002 Horse\n",
    "2003 Sheep\n",
    "2004 Monkey\n",
    "2005 Rooster\n",
    "2006 Dog\n",
    "2007 Pig\n",
    "2008 Rat\n",
    "2009 Ox\n",
    "2010 Tiger\n",
    "2011 Hare\n",
    "Write a program that reads a year from the user and displays the animal associated\n",
    "with that year. Your program should work correctly for any year greater than or equal\n",
    "to zero, not just the ones listed in the table."
   ]
  },
  {
   "cell_type": "code",
   "execution_count": 78,
   "id": "449e2537",
   "metadata": {},
   "outputs": [
    {
     "name": "stdout",
     "output_type": "stream",
     "text": [
      "Enter year: 1999\n",
      "Hare\n"
     ]
    }
   ],
   "source": [
    "# what: read (a year), decide (by matching it divisiblity, what animal it is), display result\n",
    "\n",
    "year = int(input(\"Enter year: \"))\n",
    "\n",
    "factor = year\n",
    "\n",
    "if factor % 12 == 8:\n",
    "    print(\"Dragon\")\n",
    "elif factor % 12 == 9:\n",
    "    print(\"Snake\")\n",
    "elif factor % 12 == 10:\n",
    "    print(\"Horse\")\n",
    "elif factor % 12 == 11:\n",
    "    print(\"Sheep\")\n",
    "elif factor % 12 == 0:\n",
    "    print(\"Monkey\")\n",
    "elif factor % 12 == 1:\n",
    "    print(\"Rooster\")\n",
    "elif factor % 12 == 2:\n",
    "    print(\"Dog\")\n",
    "elif factor % 12 == 3:\n",
    "    print(\"Pig\")\n",
    "elif factor % 12 == 4:\n",
    "    print(\"Rat\")\n",
    "elif factor % 12 == 5:\n",
    "    print(\"Ox\")\n",
    "elif factor % 12 == 6:\n",
    "    print(\"Tiger\")\n",
    "else:\n",
    "    print(\"Hare\")"
   ]
  },
  {
   "cell_type": "code",
   "execution_count": 75,
   "id": "1cd77d69",
   "metadata": {},
   "outputs": [
    {
     "name": "stdout",
     "output_type": "stream",
     "text": [
      "2000: 8\n",
      "2001: 9\n",
      "2002: 10\n",
      "2003: 11\n",
      "2004: 0\n",
      "2005: 1\n",
      "2006: 2\n",
      "2007: 3\n",
      "2008: 4\n",
      "2009: 5\n",
      "2010: 6\n",
      "2011: 7\n"
     ]
    }
   ],
   "source": [
    "for i in range (2000, 2012, 1):\n",
    "    print(\"{}: {}\".format(i, i%12))"
   ]
  },
  {
   "cell_type": "markdown",
   "id": "e9fcfd46",
   "metadata": {},
   "source": [
    "The following table contains earthquake magnitude ranges on the Richter scale and\n",
    "their descriptors:\n",
    "Magnitude Descriptor\n",
    "Less than 2.0 Micro\n",
    "2.0 to less than 3.0 Very Minor\n",
    "3.0 to less than 4.0 Minor\n",
    "4.0 to less than 5.0 Light\n",
    "5.0 to less than 6.0 Moderate\n",
    "6.0 to less than 7.0 Strong\n",
    "7.0 to less than 8.0 Major\n",
    "8.0 to less than 10.0 Great\n",
    "10.0 or more Meteoric\n",
    "Write a program that reads a magnitude from the user and displays the appropriate\n",
    "descriptor as part of a meaningful message. For example, if the user enters 5.5 then\n",
    "your program should indicate that a magnitude 5.5 earthquake is considered to be a\n",
    "moderate earthquake."
   ]
  },
  {
   "cell_type": "code",
   "execution_count": 79,
   "id": "436e0137",
   "metadata": {},
   "outputs": [
    {
     "name": "stdout",
     "output_type": "stream",
     "text": [
      "Enter magnitude of earthquake: 4.9\n",
      "Light\n"
     ]
    }
   ],
   "source": [
    "# what: read maginitude, decide (by matching with ranges, its size), display result\n",
    "\n",
    "earthquake_mag = float(input(\"Enter magnitude of earthquake: \"))\n",
    "\n",
    "if earthquake_mag < 2:\n",
    "    print(\"Micro\")\n",
    "elif earthquake_mag >= 2 and earthquake_mag < 3:\n",
    "    print(\"Very Minor\")\n",
    "elif earthquake_mag >= 3 and earthquake_mag < 4:\n",
    "    print(\"Minor\")\n",
    "elif earthquake_mag >= 4 and earthquake_mag < 5:\n",
    "    print(\"Light\")\n",
    "elif earthquake_mag >= 5 and earthquake_mag < 6:\n",
    "    print(\"Moderate\")\n",
    "elif earthquake_mag >= 6 and earthquake_mag < 7:\n",
    "    print(\"Strong\")\n",
    "elif earthquake_mag >= 7 and earthquake_mag < 8:\n",
    "    print(\"Major\")\n",
    "elif earthquake_mag >= 8 and earthquake_mag < 10:\n",
    "    print(\"Great\")\n",
    "else:\n",
    "    print(\"Meteoric\")"
   ]
  },
  {
   "cell_type": "markdown",
   "id": "75d0c075",
   "metadata": {},
   "source": [
    "A univariate quadratic function has the form f (x) = ax2 +bx +c, where a, b and c\n",
    "are constants, and a is non-zero. Its roots can be identified by finding the values of x\n",
    "that satisfy the quadratic equation ax2 +bx +c = 0. These values can be computed\n",
    "using the quadratic formula, shown below. A quadratic function may have 0, 1 or 2\n",
    "real roots.\n",
    "root = −b±\n",
    "√\n",
    "b2−4ac\n",
    "2a\n",
    "The portion of the expression under the square root sign is called the discriminant.\n",
    "If the discriminant is negative then the quadratic equation does not have any real\n",
    "roots. If the discriminant is 0, then the equation has one real root. Otherwise the\n",
    "equation has two real roots, and the expression must be evaluated twice, once using\n",
    "a plus sign, and once using a minus sign, when computing the numerator.\n",
    "Write a program that computes the real roots of a quadratic function. Your program\n",
    "should begin by prompting the user for the values of a, b and c. Then it should\n",
    "display a message indicating the number of real roots, along with the values of the\n",
    "real roots (if any)."
   ]
  },
  {
   "cell_type": "code",
   "execution_count": 81,
   "id": "6228d8d3",
   "metadata": {},
   "outputs": [
    {
     "name": "stdout",
     "output_type": "stream",
     "text": [
      "first num: 3\n",
      "Enter second num: 1\n",
      "Enter third: 2\n",
      "No root\n"
     ]
    }
   ],
   "source": [
    "# what: read values, compute discimant, decide(by matching to certain values, whether has real roots, or not), display result\n",
    "\n",
    "a = float(input(\"first num: \"))\n",
    "b = float(input(\"Enter second num: \"))\n",
    "c = float(input(\"Enter third: \"))\n",
    "\n",
    "discriminant = b**2 - 4*a*c\n",
    "\n",
    "if discriminant < 0:\n",
    "    print(\"No root\")\n",
    "elif discriminant == 0:\n",
    "    print(\"one root\")\n",
    "    print(\"{}\".format(b))\n",
    "else:\n",
    "    root_1 = (-b + math.sqrt(discriminant))/2*a\n",
    "    root_2 = (-b - math.sqrt(discriminant))/2*a\n",
    "    print(\"Two roots\")\n",
    "    print(\"{} and {}\".format(root_1, root_2))"
   ]
  },
  {
   "cell_type": "markdown",
   "id": "0c3b8cac",
   "metadata": {},
   "source": [
    "At a particular university, letter grades are mapped to grade points in the following\n",
    "manner:\n",
    "Letter Grade Points\n",
    "A+ 4.0\n",
    "A 4.0\n",
    "A- 3.7\n",
    "B+ 3.3\n",
    "B 3.0\n",
    "B- 2.7\n",
    "C+ 2.3\n",
    "C 2.0\n",
    "C- 1.7\n",
    "D+ 1.3\n",
    "D 1.0\n",
    "F 0\n",
    "38 2 Decision Making\n",
    "Write a program that begins by reading a letter grade from the user. Then your\n",
    "program should compute and display the equivalent number of grade points. Ensure\n",
    "that your program generates an appropriate error message if the user enters an invalid\n",
    "letter grade."
   ]
  },
  {
   "cell_type": "code",
   "execution_count": 83,
   "id": "3ea9919e",
   "metadata": {},
   "outputs": [
    {
     "name": "stdout",
     "output_type": "stream",
     "text": [
      "Enter grade letter (A+ to F): a\n",
      "4.0\n"
     ]
    }
   ],
   "source": [
    "# what: read (grade letter), decide (by matching to different grade_letters, equivalent point), display result\n",
    "grade_letter = input(\"Enter grade letter (A+ to F): \").capitalize()\n",
    "\n",
    "if grade_letter == 'A+':\n",
    "    print(4.0)\n",
    "elif grade_letter == 'A':\n",
    "    print(4.0)\n",
    "elif grade_letter == 'A-':\n",
    "    print(3.7)\n",
    "elif grade_letter == 'B+':\n",
    "    print(3.3)\n",
    "elif grade_letter == 'B':\n",
    "    print(3.0)\n",
    "elif grade_letter == 'B-':\n",
    "    print(2.7)\n",
    "elif grade_letter == 'C+':\n",
    "    print(2.3)\n",
    "elif grade_letter == 'C':\n",
    "    print(2.0)\n",
    "elif grade_letter == 'C-':\n",
    "    print(1.7)\n",
    "elif grade_letter == 'D':\n",
    "    print(1.3)\n",
    "elif grade_letter == 'E':\n",
    "    print(1)\n",
    "elif grade_letter == 'F':\n",
    "    print(0)\n",
    "else:\n",
    "    print(\"Error: No grades as \", grade_letter)"
   ]
  },
  {
   "cell_type": "markdown",
   "id": "7411b579",
   "metadata": {},
   "source": [
    "In the previous exercise you created a program that converted a letter grade into the\n",
    "equivalent number of grade points. In this exercise you will create a program that\n",
    "reverses the process and converts from a grade point value entered by the user to a\n",
    "letter grade. Ensure that your program handles grade point values that fall between\n",
    "letter grades. These should be rounded to the closest letter grade. Your program\n",
    "should report A+ if the value entered by the user is 4.0 or more."
   ]
  },
  {
   "cell_type": "code",
   "execution_count": 87,
   "id": "53875ede",
   "metadata": {},
   "outputs": [
    {
     "name": "stdout",
     "output_type": "stream",
     "text": [
      "Enter grade point: 4.2\n",
      "A+\n"
     ]
    }
   ],
   "source": [
    "# what: read (grade point), decide (by matching with different value range, its grade letter), display result\n",
    "\n",
    "\n",
    "grade_points = float(input(\"Enter grade point: \"))\n",
    "\n",
    "if grade_points >= 4.0:\n",
    "    print(\"A+\")\n",
    "elif grade_points > 3.7 and grade_points < 4.0:\n",
    "    print(\"A\")\n",
    "elif grade_points > 3.3 and grade_points < 3.7:\n",
    "    print(\"A-\")\n",
    "elif grade_points > 3.0 and grade_points < 3.3:\n",
    "    print(\"B+\")\n",
    "elif grade_points > 2.7 and grade_points < 3.0:\n",
    "    print(\"B\")\n",
    "elif grade_points > 2.3 and grade_points < 2.7:\n",
    "    print(\"B-\")\n",
    "elif grade_points > 2.0 and grade_points < 2.3:\n",
    "    print(\"C+\")\n",
    "elif grade_points > 1.7 and grade_points < 2.0:\n",
    "    print(\"C\")\n",
    "elif grade_points > 1.3 and grade_points < 1.7:\n",
    "    print(\"C-\")\n",
    "elif grade_points >= 1 and grade_points < 1.3:\n",
    "    print(\"D+\")\n",
    "elif grade_points > 0 and grade_points < 1:\n",
    "    print(\"D\")\n",
    "else:\n",
    "    print(\"F\")"
   ]
  },
  {
   "cell_type": "markdown",
   "id": "3067690f",
   "metadata": {},
   "source": [
    "At a particular company, employees are rated at the end of each year. The rating scale\n",
    "begins at 0.0, with higher values indicating better performance and resulting in larger\n",
    "raises. The value awarded to an employee is either 0.0, 0.4, or 0.6 or more. Values\n",
    "between 0.0 and 0.4, and between 0.4 and 0.6 are never used. The meaning associated\n",
    "with each rating is shown in the following table. The amount of an employee’s raise\n",
    "is $2,400.00 multiplied by their rating.\n",
    "Rating Meaning\n",
    "0.0 Unacceptable Performance\n",
    "0.4 Acceptable Performance\n",
    "0.6 or more Meritorious Performance\n",
    "Write a program that reads a rating from the user and indicates whether the performance\n",
    "for that rating is unacceptable, acceptable or meritorious. The amount\n",
    "of the employee’s raise should also be reported. Your program should display an\n",
    "appropriate error message if an invalid rating is entered."
   ]
  },
  {
   "cell_type": "code",
   "execution_count": 96,
   "id": "05938058",
   "metadata": {},
   "outputs": [
    {
     "name": "stdout",
     "output_type": "stream",
     "text": [
      "Enter rating: .6\n",
      "Meritorious performance\n",
      "Raise:  1440.0\n"
     ]
    }
   ],
   "source": [
    "# what: read (rating), decide (by matching with standard performance-rating, the perfromance), display result\n",
    "\n",
    "rating = float(input(\"Enter rating: \"))\n",
    "\n",
    "employee_raise = 2400 * rating\n",
    "\n",
    "if rating == 0:\n",
    "    print(\"Unacceptable performance\\nRaise: \", employee_raise)\n",
    "elif rating == 0.4:\n",
    "    print(\"Acceptable performance\\nRaise: \", employee_raise)\n",
    "elif rating >= 0.6:\n",
    "    print(\"Meritorious performance\\nRaise: \", employee_raise)\n",
    "else:\n",
    "    print(\"Invalid rating\")"
   ]
  },
  {
   "cell_type": "markdown",
   "id": "fc956111",
   "metadata": {},
   "source": [
    "The wavelength of visible light ranges from 380 to 750 nanometers (nm). While the\n",
    "spectrum is continuous, it is often divided into 6 colors as shown below: Color Wavelength (nm)\n",
    "Violet 380 to less than 450\n",
    "Blue 450 to less than 495\n",
    "Green 495 to less than 570\n",
    "Yellow 570 to less than 590\n",
    "Orange 590 to less than 620\n",
    "Red 620 to 750\n",
    "Write a program that reads awavelength from the user and reports its color. Display\n",
    "an appropriate error message if the wavelength entered by the user is outside of the\n",
    "visible spectrum."
   ]
  },
  {
   "cell_type": "code",
   "execution_count": 99,
   "id": "78a9b2aa",
   "metadata": {},
   "outputs": [
    {
     "name": "stdout",
     "output_type": "stream",
     "text": [
      "Enter wavelength: 600\n",
      "Orange\n"
     ]
    }
   ],
   "source": [
    "# what: read (wavelength), decide (by matching with color-range, it color), display result\n",
    "\n",
    "wavelength = int(input(\"Enter wavelength: \"))\n",
    "\n",
    "if wavelength >= 380 and wavelength < 450:\n",
    "    color = \"violet\"\n",
    "elif wavelength >= 450 and wavelength < 495:\n",
    "    color = \"Blue\"\n",
    "elif wavelength >= 495 and wavelength < 570:\n",
    "    color = \"Green\"\n",
    "elif wavelength >= 570 and wavelength < 590:\n",
    "    color = \"Yellow\"\n",
    "elif wavelength >= 590 and wavelength < 620:\n",
    "    color = \"Orange\"\n",
    "elif wavelength >= 620 and wavelength < 750:\n",
    "    color = \"Red\"\n",
    "else:\n",
    "    color = \"Invalid: Outside the spectrum\"\n",
    "print(color)"
   ]
  },
  {
   "cell_type": "markdown",
   "id": "e47c1d9f",
   "metadata": {},
   "source": [
    "Electromagnetic radiation can be classified into one of 7 categories according to its\n",
    "frequency, as shown in the table below:\n",
    "Name Frequency Range (Hz)\n",
    "Radio Waves Less than 3 × 109\n",
    "Microwaves 3 × 109 to less than 3 × 1012\n",
    "Infrared Light 3 × 1012 to less than 4.3 × 1014\n",
    "Visible Light 4.3 × 1014 to less than 7.5 × 1014\n",
    "Ultraviolet Light 7.5 × 1014 to less than 3 × 1017\n",
    "X-Rays 3 × 1017 to less than 3 × 1019\n",
    "Gamma Rays 3 × 1019 or more\n",
    "Write a program that reads the frequency of some radiation from the user and\n",
    "displays name of the radiation as part of an appropriate message."
   ]
  },
  {
   "cell_type": "markdown",
   "id": "b6c1ac0a",
   "metadata": {},
   "source": []
  },
  {
   "cell_type": "code",
   "execution_count": 102,
   "id": "64d196fc",
   "metadata": {},
   "outputs": [
    {
     "name": "stdout",
     "output_type": "stream",
     "text": [
      "Enter frequency: 6000777668\n",
      "The name of frequency 6000777668.0 is Microwaves\n"
     ]
    }
   ],
   "source": [
    "# what: read (frequency), decide (by with differnet ranges, its name), display result\n",
    "\n",
    "frequency = float(input(\"Enter frequency: \"))\n",
    "\n",
    "if frequency < (3 * 10**9):\n",
    "    name = \"Radio waves\"\n",
    "elif frequency >= (3 * 10**9) and frequency < (3 * 10**12):\n",
    "    name = \"Microwaves\"\n",
    "elif frequency >= (3 * 10**12) and frequency < (4.3 * 10**14):\n",
    "    name = \"Infrared Light\"\n",
    "elif frequency >= (4.3 * 10**14) and frequency < (7.5 * 10**14):\n",
    "    name = \"Visible Light\"\n",
    "elif frequency >= (7.5 * 10**14) and frequency < (3 * 10**17):\n",
    "    name = \"Ultraviolet Light\"\n",
    "elif frequency >= (3 * 10**17) and frequency < (3 * 10**19):\n",
    "    name = \"X-rays\"\n",
    "else:\n",
    "    name = \"Gamma rays\"\n",
    "print(\"The name of frequency {} is {}\". format(frequency, name))"
   ]
  },
  {
   "cell_type": "markdown",
   "id": "2ebc92f4",
   "metadata": {},
   "source": [
    "A particular cell phone plan includes 50 minutes of air time and 50 text messages\n",
    "for $15.00 a month. Each additional minute of air time costs $0.25, while additional\n",
    "text messages cost $0.15 each. All cell phone bills include an additional charge of\n",
    "$0.44 to support 911 call centers, and the entire bill (including the 911 charge) is\n",
    "subject to 5 percent sales tax.\n",
    "Write a program that reads the number of minutes and text messages used in a\n",
    "month from the user. Display the base charge, additional minutes charge (if any),\n",
    "additional text message charge (if any), the 911 fee, tax and total bill amount. Only\n",
    "display the additional minute and text message charges if the user incurred costs in\n",
    "these categories. Ensure that all of the charges are displayed using 2 decimal places.\n"
   ]
  },
  {
   "cell_type": "code",
   "execution_count": 3,
   "id": "5e89435d",
   "metadata": {},
   "outputs": [
    {
     "name": "stdout",
     "output_type": "stream",
     "text": [
      "Enter number of minutes used: 56\n",
      "Enter number of text sent: 8\n",
      "Base Charge: 15.00\n",
      "Additional minutes charge: 1.50\n",
      "Additional text charge: 0.00\n",
      "911 fee: 0.44\n",
      "Tax: 0.85\n",
      "Total Bill: 16.09\n"
     ]
    }
   ],
   "source": [
    "# what: read (num of minutes, num of text), decide (by matching to coverable number of text and messages, additional or not),\n",
    "# compute (additional cost, cost befre tax, tax and total bill), display result\n",
    "basic_plan = 15.00\n",
    "cost_per_extra_text = 0.15\n",
    "cost_per_extra_min = 0.25\n",
    "fee_911 = 0.44\n",
    "tax_rate = 0.05\n",
    "\n",
    "minutes_used = int(input(\"Enter number of minutes used: \"))\n",
    "text_sent = int(input(\"Enter number of text sent: \"))\n",
    "\n",
    "if minutes_used > 50 and text_sent > 50:    # both\n",
    "    extra_min = 50 - minutes_used\n",
    "    extra_text = 50 - text_sent\n",
    "    \n",
    "elif minutes_used > 50 and text_sent <= 50: # only minutes exceed\n",
    "    extra_min = minutes_used - 50\n",
    "    extra_text = 0\n",
    "    \n",
    "elif minutes_used <= 50 and text_sent > 50: # only text exceeds\n",
    "    extra_min = 0\n",
    "    extra_text = text_sent - 50\n",
    "    \n",
    "else: # none\n",
    "    extra_min = 0\n",
    "    extra_text = 0\n",
    "    \n",
    "added_text_cost = extra_text * cost_per_extra_text\n",
    "added_min_cost = extra_min * cost_per_extra_min\n",
    "cost_before_tax = basic_plan + added_min_cost + added_text_cost + fee_911\n",
    "tax = cost_before_tax * tax_rate\n",
    "\n",
    "total_bill = cost_before_tax - tax\n",
    "\n",
    "print(\"Base Charge: {:.2f}\\nAdditional minutes charge: {:.2f}\\nAdditional text charge: {:.2f}\\n911 fee: {:.2f}\\nTax: {:.2f}\\nTotal Bill: {:.2f}\".format(basic_plan, added_min_cost, added_text_cost, fee_911, tax, total_bill))\n"
   ]
  },
  {
   "cell_type": "markdown",
   "id": "854c65d8",
   "metadata": {},
   "source": [
    "Most years have 365 days. However, the time required for the Earth to orbit the Sun\n",
    "is actually slightly more than that. As a result, an extra day, February 29, is included\n",
    "in some years to correct for this difference. Such years are referred to as leap years.\n",
    "The rules for determining whether or not a year is a leap year follow:\n",
    "• Any year that is divisible by 400 is a leap year.\n",
    "• Of the remaining years, any year that is divisible by 100 is not a leap year.\n",
    "• Of the remaining years, any year that is divisible by 4 is a leap year.\n",
    "• All other years are not leap years.\n",
    "Write a program that reads a year from the user and displays a message indicating\n",
    "whether or not it is a leap year."
   ]
  },
  {
   "cell_type": "code",
   "execution_count": 4,
   "id": "7e2ff35e",
   "metadata": {},
   "outputs": [
    {
     "name": "stdout",
     "output_type": "stream",
     "text": [
      "Enter year: 2012\n",
      "Leap year\n"
     ]
    }
   ],
   "source": [
    "# what: read (year), decide (by matching to some rules, whether leap year or not), display result\n",
    "\n",
    "year = int(input(\"Enter year: \"))\n",
    "\n",
    "if year % 400 == 0:\n",
    "    kind_of_year = \"Leap year\"\n",
    "elif year % 100 == 0:\n",
    "    kind_of_year = \"Not a Leap year\"\n",
    "elif year % 4 == 0:\n",
    "    kind_of_year = \"Leap year\"\n",
    "else:\n",
    "    kind_of_year = \"Not a Leap year\"\n",
    "    \n",
    "print(kind_of_year)"
   ]
  },
  {
   "cell_type": "markdown",
   "id": "4d752569",
   "metadata": {},
   "source": [
    "Write a program that reads a date from the user and computes its immediate successor.\n",
    "For example, if the user enters values that represent 2019-11-18 then your program\n",
    "should display a message indicating that the day immediately after 2019-11-18 is\n",
    "2019-11-19. If the user enters values that represent 2019-11-30 then the program\n",
    "should indicate that the next day is 2019-12-01. If the user enters values that represent\n",
    "2019-12-31 then the program should indicate that the next day is 2020-01-01. The\n",
    "date will be entered in numeric form with three separate input statements; one for\n",
    "the year, one for the month, and one for the day. Ensure that your program works\n",
    "correctly for leap years"
   ]
  },
  {
   "cell_type": "code",
   "execution_count": 14,
   "id": "7c6fd75a",
   "metadata": {},
   "outputs": [
    {
     "name": "stdout",
     "output_type": "stream",
     "text": [
      "Enter date(YYYY-MM-DD): 2020-12-31\n",
      "Next date: 2021-01-01\n"
     ]
    }
   ],
   "source": [
    "# what: read (date), decide (by matching to the ends of month, the end of month or not), \n",
    "# [within month end decison] decide (by matching month to 12, whther end of year or not), compute next day, display result\n",
    "\n",
    "month_end31 = 31\n",
    "month_end30 = 30\n",
    "month_31 = [1, 3, 5, 7, 8, 10, 12]\n",
    "month_30 = [4, 6, 9, 11]\n",
    "\n",
    "date = input(\"Enter date(YYYY-MM-DD): \")\n",
    "\n",
    "\n",
    "day = int(date.split(\"-\")[2])\n",
    "month = int(date.split(\"-\")[1])\n",
    "year = int(date.split(\"-\")[0])\n",
    "\n",
    "if month > 12 or month in month_30 and day > 30 or month in month_31 and day > 31:\n",
    "    print(\"Invalid date\")\n",
    "else:\n",
    "    # Decide the kind of year\n",
    "    if year % 400 == 0:\n",
    "        kind_of_year = \"Leap year\"\n",
    "    elif year % 100 == 0:\n",
    "        kind_of_year = \"Not a Leap year\"\n",
    "    elif year % 4 == 0:\n",
    "        kind_of_year = \"Leap year\"\n",
    "    else:\n",
    "        kind_of_year = \"Not a Leap year\"\n",
    "\n",
    "    if day == month_end30 and month in month_30:\n",
    "        day = 1\n",
    "        month = month + 1\n",
    "\n",
    "    elif day == month_end31 and month in month_31:\n",
    "        if month == 12:\n",
    "            year = year + 1\n",
    "            month = 1\n",
    "        else:\n",
    "            month = month + 1\n",
    "        day = 1\n",
    "\n",
    "    elif day == 28 and month == 2:\n",
    "        if kind_of_year == \"Leap year\":\n",
    "            day = day + 1\n",
    "        else:\n",
    "            day = 1\n",
    "            month = month + 1\n",
    "    else:\n",
    "        day = day + 1\n",
    "\n",
    "    print(\"Next date: {:04d}-{:02d}-{:02d}\".format(year, month, day))\n",
    "\n"
   ]
  },
  {
   "cell_type": "markdown",
   "id": "a3c13aa6",
   "metadata": {},
   "source": [
    "The following formula can be used to determine the day of the week for January 1\n",
    "in a given year:\n",
    "day_of_the_week = (year + floor((year − 1) / 4) − floor((year − 1) / 100) +\n",
    "floor((year − 1) / 400)) % 7\n",
    "\n",
    "The result calculated by this formula is an integer that represents the day of the\n",
    "week. Sunday is represented by 0. The remaining days of the week following in\n",
    "sequence through to Saturday, which is represented by 6.\n",
    "Use the formula above to write a program that reads a year from the user and\n",
    "reports the day of the week for January 1 of that year. The output from your program\n",
    "should include the full name of the day of the week, not just the integer returned by\n",
    "the formula."
   ]
  },
  {
   "cell_type": "code",
   "execution_count": 17,
   "id": "600bd7c6",
   "metadata": {},
   "outputs": [
    {
     "name": "stdout",
     "output_type": "stream",
     "text": [
      "Enter year: 2020\n",
      "The day of the week for January 1 of year 2020 is Saturday\n"
     ]
    }
   ],
   "source": [
    "# what: read (Year), compute day_of_week index, decide(by matching to index, the day of the week), display result\n",
    "year = int(input(\"Enter year: \"))\n",
    "\n",
    "day_of_the_week = (year + (year - 1) // 4) - (year - 1) // 100 + ((year - 1) // 400) % 7\n",
    "\n",
    "if day_of_the_week == 0:\n",
    "    day = \"Sunday\"\n",
    "elif day_of_the_week == 1:\n",
    "    day = \"Monday\"\n",
    "elif day_of_the_week == 2:\n",
    "    day = \"Tuesday\"\n",
    "elif day_of_the_week == 3:\n",
    "    day = \"Wednesday\"\n",
    "elif day_of_the_week == 4:\n",
    "    day = \"Thursday\"\n",
    "elif day_of_the_week == 5:\n",
    "    day = \"Friday\"\n",
    "else:\n",
    "    day = \"Saturday\"\n",
    "print(\"The day of the week for January 1 of year {} is {}\".format(year, day))"
   ]
  },
  {
   "cell_type": "markdown",
   "id": "45326143",
   "metadata": {},
   "source": [
    "In a particular jurisdiction, older license plates consist of three uppercase letters\n",
    "followed by three digits. When all of the license plates following that pattern had\n",
    "been used, the format was changed to four digits followed by three uppercase letters.\n",
    "Write a program that begins by reading a string of characters from the user. Then\n",
    "your program should display a message indicating whether the characters are valid\n",
    "for an older style license plate or a newer style license plate. Your program should\n",
    "display an appropriate message if the string entered by the user is not valid for either\n",
    "style of license plate."
   ]
  },
  {
   "cell_type": "code",
   "execution_count": 39,
   "id": "b3295a93",
   "metadata": {},
   "outputs": [
    {
     "name": "stdout",
     "output_type": "stream",
     "text": [
      "Enter plate number: AAA6689\n",
      "Invalid license plate\n"
     ]
    }
   ],
   "source": [
    "# what: read (liciense plate), decide (by matching pattern, a valid or not and old or now), display result\n",
    "\n",
    "license_plate = input(\"Enter plate number: \").strip(\"\")\n",
    "\n",
    "\n",
    "if (license_plate[:3].isupper() and license_plate[3:].isalnum()) and len(license_plate) == 6: # Older \n",
    "    kind_of_license = \"Older license plate\"\n",
    "elif (license_plate[:4].isalnum() and license_plate[4:].isupper()) and len(license_plate) == 7: # Newer\n",
    "    kind_of_license = \"Newer license plate\"\n",
    "else: # Invalid \n",
    "    kind_of_license = \"Invalid license plate\"\n",
    "    \n",
    "        \n",
    "print(kind_of_license)"
   ]
  },
  {
   "cell_type": "code",
   "execution_count": 31,
   "id": "07ec9ff0",
   "metadata": {},
   "outputs": [
    {
     "data": {
      "text/plain": [
       "False"
      ]
     },
     "execution_count": 31,
     "metadata": {},
     "output_type": "execute_result"
    }
   ],
   "source": [
    "license_plate[3:].isupper()"
   ]
  },
  {
   "cell_type": "code",
   "execution_count": 32,
   "id": "3f3d17b5",
   "metadata": {},
   "outputs": [
    {
     "data": {
      "text/plain": [
       "True"
      ]
     },
     "execution_count": 32,
     "metadata": {},
     "output_type": "execute_result"
    }
   ],
   "source": [
    "license_plate[0:3].isupper()"
   ]
  },
  {
   "cell_type": "markdown",
   "id": "a4a7b677",
   "metadata": {},
   "source": [
    "Aroulette wheel has 38 spaces on it. Of these spaces, 18 are black, 18 are red, and two\n",
    "are green. The green spaces are numbered 0 and 00. The red spaces are numbered 1,\n",
    "3, 5, 7, 9, 12, 14, 16, 18, 19, 21, 23, 25, 27, 30 32, 34 and 36. The remaining integers\n",
    "between 1 and 36 are used to number the black spaces.\n",
    "Many different bets can be placed in roulette.We will only consider the following\n",
    "subset of them in this exercise:\n",
    "• Single number (1 to 36, 0, or 00)\n",
    "• Red versus Black\n",
    "• Odd versus Even (Note that 0 and 00 do not pay out for even)\n",
    "• 1 to 18 versus 19 to 36\n",
    "Write a program that simulates a spin of a roulette wheel by using Python’s\n",
    "random number generator. Display the number that was selected and all of the bets\n",
    "that must be payed. For example, if 13 is selected then your program should display:\n",
    "The spin resulted in 13...\n",
    "Pay 13\n",
    "Pay Black\n",
    "Pay Odd\n",
    "Pay 1 to 18\n",
    "If the simulation results in 0 or 00 then your program should display Pay 0\n",
    "or Pay 00 without any further output."
   ]
  },
  {
   "cell_type": "code",
   "execution_count": 44,
   "id": "cd68de86",
   "metadata": {},
   "outputs": [
    {
     "name": "stdout",
     "output_type": "stream",
     "text": [
      "Pay 31\n",
      "Pay Black\n",
      "Pay Odd\n",
      "Pay 19 and above\n",
      "\n"
     ]
    }
   ],
   "source": [
    "# what: generate (random number between 0 and 36), decide (by matching to different output category, bet outcome), display result\n",
    "\n",
    "import random\n",
    "\n",
    "red = [1, 3, 5, 7, 9, 12, 14, 16, 18, 19, 21, 23, 25, 27, 30, 32, 34, 36]\n",
    "\n",
    "num = random.randrange(0, 36)\n",
    "\n",
    "print(\"Pay\", num)\n",
    "\n",
    "if num == 0:\n",
    "    ...\n",
    "else:\n",
    "    # RED versus BLACK\n",
    "    if num in red:\n",
    "        red_v_black = \"Pay Red\"\n",
    "    else:\n",
    "        red_v_black = \"Pay Black\"\n",
    "\n",
    "    # ODD versus EVEN\n",
    "    if num % 2 == 0:\n",
    "        odd_v_even = \"Pay Even\"\n",
    "    else:\n",
    "        odd_v_even = \"Pay Odd\"\n",
    "\n",
    "    # 1 to 18 versus 19 to 36\n",
    "    if num < 18:\n",
    "        half = \"Pay 18 and under\"\n",
    "    else:\n",
    "        half = \"Pay 19 and above\"\n",
    "    print(\"{}\\n{}\\n{}\\n\".format(red_v_black, odd_v_even, half))\n"
   ]
  },
  {
   "cell_type": "markdown",
   "id": "d6cd7c7b",
   "metadata": {},
   "source": [
    "In this exercise you will create a program that computes the average of a collection\n",
    "of values entered by the user. The user will enter 0 as a sentinel value to indicate\n",
    "that no further values will be provided. Your program should display an appropriate\n",
    "error message if the first value entered by the user is 0.\n",
    "Hint: Because the 0 marks the end of the input it should not be included in the\n",
    "average."
   ]
  },
  {
   "cell_type": "code",
   "execution_count": 51,
   "id": "c20f2fb2",
   "metadata": {},
   "outputs": [
    {
     "name": "stdout",
     "output_type": "stream",
     "text": [
      "Enter number: 7\n",
      "Enter number0\n",
      "Count is:  1\n",
      "Total is:  7.0\n",
      "Average is:  7.0\n"
     ]
    }
   ],
   "source": [
    "# what: read (number until 0 is inputed), decide( by matching the first number to 0, whether to display error or not)\n",
    "# compute average, display result\n",
    "\n",
    "count = 0\n",
    "total = 0\n",
    "\n",
    "num = float(input(\"Enter number: \"))\n",
    "while (num != 0):\n",
    "    count = count + 1\n",
    "    total = total + num\n",
    "    num = float(input(\"Enter number\"))\n",
    "    \n",
    "if count < 1:\n",
    "    print(\"First number cant be zero\")\n",
    "else:\n",
    "    average = total/count\n",
    "    print(\"Count is: \", count)\n",
    "    print(\"Total is: \", total)\n",
    "    print(\"Average is: \", average)\n",
    "    \n",
    "        "
   ]
  },
  {
   "cell_type": "code",
   "execution_count": 47,
   "id": "5024acce",
   "metadata": {},
   "outputs": [
    {
     "data": {
      "text/plain": [
       "5.5"
      ]
     },
     "execution_count": 47,
     "metadata": {},
     "output_type": "execute_result"
    }
   ],
   "source": [
    "(6+5)/2"
   ]
  },
  {
   "cell_type": "markdown",
   "id": "71519735",
   "metadata": {},
   "source": [
    "A particular retailer is having a 60 percent off sale on a variety of discontinued\n",
    "products. The retailer would like to help its customers determine the reduced price\n",
    "of the merchandise by having a printed discount table on the shelf that shows the\n",
    "original prices and the prices after the discount has been applied. Write a program that\n",
    "uses a loop to generate this table, showing the original price, the discount amount,\n",
    "and the new price for purchases of $4.95, $9.95, $14.95, $19.95 and $24.95. Ensure\n",
    "that the discount amounts and the new prices are rounded to 2 decimal places when\n",
    "they are displayed."
   ]
  },
  {
   "cell_type": "code",
   "execution_count": 59,
   "id": "a27f99ce",
   "metadata": {},
   "outputs": [
    {
     "name": "stdout",
     "output_type": "stream",
     "text": [
      "Original price   Discount     New price   \n",
      "     4.95           2.97           1.98     \n",
      "     9.95           5.97           3.98     \n",
      "    14.95           8.97           5.98     \n",
      "    19.95          11.97           7.98     \n",
      "    24.95          14.97           9.98     \n"
     ]
    }
   ],
   "source": [
    "# what: stores a list of orgianl price, repeat(a computation, on each item on list), diplay result\n",
    "\n",
    "original_prices = [4.95, 9.95, 14.95, 19.95, 24.95]\n",
    "discount_rate = 0.6\n",
    "\n",
    "label_1 = \"Original price\"\n",
    "label_2 = \"Discount\"\n",
    "label_3 = \"New price\"\n",
    "\n",
    "print(\"{:^14}{:^14}{:^14}\".format(label_1, label_2, label_3))\n",
    "for price in original_prices:\n",
    "    discount = price * discount_rate\n",
    "    new_price = price - discount\n",
    "    print(\"{:^14.2f} {:^14.2f} {:^14.2f}\".format(price, discount, new_price))"
   ]
  },
  {
   "cell_type": "code",
   "execution_count": 53,
   "id": "ffe20f59",
   "metadata": {},
   "outputs": [
    {
     "data": {
      "text/plain": [
       "14"
      ]
     },
     "execution_count": 53,
     "metadata": {},
     "output_type": "execute_result"
    }
   ],
   "source": [
    "len(label_1)"
   ]
  },
  {
   "cell_type": "markdown",
   "id": "17f2cfa6",
   "metadata": {},
   "source": [
    "Write a program that displays a temperature conversion table for degrees Celsius and\n",
    "degrees Fahrenheit. The table should include rows for all temperatures between 0\n",
    "and 100 degrees Celsius that are multiples of 10 degrees Celsius. Include appropriate\n",
    "headings on your columns. The formula for converting between degrees Celsius and\n",
    "degrees Fahrenheit can be found on the Internet."
   ]
  },
  {
   "cell_type": "code",
   "execution_count": 65,
   "id": "a9f95e00",
   "metadata": {},
   "outputs": [
    {
     "name": "stdout",
     "output_type": "stream",
     "text": [
      " Celsius  Fahrenheit\n",
      "    0        32.0   \n",
      "    10       50.0   \n",
      "    20       68.0   \n",
      "    30       86.0   \n",
      "    40      104.0   \n",
      "    50      122.0   \n",
      "    60      140.0   \n",
      "    70      158.0   \n",
      "    80      176.0   \n",
      "    90      194.0   \n"
     ]
    }
   ],
   "source": [
    "# what: repeat (compute, for multiple of 10 from 0 to 100), display result\n",
    "\n",
    "label_1 = \"Celsius\"\n",
    "label_2 = \"Fahrenheit\"\n",
    "\n",
    "# Print HEADER columns\n",
    "print(\"{:^10}{:^10}\".format(label_1, label_2))\n",
    "\n",
    "for temp_celsius in range(0,100, 10):\n",
    "    temp_Fah = (temp_celsius * 9/5) + 32\n",
    "    print(\"{:^10d}{:^10}\".format(temp_celsius, temp_Fah))"
   ]
  },
  {
   "cell_type": "code",
   "execution_count": 60,
   "id": "1f05733f",
   "metadata": {},
   "outputs": [
    {
     "data": {
      "text/plain": [
       "10"
      ]
     },
     "execution_count": 60,
     "metadata": {},
     "output_type": "execute_result"
    }
   ],
   "source": [
    "len(\"Fahrenheit\")"
   ]
  },
  {
   "cell_type": "markdown",
   "id": "a7676328",
   "metadata": {},
   "source": [
    "# "
   ]
  },
  {
   "cell_type": "code",
   "execution_count": null,
   "id": "733f455b",
   "metadata": {},
   "outputs": [],
   "source": []
  },
  {
   "cell_type": "markdown",
   "id": "a8e213c1",
   "metadata": {},
   "source": [
    "February 4, 2013 was the last day that pennies were distributed by the Royal Canadian\n",
    "Mint. Now that pennies have been phased out retailers must adjust totals so that they\n",
    "are multiples of 5 cents when they are paid for with cash (credit card and debit card\n",
    "transactions continue to be charged to the penny). While retailers have some freedom\n",
    "in how they do this, most choose to round to the closest nickel.\n",
    "Write a program that reads prices from the user until a blank line is entered.\n",
    "Display the total cost of all the entered items on one line, followed by the amount\n",
    "due if the customer pays with cash on a second line. The amount due for a cash\n",
    "payment should be rounded to the nearest nickel. One way to compute the cash\n",
    "payment amount is to begin by determining how many pennies would be needed to\n",
    "pay the total. Then compute the remainder when this number of pennies is divided\n",
    "by 5. Finally, adjust the total down if the remainder is less than 2.5. Otherwise adjust\n",
    "the total up."
   ]
  },
  {
   "cell_type": "code",
   "execution_count": 78,
   "id": "0cc8c00f",
   "metadata": {},
   "outputs": [
    {
     "name": "stdout",
     "output_type": "stream",
     "text": [
      "Enter price: 7.87\n",
      "Enter price: 6.76\n",
      "Enter price: 5.84\n",
      "Enter price: \n",
      "Total price: 20.47\n",
      "Price (if cash):20.45\n"
     ]
    }
   ],
   "source": [
    "# what: read (prices, until blank is entered), compute(sum of prices), display result\n",
    "total = 0\n",
    "\n",
    "# Read prices, until blank is entered\n",
    "price = input(\"Enter price: \")\n",
    "while price != \"\":\n",
    "    price = float(price)\n",
    "    total = total + price\n",
    "    price = input(\"Enter price: \")\n",
    "\n",
    "# Get the number of pennies\n",
    "coins = (total % 1) * 100\n",
    "\n",
    "# round to the nearest multiple of 5 (a nickel)\n",
    "if coins % 5 < 2.5:\n",
    "    coins = coins - (coins % 5)  # substract to round down\n",
    "else:\n",
    "    coins = coins + (5 - coins % 5) # add to round up\n",
    "\n",
    "# compute cash total\n",
    "cash_total = (total // 1) + (coins / 100)\n",
    "\n",
    "print(\"Total price: {}\\nPrice (if cash):{}\".format(total, cash_total))\n"
   ]
  },
  {
   "cell_type": "code",
   "execution_count": null,
   "id": "3d73e5c0",
   "metadata": {},
   "outputs": [],
   "source": []
  },
  {
   "cell_type": "code",
   "execution_count": 72,
   "id": "d1656d31",
   "metadata": {},
   "outputs": [
    {
     "data": {
      "text/plain": [
       "110"
      ]
     },
     "execution_count": 72,
     "metadata": {},
     "output_type": "execute_result"
    }
   ],
   "source": [
    "108 + (5-3)"
   ]
  },
  {
   "cell_type": "markdown",
   "id": "221421ec",
   "metadata": {},
   "source": [
    "Write a program that computes the perimeter of a polygon. Begin by reading the\n",
    "x and y coordinates for the first point on the perimeter of the polygon from the\n",
    "user. Then continue reading pairs of values until the user enters a blank line for the\n",
    "x-coordinate. Each time you read an additional coordinate you should compute the\n",
    "distance to the previous point and add it to the perimeter. When a blank line is entered\n",
    "for the x-coordinate your program should add the distance from the last point back\n",
    "to the first point to the perimeter. Then the perimeter should be displayed. Sample\n",
    "input and output values are shown below. The input values entered by the user are\n",
    "shown in bold.\n",
    "Enter the first x-coordinate: 0\n",
    "Enter the first y-coordinate: 0\n",
    "Enter the next x-coordinate (blank to quit): 1\n",
    "Enter the next y-coordinate: 0\n",
    "Enter the next x-coordinate (blank to quit): 0\n",
    "Enter the next y-coordinate: 1\n",
    "Enter the next x-coordinate (blank to quit):\n",
    "The perimeter of that polygon is 3.414213562373095"
   ]
  },
  {
   "cell_type": "code",
   "execution_count": 83,
   "id": "fec26f30",
   "metadata": {},
   "outputs": [
    {
     "name": "stdout",
     "output_type": "stream",
     "text": [
      "Enter the first x-coordinate: 0\n",
      "Enter the first y-coordinate: 0\n",
      "Enter the next x-cordinate:1\n",
      "Enter the next y-cordinate:0\n",
      "Enter the next x-cordinate:0\n",
      "Enter the next y-cordinate:1\n",
      "Enter the next x-cordinate:\n",
      "The perimeter of that polygon is 3.414213562373095\n"
     ]
    }
   ],
   "source": [
    "# What: read (x,y cordinates, until a blank is entered), compute distance and add to perimeter, display reult\n",
    "import math \n",
    "perimeter = 0\n",
    "\n",
    "# Read first cordinates\n",
    "x_1 = int(input(\"Enter the first x-coordinate: \"))\n",
    "y_1 = int(input(\"Enter the first y-coordinate: \"))\n",
    "\n",
    "# Assign them to vraiable for first distance computation, and original name reserved for last distance computation\n",
    "x1 = x_1\n",
    "y1 = y_1\n",
    "\n",
    "# Enter the next x-cord\n",
    "x = input(\"Enter the next x-cordinate:\")\n",
    "while x != \"\":\n",
    "    y = int(input(\"Enter the next y-cordinate:\"))\n",
    "    \n",
    "    # Assign to second pair of distance computation variables\n",
    "    x2 = int(x)\n",
    "    y2 = y\n",
    "    \n",
    "    # Compute distance and perimeter\n",
    "    distance = math.sqrt((x2 - x1)**2 + (y2 - y1)**2)\n",
    "    perimeter = perimeter + distance\n",
    "    \n",
    "    # Re-assign to the first pair of distance computaion variables\n",
    "    x1 = x2\n",
    "    y1 = y2\n",
    "    x = input(\"Enter the next x-cordinate:\")\n",
    "\n",
    "distance = math.sqrt((x2 - x_1)**2 + (y2 - y_1)**2)\n",
    "perimeter = perimeter + distance\n",
    "\n",
    "print(\"The perimeter of that polygon is {}\".format(perimeter))"
   ]
  },
  {
   "cell_type": "code",
   "execution_count": 81,
   "id": "8ec8d4ce",
   "metadata": {},
   "outputs": [
    {
     "data": {
      "text/plain": [
       "str"
      ]
     },
     "execution_count": 81,
     "metadata": {},
     "output_type": "execute_result"
    }
   ],
   "source": [
    "type(x)"
   ]
  },
  {
   "cell_type": "markdown",
   "id": "25a1de2e",
   "metadata": {},
   "source": [
    "Exercise 52 includes a table that shows the conversion from letter grades to grade\n",
    "points at a particular academic institution. In this exercise you will compute the\n",
    "grade point average of an arbitrary number of letter grades entered by the user. The\n",
    "user will enter a blank line to indicate that all of the grades have been provided. For\n",
    "example, if the user enters A, followed by C+, followed by B, followed by a blank\n",
    "line then your program should report a grade point average of 3.1.\n",
    "You may find your solution to Exercise 52 helpful when completing this exercise.\n",
    "Your program does not need to do any error checking. It can assume that each value\n",
    "entered by the user will always be a valid letter grade or a blank line."
   ]
  },
  {
   "cell_type": "code",
   "execution_count": 86,
   "id": "7c7dc9e3",
   "metadata": {},
   "outputs": [
    {
     "name": "stdout",
     "output_type": "stream",
     "text": [
      "Enter grade letter: Z\n",
      "Grade doesnt exist, Try again\n",
      "Enter grade letter: A\n",
      "Enter grade letter: A+\n",
      "Enter grade letter: \n",
      "Average grade point is 4.0\n"
     ]
    }
   ],
   "source": [
    "# what: read (grade letters, until blank is entered), decide (by matching to letter, if valid or not), \n",
    "# decide (by matching to grade letter, grade point), compute (grade point average)\n",
    "\n",
    "# create a letter-to-points data pool\n",
    "grade = {\"A+\": 4.0, \"A\": 4.0, \"A-\": 3.7, \"B+\": 3.3, \"B\": 3.0, \"B-\": 2.7, \"C+\": 2.3, \"C\": 2.0, \"C-\": 1.7, \"D+\": 1.3, \"D\": 1.0}\n",
    "\n",
    "count = 0\n",
    "total = 0\n",
    "\n",
    "# Read grade letter\n",
    "grade_letter = input(\"Enter grade letter: \")\n",
    "while grade_letter != \"\":\n",
    "    # validate grade letter\n",
    "    if grade_letter in grade.keys():\n",
    "        # Get equivalent point\n",
    "        grade_point = grade[grade_letter]\n",
    "        # Compute total, and Update count\n",
    "        count = count + 1\n",
    "        total = total + grade_point\n",
    "    else:\n",
    "        print(\"Grade doesnt exist, Try again\")\n",
    "    grade_letter = input(\"Enter grade letter: \")\n",
    "\n",
    "# Compute average grade point\n",
    "average_grade_point = total / count\n",
    "print(\"Average grade point is {}\".format(average_grade_point))"
   ]
  },
  {
   "cell_type": "markdown",
   "id": "4ce53f02",
   "metadata": {},
   "source": [
    "A particular zoo determines the price of admission based on the age of the guest.\n",
    "Guests 2 years of age and less are admitted without charge. Children between 3 and\n",
    "12 years of age cost $14.00. Seniors aged 65 years and over cost $18.00. Admission\n",
    "for all other guests is $23.00.\n",
    "Create a program that begins by reading the ages of all of the guests in a group\n",
    "from the user, with one age entered on each line. The user will enter a blank line to\n",
    "indicate that there are no more guests in the group. Then your program should display\n",
    "the admission cost for the group with an appropriate message. The cost should be\n",
    "displayed using two decimal places."
   ]
  },
  {
   "cell_type": "code",
   "execution_count": 88,
   "id": "5f10b23c",
   "metadata": {},
   "outputs": [
    {
     "name": "stdout",
     "output_type": "stream",
     "text": [
      "Enter the age of guest: 3\n",
      "Enter the age of guest: 2\n",
      "Enter the age of guest: 30\n",
      "Enter the age of guest: \n",
      "Total price is 37\n"
     ]
    }
   ],
   "source": [
    "# read (ages of ages, until a blank is entered), decide(by matching to age, fee), compute total, display result\n",
    "total_price = 0\n",
    "\n",
    "age_of_guest = input(\"Enter the age of guest: \")\n",
    "while age_of_guest != \"\":\n",
    "    age_of_guest = int(age_of_guest)\n",
    "    if age_of_guest <= 2:\n",
    "        price_of_guest = 0\n",
    "    elif age_of_guest >= 3 and age_of_guest <= 12:\n",
    "        price_of_guest = 14\n",
    "    elif age_of_guest > 65:\n",
    "        price_of_guest = 18\n",
    "    else:\n",
    "        price_of_guest = 23\n",
    "    \n",
    "    total_price = total_price + price_of_guest\n",
    "    age_of_guest = input(\"Enter the age of guest: \")\n",
    "    \n",
    "print(\"Total price is {}\".format(total_price))"
   ]
  },
  {
   "attachments": {
    "Screenshot_4.png": {
     "image/png": "[encoded data removed]"
    }
   },
   "cell_type": "markdown",
   "id": "4e46c41f",
   "metadata": {},
   "source": [
    "![Screenshot_4.png](attachment:Screenshot_4.png)\n",
    "A parity bit is a simple mechanism for detecting errors in data transmitted over an\n",
    "unreliable connection such as a telephone line. The basic idea is that an additional bit\n",
    "is transmitted after each group of 8 bits so that a single bit error in the transmission\n",
    "can be detected.\n",
    "Parity bits can be computed for either even parity or odd parity. If even parity\n",
    "is selected then the parity bit that is transmitted is chosen so that the total number\n",
    "of one bits transmitted (8 bits of data plus the parity bit) is even. When odd parity\n",
    "is selected the parity bit is chosen so that the total number of one bits transmitted\n",
    "is odd.\n",
    "Write a program that computes the parity bit for groups of 8 bits entered by the\n",
    "user using even parity. Your program should read strings containing 8 bits until the\n",
    "user enters a blank line. After each string is entered by the user your program should\n",
    "display a clear message indicating whether the parity bit should be 0 or 1. Display\n",
    "an appropriate error message if the user enters something other than 8 bits.\n",
    "Hint: You should read the input from the user as a string. Then you can use\n",
    "the count method to help you determine the number of zeros and ones in the\n",
    "string. Information about the count method is available online."
   ]
  },
  {
   "cell_type": "code",
   "execution_count": 93,
   "id": "c694ceae",
   "metadata": {},
   "outputs": [
    {
     "name": "stdout",
     "output_type": "stream",
     "text": [
      "Enter 8 bits: 19217729\n",
      "Not a complete bit, Try again\n",
      "Enter 8 bits: 121223\n",
      "Not a complete bit, Try again\n",
      "Enter 8 bits: 0001111\n",
      "Not a complete bit, Try again\n",
      "Enter 8 bits: 00000011\n",
      "Parity bit is  0\n",
      "Enter 8 bits: 11111101\n",
      "Parity bit is  1\n",
      "Enter 8 bits: \n"
     ]
    }
   ],
   "source": [
    "# read (strings, until the blank is entered), decide (whther matchingg length, whether valid bit or not)\n",
    "# decide(by matching the number of ones, parity is 0 or 1), display result\n",
    "\n",
    "string = input(\"Enter 8 bits: \")\n",
    "while string != \"\":\n",
    "    # check the validaty: if its all digits are to be in 0s and 1s, the sum of their count should be 8\n",
    "    if (string.count('0') + string.count('1')) != 8 :\n",
    "        print(\"Not a complete bit, Try again\")\n",
    "    else:\n",
    "        number_of_ones = string.count(\"1\")\n",
    "        if number_of_ones % 2 == 0:\n",
    "            parity_bit = 0\n",
    "        else:\n",
    "            parity_bit = 1\n",
    "        print(\"Parity bit is \", parity_bit)\n",
    "        \n",
    "    string = input(\"Enter 8 bits: \")\n",
    "\n"
   ]
  },
  {
   "cell_type": "code",
   "execution_count": 89,
   "id": "3c53c637",
   "metadata": {},
   "outputs": [
    {
     "data": {
      "text/plain": [
       "3"
      ]
     },
     "execution_count": 89,
     "metadata": {},
     "output_type": "execute_result"
    }
   ],
   "source": [
    "\"020101\".count(\"0\")"
   ]
  },
  {
   "cell_type": "markdown",
   "id": "e99e872d",
   "metadata": {},
   "source": [
    "The value of π can be approximated by the following infinite series:\n",
    "π ≈ 3 + 4\n",
    "2 × 3 × 4\n",
    "− 4\n",
    "4 × 5 × 6\n",
    "+ 4\n",
    "6 × 7 × 8\n",
    "− 4\n",
    "8 × 9 × 10\n",
    "+ 4\n",
    "10 × 11 × 12\n",
    "−· · ·\n",
    "Write a program that displays 15 approximations of π. The first approximation\n",
    "should make use of only the first term from the infinite series. Each additional\n",
    "approximation displayed by your program should include one more term in the series,\n",
    "making it a better approximation of π than any of the approximations displayed previously."
   ]
  },
  {
   "cell_type": "code",
   "execution_count": 100,
   "id": "84fb7b7e",
   "metadata": {},
   "outputs": [
    {
     "name": "stdout",
     "output_type": "stream",
     "text": [
      "3\n",
      "3.4444444444444446\n",
      "3.177777777777778\n",
      "3.3682539682539687\n",
      "3.220105820105821\n",
      "3.341317941317942\n",
      "3.2387538387538393\n",
      "3.3276427276427283\n",
      "3.2492113550937085\n",
      "3.3193867936901995\n",
      "3.2558947301981362\n",
      "3.3138657446908897\n",
      "3.2605324113575564\n",
      "3.3099151274069394\n",
      "3.2639381159126866\n",
      "3.3069488686008586\n",
      "3.2665448281968184\n",
      "3.3046400662920563\n",
      "3.26860403025602\n",
      "3.3027920644440543\n",
      "3.270271739240802\n",
      "3.3012794911787866\n",
      "3.271649861549157\n",
      "3.300018655875398\n",
      "3.2728077715216566\n"
     ]
    }
   ],
   "source": [
    "# what: compute (approximation, until the 15th approximation), display each\n",
    "number_of_appproximations = 15\n",
    "first_term = 3\n",
    "term = first_term\n",
    "approx = first_term\n",
    "\n",
    "for n in range (0, 25, 1):\n",
    "    print(approx)\n",
    "    additional_term = 4/((term-1) + term + (term+1))\n",
    "    \n",
    "    if n % 2 == 0:\n",
    "        approx = approx + additional_term\n",
    "    else:\n",
    "        approx = approx - additional_term\n",
    "        \n",
    "    term = term + 2"
   ]
  },
  {
   "cell_type": "markdown",
   "id": "15a47f53",
   "metadata": {},
   "source": [
    "Fizz-Buzz is a game that is sometimes played by children to help them learn about\n",
    "division. The players are commonly arranged in a circle so that the game can progress\n",
    "from player to player continually. The starting player begins by saying one, and then\n",
    "play passes to the player to the left. Each subsequent player is responsible for the\n",
    "next integer in sequence before play passes to the following player. On a player’s\n",
    "turn they must either say their number or one of following substitutions:\n",
    "• If the player’s number is divisible by 3 then the player says fizz instead of their\n",
    "number.\n",
    "• If the player’s number is divisible by 5 then the player says buzz instead of their\n",
    "number.\n",
    "A player must say both fizz and buzz for numbers that are divisible by both 3\n",
    "and 5. Any player that fails to perform the correct substitution or hesitates before\n",
    "answering is eliminated from the game. The last player remaining is the winner.\n",
    "Write a program that displays the answers for the first 100 numbers in the Fizz-\n",
    "Buzz game. Each answer should be displayed on its own line."
   ]
  },
  {
   "cell_type": "code",
   "execution_count": 104,
   "id": "91c53432",
   "metadata": {},
   "outputs": [
    {
     "name": "stdout",
     "output_type": "stream",
     "text": [
      "70\n",
      "Buzz\n",
      "Buzz\n",
      "Buzz\n",
      "Buzz\n",
      "Buzz\n",
      "Buzz\n",
      "Buzz\n",
      "Buzz\n",
      "Buzz\n"
     ]
    }
   ],
   "source": [
    "# generate number until 100 is reached, decide(by matching to the divisblity by 3 or 5, what to say), display result\n",
    "import random\n",
    "number_of_tries = 0\n",
    "player_num = 1\n",
    "while number_of_tries < 10:\n",
    "    if player_num % 3 == 0 and player_num % 5 == 0:\n",
    "        say = \"Fizz and Buzz\"\n",
    "    elif player_num % 3 == 0:\n",
    "        say = \"Fizz\"\n",
    "    elif player_num % 5 == 0:\n",
    "        say = \"Buzz\"\n",
    "    else:\n",
    "        say = random.randint(2, 100)\n",
    "        player_num = say\n",
    "    print(say)\n",
    "    number_of_tries = number_of_tries + 1\n",
    "    "
   ]
  },
  {
   "cell_type": "markdown",
   "id": "a258e7de",
   "metadata": {},
   "source": [
    "One of the first known examples of encryption was used by Julius Caesar. Caesar\n",
    "needed to provide written instructions to his generals, but he didn’t want his enemies\n",
    "to learn his plans if the message slipped into their hands. As a result, he developed\n",
    "what later became known as the Caesar cipher.\n",
    "The idea behind this cipher is simple (and as such, it provides no protection against\n",
    "modern code breaking techniques). Each letter in the original message is shifted by\n",
    "3 places. As a result, A becomes D, B becomes E, C becomes F, D becomes G, etc.\n",
    "The last three letters in the alphabet are wrapped around to the beginning: X becomes\n",
    "A, Y becomes B and Z becomes C. Non-letter characters are not modified by the\n",
    "cipher.\n",
    "Write a program that implements a Caesar cipher. Allow the user to supply the\n",
    "message and the shift amount, and then display the shifted message. Ensure that\n",
    "your program encodes both uppercase and lowercase letters. Your program should\n",
    "also support negative shift values so that it can be used both to encode messages and\n",
    "decode messages."
   ]
  },
  {
   "cell_type": "code",
   "execution_count": 43,
   "id": "8df2b6b1",
   "metadata": {},
   "outputs": [
    {
     "name": "stdout",
     "output_type": "stream",
     "text": [
      "Enter string: hello HELLO 9'\n",
      "Enter the shift value: 4\n",
      "lipps LIPPS 9'\n"
     ]
    }
   ],
   "source": [
    "\n",
    "string = input(\"Enter string: \")\n",
    "shift = int(input(\"Enter the shift value: \"))\n",
    "\n",
    "ciphered_string = \"\"\n",
    "postion = 0\n",
    "\n",
    "while postion < len(string):\n",
    "    letter_ascii = ord(string[postion])\n",
    "    \n",
    "     # range: Capital letters\n",
    "    if letter_ascii in range(65, 91, 1):\n",
    "        new_letter_ascii = letter_ascii + shift\n",
    "        \n",
    "        if new_letter_ascii < 65:\n",
    "            diff = abs(65 - new_letter_ascii)\n",
    "            new_letter_ascii = 90 - diff + 1\n",
    "        elif new_letter_ascii > 90:\n",
    "            diff = abs(90 - new_letter_ascii)\n",
    "            new_letter_ascii = 65 + diff - 1\n",
    "        else:\n",
    "            pass\n",
    "        \n",
    "    # range: small letters\n",
    "    elif letter_ascii in range(97, 123, 1):\n",
    "        new_letter_ascii = letter_ascii + shift\n",
    "        if new_letter_ascii < 97:\n",
    "            diff = abs(97 - new_letter_ascii)\n",
    "            new_letter_ascii = 122 - diff + 1\n",
    "        elif new_letter_ascii > 122:\n",
    "            diff = abs(122 - new_letter_ascii)\n",
    "            new_letter_ascii = 97 + diff - 1\n",
    "        else:\n",
    "            pass\n",
    "            \n",
    "    # range: non-letters\n",
    "    else:\n",
    "        new_letter_ascii = letter_ascii\n",
    "    ciphered_string = ciphered_string + chr(new_letter_ascii)\n",
    "    postion = postion + 1\n",
    "    \n",
    "print(ciphered_string)"
   ]
  },
  {
   "cell_type": "code",
   "execution_count": 32,
   "id": "a4c7eca7",
   "metadata": {},
   "outputs": [
    {
     "name": "stdout",
     "output_type": "stream",
     "text": [
      "Enter string:  \n",
      "no\n"
     ]
    }
   ],
   "source": [
    "string = input(\"Enter string: \")\n",
    "new_letter_ascii = ord(string)\n",
    "if new_letter_ascii in range(65, 91, 1) or new_letter_ascii in range(97, 123, 1):\n",
    "    print(\"yes\")\n",
    "else:\n",
    "    print(\"no\")"
   ]
  },
  {
   "cell_type": "code",
   "execution_count": null,
   "id": "ab79dd7a",
   "metadata": {},
   "outputs": [],
   "source": []
  },
  {
   "cell_type": "code",
   "execution_count": null,
   "id": "0100abf2",
   "metadata": {},
   "outputs": [],
   "source": []
  },
  {
   "cell_type": "markdown",
   "id": "8b078aca",
   "metadata": {},
   "source": [
    "Write a program that implements Newton’s method to compute and display the\n",
    "square root of a number, x, entered by the user. The algorithm for Newton’s method\n",
    "follows:\n",
    "Read x from the user\n",
    "Initialize guess to x/2\n",
    "While guess is not good enough do\n",
    "Update guess to be the average of guess and x/guess\n",
    "When this algorithm completes, guess contains an approximation of the square\n",
    "root of x. The quality of the approximation depends on how you define “good\n",
    "enough”. In the author’s solution, guess was considered good enough when the\n",
    "absolute value of the difference between guess ∗ guess and x was less than or equal\n",
    "to 10−12."
   ]
  },
  {
   "cell_type": "code",
   "execution_count": 3,
   "id": "62e047af",
   "metadata": {},
   "outputs": [
    {
     "name": "stdout",
     "output_type": "stream",
     "text": [
      "Enter the number: 9\n",
      "3.000015360039322\n"
     ]
    }
   ],
   "source": [
    "# what: read (number), compute (square root, using Newton method),\n",
    "# read x\n",
    "x = float(input(\"Enter the number: \"))\n",
    "\n",
    "# initialize guess\n",
    "guess = x/2\n",
    "# Assess conditions\n",
    "while abs(guess*guess - x) > 10**(-2):\n",
    "    guess = (guess + x/guess)/2\n",
    "print(guess)"
   ]
  },
  {
   "cell_type": "markdown",
   "id": "a45c93f7",
   "metadata": {},
   "source": [
    "A string is a palindrome if it is identical forward and backward. For example “anna”,\n",
    "“civic”, “level” and “hannah” are all examples of palindromicwords. Write a program\n",
    "that reads a string from the user and uses a loop to determine whether or not it is a\n",
    "palindrome. Display the result, including a meaningful output message.\n",
    "Aibohphobia is the extreme or irrational fear of palindromes. This word was\n",
    "constructed by prepending the -phobia suffix with it’s reverse, resulting in\n",
    "a palindrome. Ailihphilia is the fondness for or love of palindromes. It was\n",
    "constructed in the same manner from the -philia suffix."
   ]
  },
  {
   "cell_type": "code",
   "execution_count": 15,
   "id": "3e70f657",
   "metadata": {},
   "outputs": [
    {
     "name": "stdout",
     "output_type": "stream",
     "text": [
      "Enter string: level\n",
      "A palindrome\n"
     ]
    }
   ],
   "source": [
    "# what: read (string), create (a reverse string), decide (by matching reverse, whether palindrome or not)\n",
    "\n",
    "string = input(\"Enter string: \").lower()\n",
    "\n",
    "reverse = string[-1::-1]\n",
    "if string == reverse:\n",
    "    print(\"A palindrome\")\n",
    "else:\n",
    "    print(\"Not a palindrome\")"
   ]
  },
  {
   "cell_type": "markdown",
   "id": "f5171a28",
   "metadata": {},
   "source": [
    "There are numerous phrases that are palindromes when spacing is ignored. Examples\n",
    "include “go dog”, “flee to me remote elf” and “some men interpret nine memos”,\n",
    "among many others. Extend your solution to Exercise 75 so that it ignores spacing\n",
    "while determining whether or not a string is a palindrome. For an additional challenge,\n",
    "further extend your solution so that is also ignores punctuation marks and treats\n",
    "uppercase and lowercase letters as equivalent."
   ]
  },
  {
   "cell_type": "code",
   "execution_count": 30,
   "id": "e062ff1c",
   "metadata": {},
   "outputs": [
    {
     "name": "stdout",
     "output_type": "stream",
     "text": [
      "Enter string: some men interpret nine memos\n",
      "A palindrome\n",
      "somemeninterpretninememos\n"
     ]
    }
   ],
   "source": [
    "# # what: read (string), create (a reverse string), decide (by matching reverse, whether palindrome or not)\n",
    "\n",
    "string1 = input(\"Enter string: \").lower()\n",
    "string = string1.replace(\" \", \"\")\n",
    "\n",
    "reverse = string[-1::-1]\n",
    "if string == reverse:\n",
    "    print(\"A palindrome\")\n",
    "else:\n",
    "    print(\"Not a palindrome\")\n",
    "print(string)"
   ]
  },
  {
   "cell_type": "code",
   "execution_count": 25,
   "id": "265ec180",
   "metadata": {},
   "outputs": [
    {
     "data": {
      "text/plain": [
       "'godog'"
      ]
     },
     "execution_count": 25,
     "metadata": {},
     "output_type": "execute_result"
    }
   ],
   "source": [
    "string.replace(\" \", \"\")"
   ]
  },
  {
   "cell_type": "markdown",
   "id": "c8c03e2a",
   "metadata": {},
   "source": [
    "In this exercise you will create a program that displays a multiplication table that\n",
    "shows the products of all combinations of integers from 1 times 1 up to and including\n",
    "10 times 10. Your multiplication table should include a row of labels across the top\n",
    "of it containing the numbers 1 through 10. It should also include labels down the left\n",
    "side consisting of the numbers 1 through 10. The expected output from the program\n",
    "is shown below:\n",
    "1 2 3 4 5 6 7 8 9 10\n",
    "1 1 2 3 4 5 6 7 8 9 10\n",
    "2 2 4 6 8 10 12 14 16 18 20\n",
    "3 3 6 9 12 15 18 21 24 27 30\n",
    "4 4 8 12 16 20 24 28 32 36 40\n",
    "5 5 10 15 20 25 30 35 40 45 50\n",
    "6 6 12 18 24 30 36 42 48 54 60\n",
    "7 7 14 21 28 35 42 49 56 63 70\n",
    "8 8 16 24 32 40 48 56 64 72 80\n",
    "9 9 18 27 36 45 54 63 72 81 90\n",
    "10 10 20 30 40 50 60 70 80 90 100\n",
    "When completing this exercise you will probably find it helpful to be able to\n",
    "print out a value without moving down to the next line. This can be accomplished\n",
    "by added end=\"\" as the last argument to your print statement. For example,\n",
    "print(\"A\") will display the letter A and then move down to the next line. The\n",
    "statement print(\"A\", end=\"\") will display the letter A without moving down\n",
    "to the next line, causing the next print statement to display its result on the same line\n",
    "as the letter A."
   ]
  },
  {
   "cell_type": "code",
   "execution_count": 34,
   "id": "c33b7de1",
   "metadata": {},
   "outputs": [
    {
     "name": "stdout",
     "output_type": "stream",
     "text": [
      "  1   2   3   4   5   6   7   8   9  10 \n",
      "  2   4   6   8  10  12  14  16  18  20 \n",
      "  3   6   9  12  15  18  21  24  27  30 \n",
      "  4   8  12  16  20  24  28  32  36  40 \n",
      "  5  10  15  20  25  30  35  40  45  50 \n",
      "  6  12  18  24  30  36  42  48  54  60 \n",
      "  7  14  21  28  35  42  49  56  63  70 \n",
      "  8  16  24  32  40  48  56  64  72  80 \n",
      "  9  18  27  36  45  54  63  72  81  90 \n",
      " 10  20  30  40  50  60  70  80  90  100 \n"
     ]
    }
   ],
   "source": [
    "# what: \n",
    "\n",
    "for row in range(1, 11, 1):\n",
    "    for column in range(1,11,1):\n",
    "        product = row * column\n",
    "        print(\" {:>2d} \".format(product), end=\"\")\n",
    "    print(\"\")"
   ]
  },
  {
   "cell_type": "markdown",
   "id": "97f8b284",
   "metadata": {},
   "source": [
    "Consider a sequence of integers that is constructed in the following manner:\n",
    "Start with any positive integer as the only term in the sequence\n",
    "While the last term in the sequence is not equal to 1 do\n",
    "If the last term is even then\n",
    "Add another term to the sequence by dividing the last term by 2 using\n",
    "floor division\n",
    "Else\n",
    "Add another term to the sequence by multiplying the last term by 3 and\n",
    "adding 1\n",
    "The Collatz conjecture states that this sequence will eventually end with one when\n",
    "it begins with any positive integer. Although this conjecture has never been proved,\n",
    "it appears to be true.\n",
    "Create a program that reads an integer, n, from the user and reports all of the\n",
    "values in the sequence starting with n and ending with one. Your program should\n",
    "allow the user to continue entering new n values (and your program should continue\n",
    "displaying the sequences) until the user enters a value for n that is less than or equal\n",
    "to zero.\n",
    "The Collatz conjecture is an example of an open problem in mathematics.\n",
    "While many people have tried to prove that it is true, no one has been able to\n",
    "do so. Information on other open problems in mathematics can be found on\n",
    "the Internet."
   ]
  },
  {
   "cell_type": "code",
   "execution_count": 1,
   "id": "8ca26c9f",
   "metadata": {},
   "outputs": [
    {
     "name": "stdout",
     "output_type": "stream",
     "text": [
      "Enter number: 4\n",
      "4\n",
      "2.0\n",
      "1.0\n",
      "Enter number: 7\n",
      "7\n",
      "22\n",
      "11.0\n",
      "34.0\n",
      "17.0\n",
      "52.0\n",
      "26.0\n",
      "13.0\n",
      "40.0\n",
      "20.0\n",
      "10.0\n",
      "5.0\n",
      "16.0\n",
      "8.0\n",
      "4.0\n",
      "2.0\n",
      "1.0\n",
      "Enter number: 1\n",
      "1\n",
      "Enter number: -1\n"
     ]
    }
   ],
   "source": [
    "# what:\n",
    "\n",
    "n = int(input(\"Enter number: \"))\n",
    "\n",
    "while n > 0:\n",
    "    last_term = n\n",
    "    while last_term != 1:\n",
    "        print(last_term)\n",
    "        if last_term % 2 == 0:\n",
    "            last_term = last_term / 2\n",
    "        else: \n",
    "            last_term = (last_term * 3) + 1\n",
    "        \n",
    "    print(last_term)\n",
    "    n = int(input(\"Enter number: \"))"
   ]
  },
  {
   "cell_type": "markdown",
   "id": "84150a2a",
   "metadata": {},
   "source": [
    "The greatest common divisor of two positive integers, n and m, is the largest number,\n",
    "d, which divides evenly into both n and m. There are several algorithms that can be\n",
    "used to solve this problem, including:\n",
    "Initialize d to the smaller of m and n.\n",
    "While d does not evenly divide m or d does not evenly divide n do\n",
    "Decrease the value of d by 1\n",
    "Report d as the greatest common divisor of n and m\n",
    "Write a program that reads two positive integers from the user and uses this algorithm\n",
    "to determine and report their greatest common divisor."
   ]
  },
  {
   "cell_type": "code",
   "execution_count": 4,
   "id": "5839eec8",
   "metadata": {},
   "outputs": [
    {
     "name": "stdout",
     "output_type": "stream",
     "text": [
      "Enter number: 14\n",
      "Enter number: 20\n",
      "The greatest commom divisor of 14 and 20 is 2\n"
     ]
    }
   ],
   "source": [
    "# what: read (two integers), assign (min of the two int, to d), decide(by matching a condition, whether its a divisor),\n",
    "# if yes, print(divisior)\n",
    "# if no, decrease d by 1 and redecide\n",
    "\n",
    "n = int(input(\"Enter number: \"))\n",
    "m = int(input(\"Enter number: \"))\n",
    "\n",
    "d = min(n, m)\n",
    "\n",
    "while (n % d != 0 or m % d != 0):\n",
    "    d = d - 1\n",
    "    \n",
    "print(\"The greatest commom divisor of {} and {} is {}\".format(n,m,d))\n"
   ]
  },
  {
   "cell_type": "markdown",
   "id": "25353a70",
   "metadata": {},
   "source": [
    "The prime factorization of an integer, n, can be determined using the following steps:\n",
    "Initialize factor to 2\n",
    "While factor is less than or equal to n do\n",
    "If n is evenly divisible by factor then\n",
    "Conclude that factor is a factor of n\n",
    "Divide n by factor using floor division\n",
    "Else\n",
    "Increase factor by 1\n",
    "Write a program that reads an integer from the user. If the value entered by the\n",
    "user is less than 2 then your program should display an appropriate error message.\n",
    "Otherwise your program should display the prime numbers that can be multiplied\n",
    "together to compute n, with one factor appearing on each line. For example:\n",
    "Enter an integer (2 or greater): 72\n",
    "The prime factors of 72 are:\n",
    "2\n",
    "2\n",
    "2\n",
    "3\n",
    "3"
   ]
  },
  {
   "cell_type": "code",
   "execution_count": 7,
   "id": "e1ac5fe7",
   "metadata": {},
   "outputs": [
    {
     "name": "stdout",
     "output_type": "stream",
     "text": [
      "Enter number: 72\n",
      "The prime factors of 72 are: \n",
      "2\n",
      "2\n",
      "2\n",
      "3\n",
      "3\n"
     ]
    }
   ],
   "source": [
    "# what: reasd( number), assign (factor to 2), decide (by macthing to a condition, whther to countue or not),\n",
    "# if continued, decide(by matching to divisibility, whether a factor or not), if not, increase (factor by 1)\n",
    "# if deivisibile, assign (term to term // factor), and display factor\n",
    "\n",
    "n = int(input(\"Enter number: \"))\n",
    "term = n\n",
    "if n < 2:\n",
    "    print(\"Error: Number less than 2\")\n",
    "else:\n",
    "    # intiliaze factor to 2\n",
    "    factor = 2\n",
    "    print(\"The prime factors of {} are: \".format(n))\n",
    "    while factor <= n:\n",
    "        if term % factor == 0:\n",
    "            term = term // factor\n",
    "            print(factor)\n",
    "        else:\n",
    "            factor = factor + 1\n",
    "            "
   ]
  },
  {
   "cell_type": "markdown",
   "id": "91ef864e",
   "metadata": {},
   "source": [
    "Write a program that converts a binary (base 2) number to decimal (base 10). Your\n",
    "program should begin by reading the binary number from the user as a string. Then\n",
    "it should compute the equivalent decimal number by processing each digit in the\n",
    "binary number. Finally, your program should display the equivalent decimal number\n",
    "with an appropriate message."
   ]
  },
  {
   "cell_type": "code",
   "execution_count": 21,
   "id": "dec880d8",
   "metadata": {},
   "outputs": [
    {
     "name": "stdout",
     "output_type": "stream",
     "text": [
      "Enter number: 101\n",
      "The decimal equivalivant of 101 is 5\n"
     ]
    }
   ],
   "source": [
    "# what: read(number), decide(by matching to condition, whether binary or not), if not binary, display (error message)\n",
    "# if binary, intilize (decimal, position) and assign (length of number, to length)\n",
    "# decide(by matching to a condition, whther any number to left to compute or not)\n",
    "\n",
    "n = input(\"Enter number: \")\n",
    "if (n.count(\"0\") + n.count(\"1\") != len(n)):\n",
    "    print(\"Error message: not a binary\")\n",
    "else:\n",
    "    length = len(n)\n",
    "    decimal = 0\n",
    "    postion = 0\n",
    "    while postion < length:\n",
    "        digit = int(n[postion]) * 2**(length - postion - 1)\n",
    "        decimal = decimal + digit\n",
    "        postion = postion + 1\n",
    "        \n",
    "    print(\"The decimal equivalivant of {} is {}\".format(n, decimal))\n"
   ]
  },
  {
   "cell_type": "code",
   "execution_count": 12,
   "id": "d66d12ea",
   "metadata": {},
   "outputs": [
    {
     "data": {
      "text/plain": [
       "'1010'"
      ]
     },
     "execution_count": 12,
     "metadata": {},
     "output_type": "execute_result"
    }
   ],
   "source": [
    "\"0b1010\".lstrip(\"0b\")"
   ]
  },
  {
   "cell_type": "code",
   "execution_count": 19,
   "id": "38788b06",
   "metadata": {},
   "outputs": [
    {
     "data": {
      "text/plain": [
       "'0b1010'"
      ]
     },
     "execution_count": 19,
     "metadata": {},
     "output_type": "execute_result"
    }
   ],
   "source": [
    "bin(10)"
   ]
  },
  {
   "cell_type": "code",
   "execution_count": 14,
   "id": "33f1a64f",
   "metadata": {},
   "outputs": [
    {
     "data": {
      "text/plain": [
       "4"
      ]
     },
     "execution_count": 14,
     "metadata": {},
     "output_type": "execute_result"
    }
   ],
   "source": [
    "len(\"1010\")"
   ]
  },
  {
   "cell_type": "code",
   "execution_count": 20,
   "id": "dd3596e9",
   "metadata": {},
   "outputs": [
    {
     "data": {
      "text/plain": [
       "'1'"
      ]
     },
     "execution_count": 20,
     "metadata": {},
     "output_type": "execute_result"
    }
   ],
   "source": [
    "\"1010\"[0]"
   ]
  },
  {
   "cell_type": "code",
   "execution_count": null,
   "id": "92697210",
   "metadata": {},
   "outputs": [],
   "source": []
  },
  {
   "cell_type": "markdown",
   "id": "29f076b8",
   "metadata": {},
   "source": [
    "Write a program that converts a decimal (base 10) number to binary (base 2). Read the\n",
    "decimal number from the user as an integer and then use the division algorithm shown\n",
    "below to perform the conversion. When the algorithm completes, result contains the\n",
    "binary representation of the number. Display the result, along with an appropriate\n",
    "message.\n",
    "\n",
    "Let result be an empty string\n",
    "Let q represent the number to convert\n",
    "repeat\n",
    "Set r equal to the remainder when q is divided by 2\n",
    "Convert r to a string and add it to the beginning of result\n",
    "Divide q by 2, discarding any remainder, and store the result back into q\n",
    "until q is 0\n"
   ]
  },
  {
   "cell_type": "code",
   "execution_count": 5,
   "id": "113588f7",
   "metadata": {},
   "outputs": [
    {
     "name": "stdout",
     "output_type": "stream",
     "text": [
      "Enter decimal: 5\n",
      "101\n"
     ]
    }
   ],
   "source": [
    "# what: read (decimal), intitalize (binary_string, quotient), \n",
    "# decide(by matching with condition, whether continue operation or not),\n",
    "# if not, print(binary_string). if yes, compute (remainder), assign (remaidner to binary string), compute (new quotient)\n",
    "\n",
    "\n",
    "decimal = int(input(\"Enter decimal: \"))\n",
    "\n",
    "quotient = decimal\n",
    "binary_string = \"\"\n",
    "\n",
    "while quotient != 0:\n",
    "    remainder = quotient % 2\n",
    "    quotient = quotient // 2\n",
    "    \n",
    "    binary_string = str(remainder) + binary_string\n",
    "print(binary_string)"
   ]
  },
  {
   "cell_type": "code",
   "execution_count": 2,
   "id": "95bcf7f5",
   "metadata": {},
   "outputs": [
    {
     "name": "stdout",
     "output_type": "stream",
     "text": [
      "4821\n"
     ]
    }
   ],
   "source": [
    "bin = \"821\"\n",
    "bin = \"4\" + bin\n",
    "print(bin)"
   ]
  },
  {
   "cell_type": "markdown",
   "id": "570b2f5c",
   "metadata": {},
   "source": [
    "This exercise examines the process of identifying the maximum value in a collection\n",
    "of integers. Each of the integers will be randomly selected from the numbers between\n",
    "1 and 100. The collection of integers may contain duplicate values, and some of the\n",
    "integers between 1 and 100 may not be present.\n",
    "Take amoment and think about howyouwould solve this problem on paper. Many\n",
    "people would check each integer in sequence and ask themself if the number that\n",
    "they are currently considering is larger than the largest number that they have seen\n",
    "previously. If it is, then they forget the previous maximum number and remember\n",
    "the current number as the new maximum number. This is a reasonable approach,\n",
    "and will result in the correct answer when the process is performed carefully. If you\n",
    "were performing this task, how many times would you expect to need to update the\n",
    "maximum value and remember a new number?\n",
    "While we can answer the question posed at the end of the previous paragraph\n",
    "using probability theory, we are going to explore it by simulating the situation. Create\n",
    "a program that begins by selecting a random integer between 1 and 100. Save this\n",
    "integer as the maximum number encountered so far. After the initial integer has been\n",
    "selected, generate 99 additional random integers between 1 and 100. Check each\n",
    "integer as it is generated to see if it is larger than the maximum number encountered\n",
    "so far. If it is then your program should update the maximum number encountered\n",
    "and count the fact that you performed an update. Display each integer after you generate\n",
    "it. Include a notation with those integers which represent a new maximum.\n",
    "After you have displayed 100 integers your program should display the maximum\n",
    "value encountered, along with the number of times the maximum value\n",
    "was updated during the process. Partial output for the program is shown below,\n",
    "with… representing the remaining integers that your program will display. Run your\n",
    "program several times. Is the number of updates performed on the maximum value\n",
    "what you expected?\n",
    "30\n",
    "74 <== Update\n",
    "58\n",
    "17\n",
    "40\n",
    "37\n",
    "13\n",
    "34\n",
    "46\n",
    "52\n",
    "80 <== Update\n",
    "37\n",
    "97 <== Update\n",
    "45\n",
    "55\n",
    "73\n",
    "...\n",
    "The maximum value found was 100\n",
    "The maximum value was updated 5 times"
   ]
  },
  {
   "cell_type": "code",
   "execution_count": 11,
   "id": "101d5939",
   "metadata": {
    "scrolled": false
   },
   "outputs": [
    {
     "name": "stdout",
     "output_type": "stream",
     "text": [
      "94\n",
      "56\n",
      "48\n",
      "39\n",
      "16\n",
      "57\n",
      "35\n",
      "18\n",
      "52\n",
      "54\n",
      "92\n",
      "78\n",
      "98 <= Update\n",
      "63\n",
      "67\n",
      "88\n",
      "59\n",
      "31\n",
      "97\n",
      "9\n",
      "73\n",
      "10\n",
      "72\n",
      "97\n",
      "73\n",
      "74\n",
      "63\n",
      "67\n",
      "18\n",
      "89\n",
      "10\n",
      "83\n",
      "45\n",
      "8\n",
      "51\n",
      "64\n",
      "73\n",
      "94\n",
      "43\n",
      "5\n",
      "48\n",
      "67\n",
      "99 <= Update\n",
      "25\n",
      "48\n",
      "90\n",
      "18\n",
      "35\n",
      "89\n",
      "32\n",
      "5\n",
      "89\n",
      "16\n",
      "5\n",
      "95\n",
      "66\n",
      "39\n",
      "18\n",
      "97\n",
      "5\n",
      "44\n",
      "28\n",
      "53\n",
      "80\n",
      "38\n",
      "9\n",
      "36\n",
      "84\n",
      "8\n",
      "40\n",
      "79\n",
      "45\n",
      "42\n",
      "1\n",
      "66\n",
      "83\n",
      "26\n",
      "33\n",
      "53\n",
      "2\n",
      "4\n",
      "53\n",
      "57\n",
      "37\n",
      "30\n",
      "88\n",
      "1\n",
      "26\n",
      "75\n",
      "50\n",
      "38\n",
      "31\n",
      "30\n",
      "34\n",
      "30\n",
      "10\n",
      "90\n",
      "8\n",
      "99\n",
      "67\n",
      "The maximum value found is 99\n",
      "The maximum value was updated 2 times\n"
     ]
    }
   ],
   "source": [
    "# what: initialize (maximum number, max found), set (counter[for loop]), generate (random number), \n",
    "# decide(by matching to previous max, whether new max or not) \n",
    "# if not, print (number). else, print (number with \"update\" string)\n",
    "\n",
    "import random\n",
    "\n",
    "max_value = 0\n",
    "max_found = 0\n",
    "\n",
    "for count in range(0, 100, 1):\n",
    "    generated_number = random.randint(1, 100)\n",
    "    if count == 0:\n",
    "        max_value = generated_number\n",
    "        print(generated_number)\n",
    "    elif generated_number > max_value:\n",
    "        max_value = generated_number\n",
    "        max_found = max_found + 1\n",
    "        \n",
    "        print(\"{} <= Update\".format(generated_number))\n",
    "    else:\n",
    "        print(generated_number)\n",
    "print(\"The maximum value found is {}\".format(max_value))\n",
    "print(\"The maximum value was updated {} times\".format(max_found))\n"
   ]
  },
  {
   "cell_type": "markdown",
   "id": "1045e81a",
   "metadata": {},
   "source": [
    "What’s the minimum number of times you have to flip a coin before you can have\n",
    "three consecutive flips that result in the same outcome (either all three are heads or\n",
    "all three are tails)? What’s the maximum number of flips that might be needed? How\n",
    "many flips are needed on average? In this exercise we will explore these questions\n",
    "by creating a program that simulates several series of coin flips.\n",
    "Create a program that uses Python’s random number generator to simulate flipping\n",
    "a coin several times. The simulated coin should be fair, meaning that the probability\n",
    "of heads is equal to the probability of tails. Your program should flip simulated\n",
    "coins until either 3 consecutive heads of 3 consecutive tails occur. Display an H each\n",
    "time the outcome is heads, and a T each time the outcome is tails, with all of the\n",
    "outcomes for one simulation on the same line. Then display the number of flips that\n",
    "were needed to reach 3 consecutive occurrences of the same outcome. When your\n",
    "program is run it should perform the simulation 10 times and report the average\n",
    "number of flips needed. Sample output is shown below:\n",
    "3.4 Exercises 57\n",
    "H T T T (4 flips)\n",
    "H H T T H T H T T H H T H T T H T T T (19 flips)\n",
    "T T T (3 flips)\n",
    "T H H H (4 flips)\n",
    "H H H (3 flips)\n",
    "T H T T H T H H T T H H T H T H H H (18 flips)\n",
    "H T T H H H (6 flips)\n",
    "T H T T T (5 flips)\n",
    "T T H T T H T H T H H H (12 flips)\n",
    "T H T T T (5 flips)\n",
    "On average, 7.9 flips were needed."
   ]
  },
  {
   "cell_type": "code",
   "execution_count": 23,
   "id": "94c34425",
   "metadata": {},
   "outputs": [
    {
     "data": {
      "text/plain": [
       "'H'"
      ]
     },
     "execution_count": 23,
     "metadata": {},
     "output_type": "execute_result"
    }
   ],
   "source": [
    "random.choice([\"H\", \"T\"])"
   ]
  },
  {
   "cell_type": "code",
   "execution_count": 21,
   "id": "dc18c90b",
   "metadata": {},
   "outputs": [
    {
     "data": {
      "text/plain": [
       "2"
      ]
     },
     "execution_count": 21,
     "metadata": {},
     "output_type": "execute_result"
    }
   ],
   "source": [
    "import numpy.random as npr\n",
    "npr.binomial(5,0.5)"
   ]
  },
  {
   "cell_type": "code",
   "execution_count": 31,
   "id": "d2eaa639",
   "metadata": {},
   "outputs": [
    {
     "name": "stdout",
     "output_type": "stream",
     "text": [
      "THTHHH(6 flips)\n",
      "HHTHHTHHTTT(11 flips)\n",
      "HTHHTTT(7 flips)\n",
      "TTTHTTT(7 flips)\n",
      "TTHTTT(6 flips)\n",
      "HHTHTHHH(8 flips)\n",
      "HTTHTTT(7 flips)\n",
      "TTTT(4 flips)\n",
      "TTHTHTHTTHHH(12 flips)\n",
      "HTHTTHTHHTTT(12 flips)\n",
      "The average number of flips is 8.0\n"
     ]
    }
   ],
   "source": [
    "sum_of_flips = 0\n",
    "\n",
    "for no_of_trials in range(0,10,1):\n",
    "    f = \"\"\n",
    "    s = \"\"\n",
    "    l = \"\"\n",
    "    no_of_flips = 0\n",
    "    \n",
    "    while no_of_flips < 3 or (f != s or s != l):\n",
    "        choice = random.choice([\"H\", \"T\"])\n",
    "        if no_of_flips >= 2:\n",
    "           f = s\n",
    "           s = l\n",
    "        l = choice\n",
    "           \n",
    "        no_of_flips = no_of_flips + 1\n",
    "        print(l, end=\"\")\n",
    "    print(\"({} flips)\".format(no_of_flips))\n",
    "    \n",
    "    sum_of_flips = sum_of_flips + no_of_flips\n",
    "    \n",
    "average = sum_of_flips / 10\n",
    "print(\"The average number of flips is {}\".format(average))"
   ]
  },
  {
   "cell_type": "markdown",
   "id": "02a4986b",
   "metadata": {},
   "source": [
    "Write a function that takes the lengths of the two shorter sides of a right triangle as\n",
    "its parameters. Return the hypotenuse of the triangle, computed using Pythagorean\n",
    "theorem, as the function’s result. Include a main program that reads the lengths of\n",
    "the shorter sides of a right triangle from the user, uses your function to compute the\n",
    "length of the hypotenuse, and displays the result.\n"
   ]
  },
  {
   "cell_type": "code",
   "execution_count": 1,
   "id": "f2d2e77e",
   "metadata": {},
   "outputs": [
    {
     "name": "stdout",
     "output_type": "stream",
     "text": [
      "6.4031242374328485\n"
     ]
    }
   ],
   "source": [
    "# what: define (a function), compute (hypothese, based on pythagoras theorm)\n",
    "# call (function, with values), display results\n",
    "import math\n",
    "\n",
    "def hypotenuse(opp, adj):\n",
    "    hypo = math.sqrt(opp**2 + adj**2)\n",
    "    return hypo\n",
    "\n",
    "length = hypotenuse(4,5)\n",
    "print(length)"
   ]
  },
  {
   "cell_type": "markdown",
   "id": "980e87ab",
   "metadata": {},
   "source": [
    "In a particular jurisdiction, taxi fares consist of a base fare of $4.00, plus $0.25\n",
    "for every 140 meters travelled. Write a function that takes the distance travelled (in\n",
    "kilometers) as its only parameter and returns the total fare as its only result. Write a\n",
    "main program that demonstrates the function.\n",
    "Hint: Taxi fares change over time. Use constants to represent the base fare and\n",
    "the variable portion of the fare so that the program can be updated easily when\n",
    "the rates increase."
   ]
  },
  {
   "cell_type": "code",
   "execution_count": 3,
   "id": "c36e261b",
   "metadata": {},
   "outputs": [
    {
     "name": "stdout",
     "output_type": "stream",
     "text": [
      "Enter distance travelled: 145\n",
      "4.25\n"
     ]
    }
   ],
   "source": [
    "# what: define (function, to compute taxi fare)\n",
    "\n",
    "def taxiFare(distance, base_fare = 4, add_fare = 0.25):\n",
    "    extra = distance//140\n",
    "    extra_fee = extra * add_fare\n",
    "    \n",
    "    return (base_fare + extra_fee)\n",
    "\n",
    "distance_travelled = float(input(\"Enter distance travelled: \"))\n",
    "\n",
    "total_fee = taxiFare(distance_travelled)\n",
    "\n",
    "print(total_fee)\n",
    "    \n",
    "    "
   ]
  },
  {
   "cell_type": "markdown",
   "id": "aa3e599c",
   "metadata": {},
   "source": [
    "An online retailer provides express shipping for many of its items at a rate of $10.95\n",
    "for the first item in an order, and $2.95 for each subsequent item in the same order.\n",
    "Write a function that takes the number of items in the order as its only parameter.\n",
    "Return the shipping charge for the order as the function’s result. Include a main\n",
    "program that reads the number of items purchased from the user and displays the\n",
    "shipping charge."
   ]
  },
  {
   "cell_type": "code",
   "execution_count": 4,
   "id": "8e466361",
   "metadata": {},
   "outputs": [
    {
     "name": "stdout",
     "output_type": "stream",
     "text": [
      "Enter number of items: 4\n",
      "19.8\n"
     ]
    }
   ],
   "source": [
    "# what: define (function, to compute shipping cost)\n",
    "def shippingCharge(noOfItems, firstItem = 10.95, subsequentItems = 2.95):\n",
    "    if (noOfItems > 1):\n",
    "        cost = firstItem + (noOfItems-1) * 2.95\n",
    "    else:\n",
    "        cost = firstItem\n",
    "    return cost\n",
    "\n",
    "number_of_order = int(input(\"Enter number of items: \"))\n",
    "\n",
    "charge = shippingCharge(number_of_order)\n",
    "\n",
    "print(charge)"
   ]
  },
  {
   "cell_type": "markdown",
   "id": "ca56ecce",
   "metadata": {},
   "source": [
    "Write a function that takes three numbers as parameters, and returns the median value\n",
    "of those parameters as its result. Include a main program that reads three values from\n",
    "the user and displays their median.\n",
    "Hint: The median value is the middle of the three values when they are sorted\n",
    "into ascending order. It can be found using if statements, or with a little bit of\n",
    "mathematical creativity."
   ]
  },
  {
   "cell_type": "code",
   "execution_count": 7,
   "id": "b658bcb8",
   "metadata": {
    "scrolled": true
   },
   "outputs": [
    {
     "name": "stdout",
     "output_type": "stream",
     "text": [
      "Enter number 1: 3\n",
      "Enter number 2: 5\n",
      "Enter number 3: 4\n",
      "4\n"
     ]
    }
   ],
   "source": [
    "# what: define (function, to read, produce median)\n",
    "\n",
    "def median(f, s, t):\n",
    "    while (f > s or s > t):\n",
    "        if f > s:\n",
    "            h = f\n",
    "            f = s\n",
    "            s = h\n",
    "        else:\n",
    "            pass\n",
    "        if s > t:\n",
    "            h = s\n",
    "            s = t\n",
    "            t = h\n",
    "        else:\n",
    "            pass\n",
    "        \n",
    "    return(s)\n",
    "\n",
    "a = int(input(\"Enter number 1: \"))\n",
    "b = int(input(\"Enter number 2: \"))\n",
    "c = int(input(\"Enter number 3: \"))\n",
    "\n",
    "middle = median(a,b,c)\n",
    "\n",
    "print(middle)"
   ]
  },
  {
   "cell_type": "markdown",
   "id": "988f26be",
   "metadata": {},
   "source": [
    "Words like first, second and third are referred to as ordinal numbers. In this exercise,\n",
    "you will write a function that takes an integer as its only parameter and returns a\n",
    "string containing the appropriate English ordinal number as its only result. Your\n",
    "function must handle the integers between 1 and 12 (inclusive). It should return an\n",
    "empty string if the function is called with an argument outside of this range. Include\n",
    "a main program that demonstrates your function by displaying each integer from 1\n",
    "to 12 and its ordinal number. Your main program should only run when your file has\n",
    "not been imported into another program."
   ]
  },
  {
   "cell_type": "code",
   "execution_count": 11,
   "id": "d3ba9aec",
   "metadata": {},
   "outputs": [
    {
     "name": "stdout",
     "output_type": "stream",
     "text": [
      "1 - first\n",
      "2 - second\n",
      "3 - third\n",
      "4 - fourth\n",
      "5 - fifth\n",
      "6 - sixth\n",
      "7 - seventh\n",
      "8 - eighth\n",
      "9 - nineth\n",
      "10 - tenth\n",
      "11 - eleventh\n",
      "12 - twelveth\n"
     ]
    }
   ],
   "source": [
    "# what: define (function, to return ordianl number)\n",
    "\n",
    "def ordinal(number):\n",
    "    list_of_ordinals = [\"first\", \"second\", \"third\", \"fourth\", \"fifth\", \"sixth\", \"seventh\", \"eighth\", \"nineth\", \"tenth\", \"eleventh\", \"twelveth\"]\n",
    "    \n",
    "    o = list_of_ordinals[number-1]\n",
    "    return o\n",
    "\n",
    "for position in range(1,13,1):\n",
    "    ordinals = ordinal(position)\n",
    "    \n",
    "    print(\"{} - {}\".format(position, ordinals))"
   ]
  },
  {
   "cell_type": "markdown",
   "id": "88487895",
   "metadata": {},
   "source": [
    "The Twelve Days of Christmas is a repetitive song that describes an increasingly\n",
    "long list of gifts sent to one’s true love on each of 12 days. A single gift is sent on\n",
    "the first day. A new gift is added to the collection on each additional day, and then\n",
    "the complete collection is sent. The first three verses of the song are shown below.\n",
    "The complete lyrics are available on the Internet.\n",
    "On the first day of Christmas\n",
    "my true love sent to me:\n",
    "A partridge in a pear tree.\n",
    "On the second day of Christmas\n",
    "my true love sent to me:\n",
    "Two turtle doves,\n",
    "And a partridge in a pear tree.\n",
    "On the third day of Christmas\n",
    "my true love sent to me:\n",
    "Three French hens,\n",
    "Two turtle doves,\n",
    "And a partridge in a pear tree.\n",
    "Write a program that displays the complete lyrics for The Twelve Days of Christmas.\n",
    "Your program should include a function that displays one verse of the song. It\n",
    "will take the verse number as its only parameter. Then your program should call this\n",
    "function 12 times with integers that increase from 1 to 12.\n",
    "Each item that is sent to the recipient in the song should only appear in your\n",
    "program once, with the possible exception of the partridge. It may appear twice if\n",
    "that helps you handle the difference between “A partridge in a pear tree” in the first\n",
    "verse and “And a partridge in a pear tree” in the subsequent verses. Import your\n",
    "solution to Exercise 89 to help you complete this exercise."
   ]
  },
  {
   "cell_type": "code",
   "execution_count": 12,
   "id": "a7358b5e",
   "metadata": {},
   "outputs": [
    {
     "data": {
      "text/plain": [
       "'hello'"
      ]
     },
     "execution_count": 12,
     "metadata": {},
     "output_type": "execute_result"
    }
   ],
   "source": [
    "\"{}\".format(\"hello\")"
   ]
  },
  {
   "cell_type": "code",
   "execution_count": 17,
   "id": "e2b9aca3",
   "metadata": {},
   "outputs": [
    {
     "name": "stdout",
     "output_type": "stream",
     "text": [
      "On the first day of Christmas\n",
      "my true love sent to me:\n",
      "And a partridge in a pear tree\n",
      "\n",
      "On the second day of Christmas\n",
      "my true love sent to me:\n",
      "Two turtle doves\n",
      "And a partridge in a pear tree\n",
      "\n",
      "On the third day of Christmas\n",
      "my true love sent to me:\n",
      "Three French hens\n",
      "Two turtle doves\n",
      "And a partridge in a pear tree\n",
      "\n",
      "On the fourth day of Christmas\n",
      "my true love sent to me:\n",
      "four calling birds\n",
      "Three French hens\n",
      "Two turtle doves\n",
      "And a partridge in a pear tree\n",
      "\n",
      "On the fifth day of Christmas\n",
      "my true love sent to me:\n",
      "five gold rings\n",
      "four calling birds\n",
      "Three French hens\n",
      "Two turtle doves\n",
      "And a partridge in a pear tree\n",
      "\n",
      "On the sixth day of Christmas\n",
      "my true love sent to me:\n",
      "six geese a-laying\n",
      "five gold rings\n",
      "four calling birds\n",
      "Three French hens\n",
      "Two turtle doves\n",
      "And a partridge in a pear tree\n",
      "\n",
      "On the seventh day of Christmas\n",
      "my true love sent to me:\n",
      "seven swans a-swimming\n",
      "six geese a-laying\n",
      "five gold rings\n",
      "four calling birds\n",
      "Three French hens\n",
      "Two turtle doves\n",
      "And a partridge in a pear tree\n",
      "\n",
      "On the eighth day of Christmas\n",
      "my true love sent to me:\n",
      "eight maids a-milking\n",
      "seven swans a-swimming\n",
      "six geese a-laying\n",
      "five gold rings\n",
      "four calling birds\n",
      "Three French hens\n",
      "Two turtle doves\n",
      "And a partridge in a pear tree\n",
      "\n",
      "On the nineth day of Christmas\n",
      "my true love sent to me:\n",
      "nine ladies dancing\n",
      "eight maids a-milking\n",
      "seven swans a-swimming\n",
      "six geese a-laying\n",
      "five gold rings\n",
      "four calling birds\n",
      "Three French hens\n",
      "Two turtle doves\n",
      "And a partridge in a pear tree\n",
      "\n",
      "On the tenth day of Christmas\n",
      "my true love sent to me:\n",
      "ten lords a-leaping\n",
      "nine ladies dancing\n",
      "eight maids a-milking\n",
      "seven swans a-swimming\n",
      "six geese a-laying\n",
      "five gold rings\n",
      "four calling birds\n",
      "Three French hens\n",
      "Two turtle doves\n",
      "And a partridge in a pear tree\n",
      "\n",
      "On the eleventh day of Christmas\n",
      "my true love sent to me:\n",
      "eleven pipers piping\n",
      "ten lords a-leaping\n",
      "nine ladies dancing\n",
      "eight maids a-milking\n",
      "seven swans a-swimming\n",
      "six geese a-laying\n",
      "five gold rings\n",
      "four calling birds\n",
      "Three French hens\n",
      "Two turtle doves\n",
      "And a partridge in a pear tree\n",
      "\n",
      "On the twelveth day of Christmas\n",
      "my true love sent to me:\n",
      "twelve drummers drumming\n",
      "eleven pipers piping\n",
      "ten lords a-leaping\n",
      "nine ladies dancing\n",
      "eight maids a-milking\n",
      "seven swans a-swimming\n",
      "six geese a-laying\n",
      "five gold rings\n",
      "four calling birds\n",
      "Three French hens\n",
      "Two turtle doves\n",
      "And a partridge in a pear tree\n",
      "\n"
     ]
    }
   ],
   "source": [
    "# what: define (function, to print each verse of Twelve days of christmas)\n",
    "\n",
    "def verse(dayNumber):\n",
    "    gift = [\"And a partridge in a pear tree\", \"Two turtle doves\", \"Three French hens\",\n",
    "            \"four calling birds\", \"five gold rings\", \"six geese a-laying\",\n",
    "            \"seven swans a-swimming\", \"eight maids a-milking\", \"nine ladies dancing\",\n",
    "            \"ten lords a-leaping\", \"eleven pipers piping\", \"twelve drummers drumming\"]\n",
    "    \n",
    "    day = [\"first\", \"second\", \"third\", \"fourth\", \"fifth\", \"sixth\", \"seventh\", \"eighth\", \"nineth\", \"tenth\", \"eleventh\", \"twelveth\"]\n",
    "    \n",
    "    verse = \"On the {} day of Christmas\\nmy true love sent to me:\".format(day[dayNumber - 1])\n",
    "    while dayNumber > 0:\n",
    "        line = gift[dayNumber - 1]\n",
    "        verse = verse + \"\\n\" + line\n",
    "        dayNumber = dayNumber - 1\n",
    "    return verse\n",
    "        \n",
    "for count in range(1,13,1):\n",
    "    print(verse(count), end=\"\\n\\n\")"
   ]
  },
  {
   "cell_type": "markdown",
   "id": "cd114cd4",
   "metadata": {},
   "source": [
    "An ordinal date consists of a year and a day within it, both of which are integers. The\n",
    "year can be any year in the Gregorian calendar while the day within the year ranges\n",
    "from one, which represents January 1, through to 365 (or 366 if the year is a leap\n",
    "year) which represents December 31. Ordinal dates are convenient when computing\n",
    "differences between dates that are a specific number of days (rather than months). For\n",
    "example, ordinal dates can be used to easily determine whether a customer is within\n",
    "a 90 day return period, the sell-by date for a food-product based on its production\n",
    "date, and the due date for a baby.\n",
    "Write a function named ordinalDate that takes three integers as parameters.\n",
    "These parameters will be a day, month and year respectively. The function should\n",
    "return the day within the year for that date as its only result. Create a main program\n",
    "that reads a day,month and year from the user and displays the day within the year for\n",
    "that date. Your main program should only run when your file has not been imported\n",
    "into another program."
   ]
  },
  {
   "cell_type": "code",
   "execution_count": 8,
   "id": "bafc9563",
   "metadata": {},
   "outputs": [
    {
     "name": "stdout",
     "output_type": "stream",
     "text": [
      "Enter day:13\n",
      "Enter month:4\n",
      "Enter year:2000\n",
      "April 13, 2000\n"
     ]
    }
   ],
   "source": [
    "# what: define(function, to print date from ordinal dates)\n",
    "\n",
    "def ordinalDate(day,month,year):\n",
    "    months =  ['January', 'February', 'March', 'April', 'May', 'June', 'July', 'August', 'September', 'October', 'November', 'December']\n",
    "    month_31 = [1,3,5,7,8,10,12]\n",
    "    month_30 = [4,6,9,11]\n",
    "    if (month in month_31 and day <= 31) or (month in month_30 and day <= 30) or (month== 2 and day <= 29):\n",
    "        month_name = months[month - 1]\n",
    "        day_within = \"{} {}, {}\".format(month_name, str(day), year)\n",
    "        return day_within\n",
    "    else:\n",
    "        return \"Error\"\n",
    "\n",
    "day = int(input(\"Enter day:\"))\n",
    "month = int(input(\"Enter month:\"))\n",
    "year = int(input(\"Enter year:\"))\n",
    "\n",
    "c = ordinalDate(day,month,year)\n",
    "print(c)"
   ]
  },
  {
   "cell_type": "code",
   "execution_count": 21,
   "id": "b0dc99f1",
   "metadata": {},
   "outputs": [
    {
     "data": {
      "text/plain": [
       "['April', '13', '2000']"
      ]
     },
     "execution_count": 21,
     "metadata": {},
     "output_type": "execute_result"
    }
   ],
   "source": [
    "d = c.replace(\",\", \"\").split(\" \")\n",
    "d"
   ]
  },
  {
   "cell_type": "code",
   "execution_count": 23,
   "id": "c80fd21f",
   "metadata": {},
   "outputs": [
    {
     "data": {
      "text/plain": [
       "1"
      ]
     },
     "execution_count": 23,
     "metadata": {},
     "output_type": "execute_result"
    }
   ],
   "source": [
    "d.index('13')"
   ]
  },
  {
   "cell_type": "markdown",
   "id": "def8fc0d",
   "metadata": {},
   "source": [
    "Create a function that takes an ordinal date, consisting of a year and a day within in\n",
    "that year, as its parameters. The function will return the day and month corresponding\n",
    "to that ordinal date as its results. Ensure that your function handles leap years\n",
    "correctly.\n",
    "Use your function, as well as the ordinalDate function that you wrote previously,\n",
    "to create a program that reads a date from the user. Then your program should\n",
    "report a second date that occurs some number of days later. For example, your program\n",
    "could read the date a product was purchased and then report the last date that\n",
    "it can be returned (based on a return period that is a particular number of days), or\n",
    "your program could compute the due date for a baby based on a gestation period of\n",
    "280 days. Ensure that your program correctly handles cases where the entered date\n",
    "and the computed date occur in different years."
   ]
  },
  {
   "cell_type": "code",
   "execution_count": 36,
   "id": "08ae077b",
   "metadata": {},
   "outputs": [],
   "source": [
    "def computeDueDate(date, due_period = 0):\n",
    "    months =  ['January', 'February', 'March', 'April', 'May', 'June', 'July', 'August', 'September', 'October', 'November', 'December']\n",
    "    month_31 = [1,3,5,7,8,10,12]\n",
    "    month_30 = [4,6,9,11]\n",
    "    \n",
    "    dateFormat = date.replace(\",\", \"\").split(\" \")\n",
    "    \n",
    "    month_name = dateFormat[0]\n",
    "    day = int(dateFormat[1])\n",
    "    year = int(dateFormat[2])\n",
    "    \n",
    "    month_no = months.index(month_name) + 1\n",
    "    \n",
    "    due_day = day + due_period\n",
    "    \n",
    "    while (due_day > 31 and month_no in month_31) or (due_day > 30 and month_no in month_30) or (due_day > 28 and month_no == 2):\n",
    "        if due_day > 31 and month_no in month_31:\n",
    "            max_of_month = 31\n",
    "        elif due_day > 30 and month_no in month_30:\n",
    "            max_of_month = 30\n",
    "        else:\n",
    "            max_of_month = 28\n",
    "        \n",
    "        due_day = due_day - max_of_month\n",
    "        if month_no < 12:\n",
    "            month_no = month_no + 1\n",
    "        else:\n",
    "            month_no = 1\n",
    "            year = year + 1\n",
    "    \n",
    "    due_date = \"{} {}, {}\".format(months[month_no - 1], str(due_day), str(year))\n",
    "    \n",
    "    return due_date"
   ]
  },
  {
   "cell_type": "code",
   "execution_count": 38,
   "id": "232435fe",
   "metadata": {},
   "outputs": [
    {
     "name": "stdout",
     "output_type": "stream",
     "text": [
      "Enter day:31\n",
      "Enter month:1\n",
      "Enter year:2000\n",
      "November 7, 2000\n"
     ]
    }
   ],
   "source": [
    "day = int(input(\"Enter day:\"))\n",
    "month = int(input(\"Enter month:\"))\n",
    "year = int(input(\"Enter year:\"))\n",
    "\n",
    "start_date = ordinalDate(day,month,year) \n",
    "type(start_date)\n",
    "\n",
    "due_dat = computeDueDate(start_date, due_period=280)\n",
    "\n",
    "print(due_dat)"
   ]
  },
  {
   "cell_type": "code",
   "execution_count": null,
   "id": "27a467aa",
   "metadata": {},
   "outputs": [],
   "source": []
  },
  {
   "cell_type": "code",
   "execution_count": 12,
   "id": "69ce060a",
   "metadata": {},
   "outputs": [
    {
     "data": {
      "text/plain": [
       "(4, 12)"
      ]
     },
     "execution_count": 12,
     "metadata": {},
     "output_type": "execute_result"
    }
   ],
   "source": [
    "v"
   ]
  },
  {
   "cell_type": "code",
   "execution_count": 6,
   "id": "8980a110",
   "metadata": {},
   "outputs": [
    {
     "data": {
      "text/plain": [
       "4"
      ]
     },
     "execution_count": 6,
     "metadata": {},
     "output_type": "execute_result"
    }
   ],
   "source": [
    "b[\"year\"]"
   ]
  },
  {
   "cell_type": "markdown",
   "id": "28d4cc6b",
   "metadata": {},
   "source": [
    "Write a function that takes a string, s, as its first parameter, and the width of the\n",
    "window in characters, w, as its second parameter. Your function will return a new\n",
    "string that includes whatever leading spaces are needed so that s will be centered in\n",
    "the window when the new string is printed. The new string should be constructed in\n",
    "the following manner:\n",
    "• If the length of s is greater than or equal to the width of the window then s should\n",
    "be returned.\n",
    "• If the length of s is less than the width of the window then a string containing\n",
    "(len(s) - w) // 2 spaces followed by s should be returned.\n",
    "Write a main program that demonstrates your function by displaying multiple\n",
    "strings centered in the window."
   ]
  },
  {
   "cell_type": "code",
   "execution_count": 40,
   "id": "0f939152",
   "metadata": {},
   "outputs": [
    {
     "name": "stdout",
     "output_type": "stream",
     "text": [
      "Enter word: hello\n",
      "Enter screen width: 123\n",
      "                                                           hello\n"
     ]
    }
   ],
   "source": [
    "def centralizeString(string, screen_width):\n",
    "    length_of_string = len(string)\n",
    "    \n",
    "    if length_of_string > screen_width:\n",
    "        return string\n",
    "    else:\n",
    "        side_spacing = (screen_width - length_of_string) // 2\n",
    "        displayed_string = \" \" * side_spacing + string\n",
    "        return displayed_string\n",
    "\n",
    "word = input(\"Enter word: \")\n",
    "screen_size = int(input(\"Enter screen width: \"))\n",
    "\n",
    "displayed = centralizeString(word, screen_size)\n",
    "print(displayed)"
   ]
  },
  {
   "cell_type": "code",
   "execution_count": 39,
   "id": "e6edba0e",
   "metadata": {},
   "outputs": [
    {
     "data": {
      "text/plain": [
       "123"
      ]
     },
     "execution_count": 39,
     "metadata": {},
     "output_type": "execute_result"
    }
   ],
   "source": [
    "len(\"...........................................................................................................................\")"
   ]
  },
  {
   "cell_type": "markdown",
   "id": "249a1bdb",
   "metadata": {},
   "source": [
    "If you have 3 straws, possibly of differing lengths, it may or may not be possible\n",
    "to lay them down so that they form a triangle when their ends are touching. For\n",
    "example, if all of the straws have a length of 6 inches then one can easily construct\n",
    "an equilateral triangle using them. However, if one straw is 6 inches long, while\n",
    "the other two are each only 2 inches long, then a triangle cannot be formed. More\n",
    "generally, if any one length is greater than or equal to the sum of the other two then\n",
    "the lengths cannot be used to form a triangle. Otherwise they can form a triangle.\n",
    "Write a function that determines whether or not three lengths can form a triangle.\n",
    "The function will take 3 parameters and return a Boolean result. If any of the lengths\n",
    "are less than or equal to 0 then your function should return False. Otherwise it\n",
    "should determine whether or not the lengths can be used to form a triangle using\n",
    "the method described in the previous paragraph, and return the appropriate result.\n",
    "In addition, write a program that reads 3 lengths from the user and demonstrates the\n",
    "behaviour of your function."
   ]
  },
  {
   "cell_type": "code",
   "execution_count": 42,
   "id": "613a4d52",
   "metadata": {},
   "outputs": [
    {
     "name": "stdout",
     "output_type": "stream",
     "text": [
      "Enter length of side 1: 3\n",
      "Enter length of side 2: 4\n",
      "Enter length of side 3: 2\n",
      "True\n"
     ]
    }
   ],
   "source": [
    "def canFormTriangle(a,b,c):\n",
    "    if a <= 0 or b <= 0 or c <= 0:\n",
    "        result = False\n",
    "    else:\n",
    "        if (a >= b + c) or (a >= b + c) or (a >= b + c):\n",
    "            result = False\n",
    "        else:\n",
    "            result = True\n",
    "    return result\n",
    "\n",
    "a = float(input(\"Enter length of side 1: \"))\n",
    "b = float(input(\"Enter length of side 2: \"))\n",
    "c = float(input(\"Enter length of side 3: \"))\n",
    "\n",
    "result = canFormTriangle(b,a,c)\n",
    "print(result)"
   ]
  },
  {
   "cell_type": "markdown",
   "id": "f4c5ced5",
   "metadata": {},
   "source": [
    "Many people do not use capital letters correctly, especially when typing on small\n",
    "devices like smart phones. To help address this situation, you will create a function\n",
    "that takes a string as its only parameter and returns a new copy of the string that has\n",
    "been correctly capitalized. In particular, your function must:\n",
    "• Capitalize the first non-space character in the string,\n",
    "• Capitalize the first non-space character after a period, exclamation mark or question\n",
    "mark, and\n",
    "• Capitalize a lowercase “i” if it is preceded by a space and followed by a space,\n",
    "period, exclamation mark, question mark or apostrophe.\n",
    "Implementing these transformations will correct most capitalization errors. For\n",
    "example, if themm function is provided with the string “what time do i have to be there?\n",
    "what’s the address? this time i’ll try to be on time!” then it should return the string\n",
    "“What time do I have to be there? What’s the address? This time I’ll try to be on\n",
    "time!”. Include a main program that reads a string from the user, capitalizes it using\n",
    "your function, and displays the result.mm"
   ]
  },
  {
   "cell_type": "code",
   "execution_count": 16,
   "id": "18550ef5",
   "metadata": {},
   "outputs": [
    {
     "name": "stdout",
     "output_type": "stream",
     "text": [
      "Enter sentence: what time do i have to be there? what's the address? this time i'll try to be on time!\n",
      "5\n",
      "7\n",
      "12\n",
      "14\n",
      "54\n",
      "56\n",
      "58\n",
      "60\n",
      "62\n",
      "64\n",
      "81\n",
      "83\n",
      "What time do I have to be there? What's the address? This time I'll try to be on time!\n"
     ]
    }
   ],
   "source": [
    "def capitialize(string):\n",
    "    new_string = \"\"\n",
    "    first_char = True\n",
    "    signs = [\".\", \"!\", \"?\"]\n",
    "    \n",
    "    # Go through the string via index\n",
    "    for index in range(0, len(string), 1):\n",
    "        letter = string[index]\n",
    "        \n",
    "        # If any of signs, change state of first charcter to True\n",
    "        if letter in signs or letter == \" \":\n",
    "            if letter in signs:\n",
    "                first_char = True\n",
    "            \n",
    "        # if state is True, Capitialize\n",
    "        elif first_char == True:\n",
    "            letter = letter.upper()\n",
    "            first_char = False\n",
    "            \n",
    "        # if state is False\n",
    "        else:\n",
    "            # Special Case I\n",
    "            if letter == \"i\":\n",
    "                letterb4 = string[index - 1]\n",
    "                letteraft = string[index + 1]\n",
    "                # if its a pronoun I, capitialize\n",
    "                if letterb4 == \" \" and (letteraft in signs or letteraft == \" \" or letteraft == \"'\"):\n",
    "                    letter = letter.upper()\n",
    "                # Dont\n",
    "                else:\n",
    "                    pass\n",
    "            else:\n",
    "                pass\n",
    "        new_string = new_string + letter\n",
    "    return new_string\n",
    "\n",
    "\n",
    "def main():\n",
    "    sentence = input(\"Enter sentence: \")\n",
    "    new_sentence = capitialize(sentence)\n",
    "    print(new_sentence)\n",
    "\n",
    "main()"
   ]
  },
  {
   "cell_type": "code",
   "execution_count": 9,
   "id": "6df9767a",
   "metadata": {},
   "outputs": [
    {
     "data": {
      "text/plain": [
       "'D'"
      ]
     },
     "execution_count": 9,
     "metadata": {},
     "output_type": "execute_result"
    }
   ],
   "source": [
    "what time do i have to be there?\n",
    "what’s the address? this time i’ll try to be on time!"
   ]
  },
  {
   "cell_type": "markdown",
   "id": "a1e559fc",
   "metadata": {},
   "source": [
    "In this exercise you will write a function named isInteger that determines\n",
    "whether or not the characters in a string represent a valid integer. When determining\n",
    "if a string represents an integer you should ignore any leading or trailing\n",
    "white space. Once this white space is ignored, a string represents an integer if its\n",
    "length is at least one and it only contains digits, or if its first character is either +\n",
    "or - and the first character is followed by one or more characters, all of which are\n",
    "digits.\n",
    "Write a main program that reads a string from the user and reports whether or\n",
    "not it represents an integer. Ensure that the main program will not run if the file\n",
    "containing your solution is imported into another program.\n",
    "Hint: You may find the lstrip, rstrip and/or strip methods for strings\n",
    "helpful when completing this exercise. Documentation for these methods is\n",
    "available online."
   ]
  },
  {
   "cell_type": "code",
   "execution_count": 15,
   "id": "01279a4c",
   "metadata": {},
   "outputs": [
    {
     "name": "stdout",
     "output_type": "stream",
     "text": [
      "Enter integer:     237\n",
      "Is an Integer\n"
     ]
    }
   ],
   "source": [
    "def isInteger(string):\n",
    "    for index, character in enumerate(string.strip(\" \")):\n",
    "        if (index == 0 and character in [\"+\", \"-\"]) or (ord(character) >= 48 and ord(character) <= 57):\n",
    "            continue\n",
    "        else:\n",
    "            status = \"Not an Integer\"\n",
    "            return status\n",
    "    status = \"Is an Integer\"\n",
    "    return status\n",
    "\n",
    "def main():\n",
    "    numb = input(\"Enter integer: \")\n",
    "    \n",
    "    result = isInteger(numb)\n",
    "    print(result)\n",
    "main()"
   ]
  },
  {
   "cell_type": "code",
   "execution_count": 3,
   "id": "33ef0c7f",
   "metadata": {},
   "outputs": [],
   "source": [
    "a = \"ghdgi\""
   ]
  },
  {
   "cell_type": "code",
   "execution_count": 7,
   "id": "1a89e395",
   "metadata": {},
   "outputs": [
    {
     "data": {
      "text/plain": [
       "103"
      ]
     },
     "execution_count": 7,
     "metadata": {},
     "output_type": "execute_result"
    }
   ],
   "source": [
    "ord(\"g\")"
   ]
  },
  {
   "cell_type": "code",
   "execution_count": 9,
   "id": "818e66d6",
   "metadata": {},
   "outputs": [
    {
     "data": {
      "text/plain": [
       "'g'"
      ]
     },
     "execution_count": 9,
     "metadata": {},
     "output_type": "execute_result"
    }
   ],
   "source": [
    "chr(103)"
   ]
  },
  {
   "cell_type": "code",
   "execution_count": 6,
   "id": "597a3b8a",
   "metadata": {},
   "outputs": [
    {
     "name": "stdout",
     "output_type": "stream",
     "text": [
      "0\n",
      "1\n",
      "2\n",
      "0\n",
      "4\n"
     ]
    }
   ],
   "source": [
    "for i in a:\n",
    "    print(a.index(i))"
   ]
  },
  {
   "cell_type": "markdown",
   "id": "7dc917d1",
   "metadata": {},
   "source": [
    "Write a function named precedence that returns an integer representing the precedence\n",
    "of a mathematical operator. A string containing the operator will be passed to\n",
    "the function as its only parameter. Your function should return 1 for + and -, 2 for *\n",
    "and /, and 3 for ˆ. If the string passed to the function is not one of these operators\n",
    "then the function should return -1. Include a main program that reads an operator\n",
    "from the user and either displays the operator’s precedence or an error message indicating\n",
    "that the input was not an operator. Your main program should only run when\n",
    "the file containing your solution has not been imported into another program.\n",
    "In this exercise, along with others that appear later in the book, we will use\n",
    "ˆ to represent exponentiation. Using ˆ instead of Python’s choice of **\n",
    "will make these exercises easier because an operator will always be a single\n",
    "character."
   ]
  },
  {
   "cell_type": "code",
   "execution_count": 18,
   "id": "de2b655e",
   "metadata": {},
   "outputs": [
    {
     "name": "stdout",
     "output_type": "stream",
     "text": [
      "Enter precedence: +\n",
      "1\n"
     ]
    }
   ],
   "source": [
    "def precedence(string):\n",
    "    if string == \"+\" or string == \"-\":\n",
    "        value = 1\n",
    "    elif string == \"*\" or string == \"/\":\n",
    "        value = 2\n",
    "    elif string == \"^\":\n",
    "        value = 3\n",
    "    else:\n",
    "        value = -1\n",
    "    return value\n",
    "\n",
    "def main():\n",
    "    sr = input(\"Enter precedence: \")\n",
    "    result = precedence(sr)\n",
    "    \n",
    "    print(result)\n",
    "main()"
   ]
  },
  {
   "cell_type": "markdown",
   "id": "263873a5",
   "metadata": {},
   "source": [
    "A prime number is an integer greater than one that is only divisible by one and itself.\n",
    "Write a function that determines whether or not its parameter is prime, returning\n",
    "True if it is, and False otherwise. Write a main program that reads an integer\n",
    "from the user and displays a message indicating whether or not it is prime. Ensure\n",
    "that the main program will not run if the file containing your solution is imported\n",
    "into another program."
   ]
  },
  {
   "cell_type": "code",
   "execution_count": 2,
   "id": "4b38e322",
   "metadata": {},
   "outputs": [
    {
     "name": "stdout",
     "output_type": "stream",
     "text": [
      "1\n",
      "2\n",
      "3\n",
      "5\n",
      "7\n",
      "11\n",
      "13\n",
      "17\n",
      "19\n",
      "23\n",
      "29\n",
      "31\n",
      "37\n",
      "41\n",
      "43\n",
      "47\n",
      "53\n",
      "59\n",
      "61\n",
      "67\n",
      "71\n",
      "73\n",
      "79\n",
      "83\n",
      "89\n",
      "97\n"
     ]
    }
   ],
   "source": [
    "def isPrime(number):\n",
    "    factors = [2,3,5,7]\n",
    "    for factor in factors:\n",
    "        if (number % factor != 0 and number not in factors) or (number in factors):\n",
    "            continue\n",
    "        else:\n",
    "            return False\n",
    "    return True\n",
    "\n",
    "def main():\n",
    "    for num in range(0, 100, 1):\n",
    "        re = isPrime(num)\n",
    "        if re == True:\n",
    "            print(num)\n",
    "            \n",
    "main()"
   ]
  },
  {
   "cell_type": "markdown",
   "id": "6373340d",
   "metadata": {},
   "source": [
    "In this exercise you will create a function named nextPrime that finds and returns\n",
    "the first prime number larger than some integer, n. The value of n will be passed to\n",
    "the function as its only parameter. Include a main program that reads an integer from\n",
    "the user and displays the first prime number larger than the entered value. Import\n",
    "and use your solution to Exercise 98 while completing this exercise."
   ]
  },
  {
   "cell_type": "code",
   "execution_count": 4,
   "id": "6c818c92",
   "metadata": {},
   "outputs": [
    {
     "name": "stdout",
     "output_type": "stream",
     "text": [
      "Enter number: 24\n",
      "29\n"
     ]
    }
   ],
   "source": [
    "def nextPrime(number):\n",
    "    number = number + 1\n",
    "    while True:\n",
    "        numberIsPrime = isPrime(number)\n",
    "        if numberIsPrime == False:\n",
    "            number = number + 1\n",
    "        else:\n",
    "            break\n",
    "    return number\n",
    "\n",
    "def main():\n",
    "    num = int(input(\"Enter number: \"))\n",
    "    \n",
    "    nextPri = nextPrime(num)\n",
    "    print(nextPri)\n",
    "    \n",
    "main()"
   ]
  },
  {
   "cell_type": "markdown",
   "id": "646b517e",
   "metadata": {},
   "source": [
    "Write a function that generates a random password. The password should have a\n",
    "random length of between 7 and 10 characters. Each character should be randomly\n",
    "selected from positions 33 to 126 in the ASCII table. Your function will not take\n",
    "any parameters. It will return the randomly generated password as its only result.\n",
    "Display the randomly generated password in your file’s main program. Your main\n",
    "program should only run when your solution has not been imported into another file.\n",
    "Hint: You will probably find the chr function helpful when completing this\n",
    "exercise. Detailed information about this function is available online"
   ]
  },
  {
   "cell_type": "code",
   "execution_count": 1,
   "id": "b85a8653",
   "metadata": {},
   "outputs": [
    {
     "name": "stdout",
     "output_type": "stream",
     "text": [
      "Your password is: 9,t)~*].%n\n"
     ]
    }
   ],
   "source": [
    "import random\n",
    "def passwordGenerator():\n",
    "    #initilaze password\n",
    "    password = \"\"\n",
    "    count = 0\n",
    "    \n",
    "    # generate length\n",
    "    required_length = random.randint(7,11)\n",
    "    \n",
    "    while count <= required_length:\n",
    "        character = chr(random.randint(33, 127))\n",
    "        \n",
    "        password = password + character\n",
    "        count = count + 1\n",
    "    return password\n",
    "\n",
    "def main():\n",
    "    your_password = passwordGenerator()\n",
    "    print(\"Your password is:\", your_password)\n",
    "    \n",
    "main()"
   ]
  },
  {
   "cell_type": "markdown",
   "id": "864d0f0e",
   "metadata": {},
   "source": [
    "In a particular jurisdiction, older license plates consist of three letters followed by\n",
    "three digits. When all of the license plates following that pattern had been used, the\n",
    "format was changed to four digits followed by three letters.\n",
    "Write a function that generates a random license plate. Your function should have\n",
    "approximately equal odds of generating a sequence of characters for an old license\n",
    "plate or a new license plate. Write a main program that calls your function and\n",
    "displays the randomly generated license plate."
   ]
  },
  {
   "cell_type": "code",
   "execution_count": 23,
   "id": "4d47f76e",
   "metadata": {},
   "outputs": [
    {
     "name": "stdout",
     "output_type": "stream",
     "text": [
      "5523GQD\n"
     ]
    }
   ],
   "source": [
    "import random\n",
    "def generatePlateNumber():\n",
    "    licencePlate = \"\"\n",
    "    plateType = random.randint(0,1)\n",
    "    # 0: New, 1: old\n",
    "    if plateType == 1:\n",
    "        for position in range(0, 7, 1):\n",
    "            if position <= 3:\n",
    "                letter = str(random.randrange(0,9))\n",
    "            else:\n",
    "                letter = random.randint(65, 90)\n",
    "                letter = chr(letter)\n",
    "            licencePlate = licencePlate + letter\n",
    "    else:\n",
    "        for position in range(0, 6, 1):\n",
    "            if position > 2:\n",
    "                letter = str(random.randrange(0,9))\n",
    "            else:\n",
    "                letter = random.randint(65, 90)\n",
    "                letter = chr(letter)\n",
    "            licencePlate = licencePlate + letter\n",
    "    return licencePlate\n",
    "\n",
    "def main():\n",
    "    result = generatePlateNumber()\n",
    "    print(result)\n",
    "    \n",
    "main()"
   ]
  },
  {
   "cell_type": "code",
   "execution_count": 17,
   "id": "2a6b4ce3",
   "metadata": {},
   "outputs": [
    {
     "data": {
      "text/plain": [
       "0"
      ]
     },
     "execution_count": 17,
     "metadata": {},
     "output_type": "execute_result"
    }
   ],
   "source": [
    "import random\n",
    "random.randint(0,7)\n"
   ]
  },
  {
   "cell_type": "markdown",
   "id": "2fa22c5f",
   "metadata": {},
   "source": [
    "In this exercise you will write a function that determines whether or not a password\n",
    "is good.We will define a good password to be a one that is at least 8 characters long\n",
    "and contains at least one uppercase letter, at least one lowercase letter, and at least\n",
    "one number. Your function should return True if the password passed to it as its\n",
    "only parameter is good. Otherwise it should return False. Include a main program\n",
    "that reads a password from the user and reports whether or not it is good. Ensure\n",
    "that your main program only runs when your solution has not been imported into\n",
    "another file."
   ]
  },
  {
   "cell_type": "code",
   "execution_count": 2,
   "id": "1b7caa26",
   "metadata": {},
   "outputs": [
    {
     "name": "stdout",
     "output_type": "stream",
     "text": [
      "Enter password: asdgh782\n",
      "A good password?:  False\n"
     ]
    }
   ],
   "source": [
    "def checkPassword(password):\n",
    "    # intialize statuses\n",
    "    number_status = False\n",
    "    lower_case_status = False\n",
    "    upper_case_status = False\n",
    "    \n",
    "    length = len(password)\n",
    "    if length >= 8:\n",
    "        for position in range(0, length, 1):\n",
    "            character = password[position]\n",
    "            if character.isnumeric() == True:\n",
    "                number_status = True\n",
    "            elif character.islower() == True:\n",
    "                lower_case_status = True\n",
    "            elif character.isupper() == True:\n",
    "                upper_case_status = True\n",
    "            else:\n",
    "                pass\n",
    "        if number_status == True and lower_case_status == True and upper_case_status == True:\n",
    "            status = True\n",
    "        else:\n",
    "            status = False\n",
    "    else:\n",
    "        status = False\n",
    "    return status\n",
    "\n",
    "def main():\n",
    "    passw = input(\"Enter password: \")\n",
    "    result = checkPassword(passw)\n",
    "    print(\"A good password?: \", result)\n",
    "\n",
    "main()"
   ]
  },
  {
   "cell_type": "code",
   "execution_count": 30,
   "id": "d39e512a",
   "metadata": {},
   "outputs": [
    {
     "data": {
      "text/plain": [
       "True"
      ]
     },
     "execution_count": 30,
     "metadata": {},
     "output_type": "execute_result"
    }
   ],
   "source": []
  },
  {
   "cell_type": "markdown",
   "id": "6578f69c",
   "metadata": {},
   "source": [
    "Using your solutions to Exercises 100 and 102, write a program that generates a\n",
    "random good password and displays it. Count and display the number of attempts\n",
    "that were needed before a good password was generated. Structure your solution so\n",
    "that it imports the functions you wrote previously and then calls them from a function\n",
    "named main in the file that you create for this exercise."
   ]
  },
  {
   "cell_type": "code",
   "execution_count": 5,
   "id": "c36d1ea6",
   "metadata": {},
   "outputs": [
    {
     "name": "stdout",
     "output_type": "stream",
     "text": [
      "f&KA}YAp\n",
      "^8;~8[2Q77\n",
      "0I)ct}x&siA\n",
      "The number of times to generate a good password is:  3\n"
     ]
    }
   ],
   "source": [
    "def main():\n",
    "    # intilaize number of attempts\n",
    "    attempts = 0\n",
    "    while True:\n",
    "        generatedPassword = passwordGenerator() # generate password\n",
    "        \n",
    "        status = checkPassword(generatedPassword) # check password goodness\n",
    "        attempts = attempts + 1 # update number of attempts\n",
    "        print(generatedPassword)\n",
    "        # if password goodness is Good, end process. else, continue\n",
    "        if status == True:\n",
    "            break\n",
    "        else:\n",
    "            continue\n",
    "    print(\"The number of times to generate a good password is: \", attempts)\n",
    "\n",
    "main()"
   ]
  },
  {
   "cell_type": "markdown",
   "id": "73aaec00",
   "metadata": {},
   "source": [
    "Write two functions, hex2int and int2hex, that convert between hexadecimal\n",
    "digits (0, 1, 2, 3, 4, 5, 6, 7, 8, 9, A, B, C, D, E and F) and decimal (base 10) integers.\n",
    "The hex2int function is responsible for converting a string containing a single\n",
    "hexadecimal digit to a base 10 integer, while the int2hex function is responsible\n",
    "for converting an integer between 0 and 15 to a single hexadecimal digit. Each\n",
    "function will take the value to convert as its only parameter and return the converted\n",
    "value as its only result. Ensure that the hex2int function works correctly for both\n",
    "uppercase and lowercase letters. Your functions should display a meaningful error\n",
    "message and end the program if the parameter’s value is outside of the expected\n",
    "range."
   ]
  },
  {
   "cell_type": "code",
   "execution_count": 16,
   "id": "fd884aee",
   "metadata": {},
   "outputs": [
    {
     "name": "stdout",
     "output_type": "stream",
     "text": [
      "Enter Hexadecimal number: 2c9b\n",
      "11419\n",
      "Enter decimal number: 11419\n",
      "2C9B\n"
     ]
    }
   ],
   "source": [
    "def hex2int(hex_number, base=16):\n",
    "    length = len(hex_number)\n",
    "    index = 0\n",
    "    decimal_number = 0\n",
    "    hexa_letter = [\"A\", \"B\", \"C\", \"D\", \"E\", \"F\"]\n",
    "    \n",
    "    while index < length:\n",
    "        hex_digit = hex_number[index]\n",
    "        if hex_digit.isnumeric() == True:\n",
    "            hex_digit = int(hex_digit)\n",
    "        elif hex_digit.upper() in hexa_letter:\n",
    "            hex_digit = 10 + hexa_letter.index(hex_digit.upper())\n",
    "        else:\n",
    "            return \"Error\"\n",
    "        \n",
    "        decimal_digit = hex_digit * (base ** (length - 1 - index))\n",
    "        decimal_number = decimal_number + decimal_digit\n",
    "        index = index + 1\n",
    "    return decimal_number\n",
    "\n",
    "def int2hex(dec_number):\n",
    "    hexa_letter = [\"A\", \"B\", \"C\", \"D\", \"E\", \"F\"]\n",
    "    hex_number = \"\"\n",
    "    \n",
    "    while dec_number != 0:\n",
    "        remainder = dec_number % 16\n",
    "        dec_number = dec_number // 16\n",
    "        \n",
    "        if remainder > 9:\n",
    "            hex_digit = remainder - 10\n",
    "            hex_digit = hexa_letter[hex_digit]\n",
    "        else:\n",
    "            hex_digit = str(remainder)\n",
    "        hex_number = hex_digit + hex_number\n",
    "    return hex_number\n",
    "\n",
    "def main():\n",
    "    hexa  = input(\"Enter Hexadecimal number: \")\n",
    "    dec = hex2int(hexa)\n",
    "    print(dec)\n",
    "    \n",
    "    num  = int(input(\"Enter decimal number: \"))\n",
    "    he = int2hex(num)\n",
    "    print(he)\n",
    "main()\n"
   ]
  },
  {
   "cell_type": "code",
   "execution_count": 10,
   "id": "7f8765d7",
   "metadata": {},
   "outputs": [
    {
     "data": {
      "text/plain": [
       "'C'"
      ]
     },
     "execution_count": 10,
     "metadata": {},
     "output_type": "execute_result"
    }
   ],
   "source": []
  },
  {
   "cell_type": "markdown",
   "id": "37f62448",
   "metadata": {},
   "source": [
    "Write a program that allows the user to convert a number from one base to another.\n",
    "Your program should support bases between 2 and 16 for both the input number and\n",
    "the result number. If the user chooses a base outside of this range then an appropriate\n",
    "error message should be displayed and the program should exit. Divide your program\n",
    "into several functions, including a function that converts from an arbitrary base to\n",
    "base 10, a function that converts from base 10 to an arbitrary base, and a main\n",
    "program that reads the bases and input number from the user. You may find your\n",
    "solutions to Exercises 81, 82 and 104 helpful when completing this exercise."
   ]
  },
  {
   "cell_type": "code",
   "execution_count": 32,
   "id": "bd80a570",
   "metadata": {},
   "outputs": [
    {
     "name": "stdout",
     "output_type": "stream",
     "text": [
      "Enter number: 2c9b\n",
      "Enter the base of the number: 16\n",
      "Enter the desired base: 16\n",
      "2C9B\n"
     ]
    }
   ],
   "source": [
    "def base2dec(base_number, base):\n",
    "    length = len(base_number)\n",
    "    index = 0\n",
    "    decimal_number = 0\n",
    "    hexa_letter = [\"A\", \"B\", \"C\", \"D\", \"E\", \"F\"]\n",
    "    \n",
    "    while index < length:\n",
    "        base_digit = base_number[index]\n",
    "        if base_digit.isnumeric() == True:\n",
    "            base_digit = int(base_digit)\n",
    "        elif base_digit.upper() in hexa_letter:\n",
    "            base_digit = 10 + hexa_letter.index(base_digit.upper())\n",
    "        else:\n",
    "            return \"Error\"\n",
    "        \n",
    "        decimal_digit = base_digit * (base ** (length - 1 - index))\n",
    "        decimal_number = decimal_number + decimal_digit\n",
    "        index = index + 1\n",
    "    return decimal_number\n",
    "\n",
    "def dec2base(dec_number, base):\n",
    "    hexa_letter = [\"A\", \"B\", \"C\", \"D\", \"E\", \"F\"]\n",
    "    base_number = \"\"\n",
    "    \n",
    "    while dec_number != 0:\n",
    "        remainder = dec_number % base\n",
    "        dec_number = dec_number // base\n",
    "        \n",
    "        if remainder > 9:\n",
    "            base_digit = remainder - 10\n",
    "            base_digit = hexa_letter[base_digit]\n",
    "        else:\n",
    "            base_digit = str(remainder)\n",
    "        base_number = base_digit + base_number\n",
    "    return base_number\n",
    "\n",
    "def convertbase(number, input_base, result_base):\n",
    "    hexa_letter = [\"A\", \"B\", \"C\", \"D\", \"E\", \"F\"]\n",
    "    if input_base < 2 or input_base > 16 or result_base < 2 or result_base > 16:\n",
    "        return \"Error: base Out of range\"\n",
    "    else:\n",
    "        pass\n",
    "    # check if number base is correct\n",
    "    for digit in number:\n",
    "        if digit.isnumeric() == True:\n",
    "            if int(digit) >= input_base and input_base <= 10:\n",
    "                return \"Error: Number not in the base\"\n",
    "            else:\n",
    "                pass\n",
    "        elif digit.isalpha() == True: \n",
    "            if input_base > 10 and digit.upper() > hexa_letter[input_base - 11]:\n",
    "                return \"Error: Number not in the base\"\n",
    "            else:\n",
    "                pass\n",
    "        else:\n",
    "            return \"Error in number\"\n",
    "    # ...\n",
    "    if input_base != 10:\n",
    "        number = base2dec(number, input_base)\n",
    "    else:\n",
    "        pass\n",
    "    # ...\n",
    "    if result_base != 10:\n",
    "        result = dec2base(number, result_base)\n",
    "    else:\n",
    "        result = number\n",
    "    return result\n",
    "\n",
    "def main():\n",
    "    number = input(\"Enter number: \")\n",
    "    original_base = int(input(\"Enter the base of the number: \"))\n",
    "    desired_base = int(input(\"Enter the desired base: \"))\n",
    "    \n",
    "    output = convertbase(number, original_base, desired_base)\n",
    "    print(output)\n",
    "\n",
    "main()"
   ]
  },
  {
   "cell_type": "markdown",
   "id": "ebaa5b8d",
   "metadata": {},
   "source": [
    "Write a function that determines howmany days there are in a particular month. Your\n",
    "function will take two parameters: The month as an integer between 1 and 12, and\n",
    "the year as a four digit integer. Ensure that your function reports the correct number\n",
    "of days in February for leap years. Include a main program that reads a month and\n",
    "year from the user and displays the number of days in that month. You may find your\n",
    "solution to Exercise 58 helpful when solving this problem."
   ]
  },
  {
   "cell_type": "code",
   "execution_count": 10,
   "id": "e3b8ed8c",
   "metadata": {},
   "outputs": [
    {
     "name": "stdout",
     "output_type": "stream",
     "text": [
      "Enter the month: 1\n",
      "Enter the year: 990\n",
      "Error\n"
     ]
    }
   ],
   "source": [
    "def isLeapYear(year):\n",
    "    if year % 400 == 0:\n",
    "        is_leap_year = True\n",
    "    elif year % 100 == 0:\n",
    "        is_leap_year = False\n",
    "    elif year % 4 == 0:\n",
    "        is_leap_year = True\n",
    "    else:\n",
    "        is_leap_year = False\n",
    "    return is_leap_year\n",
    "\n",
    "def noOfDaysInMonth(month, year):\n",
    "    month_31 = [1,3,5,7,8,10,12]\n",
    "    month_30 = [4,6,9,11]\n",
    "    if (month >= 1 and month <= 12) and (year >= 1000 and year <= 9999):\n",
    "        if month in month_31:\n",
    "            days = 31\n",
    "        elif month in month_30:\n",
    "            days = 30\n",
    "        elif month == 2 and isLeapYear(year) == True:\n",
    "            days = 29\n",
    "        else:\n",
    "            days = 28\n",
    "        return days\n",
    "    else:\n",
    "        return \"Error\"\n",
    "    \n",
    "def main():\n",
    "    mon = int(input(\"Enter the month: \"))\n",
    "    yr = int(input(\"Enter the year: \"))\n",
    "    \n",
    "    print(noOfDaysInMonth(mon, yr))\n",
    "    \n",
    "main()"
   ]
  },
  {
   "cell_type": "code",
   "execution_count": 29,
   "id": "8d94f307",
   "metadata": {},
   "outputs": [
    {
     "name": "stdout",
     "output_type": "stream",
     "text": [
      "________________________________________________________\n",
      "|        Input        |       Output        |\n",
      "________________________________________________________\n",
      "|  Month   |   Year   | Expected |  Result  |  Status  |\n",
      "________________________________________________________\n",
      "|    2     |   2020   |    29    |    29    |   pass   |\n",
      "|    4     |   2020   |    30    |    30    |   pass   |\n",
      "|    1     |   2020   |    31    |    31    |   pass   |\n",
      "|    2     |   2019   |    28    |    28    |   pass   |\n",
      "|    11    |   2019   |    30    |    30    |   pass   |\n",
      "|    12    |   2019   |    31    |    31    |   pass   |\n",
      "|    1     |   990    |  Error   |  Error   |   pass   |\n",
      "________________________________________________________\n"
     ]
    }
   ],
   "source": [
    "test_month = [2,4,1,2,11,12,1]\n",
    "test_year = [2020,2020,2020,2019,2019,2019,990]\n",
    "exptd = [29,30,31,28,30,31, \"Error\"]\n",
    "\n",
    "def test(t_month, t_year, expected):\n",
    "    # Heading\n",
    "    print(\"_\"*56)\n",
    "    print(\"|{:^21}|{:^21}|\".format(\"Input\", \"Output\"))\n",
    "    print(\"_\"*56)\n",
    "    print(\"|{:^10}|{:^10}|{:^10}|{:^10}|{:^10}|\".format(\"Month\", \"Year\", \"Expected\", \"Result\", \"Status\"))\n",
    "    print(\"_\"*56)\n",
    "    \n",
    "    for i in range(0, len(t_month), 1):\n",
    "        result = noOfDaysInMonth(t_month[i], t_year[i])\n",
    "        \n",
    "        # compare\n",
    "        if result == expected[i]:\n",
    "            status = \"pass\"\n",
    "        else:\n",
    "            status = \"fail\"\n",
    "        print(\"|{:^10d}|{:^10d}|{:^10}|{:^10}|{:^10}|\".format(t_month[i], t_year[i], expected[i], result, status))\n",
    "    print(\"_\"*56)\n",
    "\n",
    "def main():\n",
    "    test(test_month, test_year, exptd)\n",
    "    \n",
    "main()"
   ]
  },
  {
   "cell_type": "markdown",
   "id": "dac55ee6",
   "metadata": {},
   "source": [
    "Write a function that takes two positive integers that represent the numerator and\n",
    "denominator of a fraction as its only parameters. The body of the function should\n",
    "reduce the fraction to lowest terms and then return both the numerator and denominator\n",
    "of the reduced fraction as its result. For example, if the parameters passed\n",
    "to the function are 6 and 63 then the function should return 2 and 21. Include a\n",
    "main program that allows the user to enter a numerator and denominator. Then your\n",
    "program should display the reduced fraction.\n",
    "Hint: In Exercise 79 you wrote a program for computing the greatest common\n",
    "divisor of two positive integers. You may find that code useful when completing\n",
    "this exercise."
   ]
  },
  {
   "cell_type": "code",
   "execution_count": 33,
   "id": "445b058a",
   "metadata": {},
   "outputs": [
    {
     "name": "stdout",
     "output_type": "stream",
     "text": [
      "Enter the numerator: 5\n",
      "Enter the denominator: 23\n",
      "num:  5 den: 23\n"
     ]
    }
   ],
   "source": [
    "def fractionReducer(numerator, demoniator):\n",
    "    divisor = 2\n",
    "    while divisor <= min(numerator, demoniator):\n",
    "        if numerator % divisor == 0 and demoniator % divisor == 0:\n",
    "            numerator = numerator//divisor\n",
    "            demoniator = demoniator//divisor\n",
    "        else:\n",
    "            divisor = divisor + 1\n",
    "    print(\"num: {:2d} den: {:2d}\".format(numerator, demoniator))\n",
    "def main():\n",
    "    num = int(input(\"Enter the numerator: \"))\n",
    "    den = int(input(\"Enter the denominator: \"))\n",
    "    fractionReducer(num, den)\n",
    "main()"
   ]
  },
  {
   "cell_type": "markdown",
   "id": "43ba15f3",
   "metadata": {},
   "source": [
    "Many recipe books still use cups, tablespoons and teaspoons to describe the volumes\n",
    "of ingredients used when cooking or baking. While such recipes are easy enough to\n",
    "follow if you have the appropriate measuring cups and spoons, they can be difficult\n",
    "to double, triple or quadruple when cooking Christmas dinner for the entire extended\n",
    "family. For example, a recipe that calls for 4 tablespoons of an ingredient requires 16\n",
    "tablespoons when quadrupled. However, 16 tablespoons would be better expressed\n",
    "(and easier to measure) as 1 cup.\n",
    "Write a function that expresses an imperial volume using the largest units possible.\n",
    "The function will take the number of units as its first parameter, and the unit\n",
    "of measure (cup, tablespoon or teaspoon) as its second parameter. It will return a\n",
    "string representing the measure using the largest possible units as its only result. For\n",
    "example, if the function is provided with parameters representing 59 teaspoons then\n",
    "it should return the string “1 cup, 3 tablespoons, 2 teaspoons”.\n",
    "Hint: One cup is equivalent to 16 tablespoons. One tablespoon is equivalent\n",
    "to 3 teaspoons."
   ]
  },
  {
   "cell_type": "code",
   "execution_count": 45,
   "id": "ceb68924",
   "metadata": {},
   "outputs": [
    {
     "name": "stdout",
     "output_type": "stream",
     "text": [
      "Enter the unit: cup\n",
      "Enter the quantity: 63.5\n",
      "63.0 Cup 8.0 tablespoons \n"
     ]
    }
   ],
   "source": [
    "def measure(quantity_left, unit):\n",
    "    string = \"\"\n",
    "    unit = unit.lower()\n",
    "    # Cups\n",
    "    if unit == \"cup\" or unit == \"tablespoon\" and quantity_left >= 16 or unit == \"teaspoon\" and quantity_left >= 16*3:\n",
    "        if unit == \"teaspoon\":\n",
    "            no_of_cups = quantity_left // (3*16)\n",
    "            quantity_left = quantity_left - no_of_cups * (3 * 16)\n",
    "        elif unit == \"tablespoon\":\n",
    "            no_of_cups = quantity_left // 16\n",
    "            quantity_left = quantity_left - no_of_cups * 16\n",
    "        else:\n",
    "            if quantity_left % 1 != 0:\n",
    "                no_of_cups = quantity_left // 1\n",
    "                quantity_left = (quantity_left - no_of_cups) * 16\n",
    "                unit = \"tablespoon\"\n",
    "            else:\n",
    "                no_of_cups = quantity_left\n",
    "        stringPart = \"{} Cup \".format(no_of_cups)\n",
    "        string = string + stringPart\n",
    "    # Tablespoons\n",
    "    if unit == \"tablespoon\" or unit == \"teaspoon\" and quantity_left >= 3:\n",
    "        if unit == \"teaspoon\":\n",
    "            no_of_tablespoons = quantity_left // 3\n",
    "            quantity_left = quantity_left - no_of_tablespoons * 3\n",
    "        else:\n",
    "            if quantity_left % 1 != 0:\n",
    "                no_of_tablespoons = quantity_left // 1\n",
    "                quantity_left = (quantity_left - no_of_tablespoons) * 3\n",
    "                unit = \"teaspoon\"\n",
    "            else:\n",
    "                no_of_tablespoons = quantity_left\n",
    "        stringPart = \"{} tablespoons \".format(no_of_tablespoons)\n",
    "        string = string + stringPart\n",
    "    # Teaspoons\n",
    "    if unit == \"teaspoon\":\n",
    "        no_of_teaspoon = quantity_left\n",
    "        stringPart = \"{} teaspoons \".format(no_of_teaspoon)\n",
    "        string = string + stringPart\n",
    "        \n",
    "    return string\n",
    "\n",
    "def main():\n",
    "    units = input(\"Enter the unit: \")\n",
    "    quant = float(input(\"Enter the quantity: \"))\n",
    "    print(measure(quant, units))\n",
    "    \n",
    "main()"
   ]
  },
  {
   "cell_type": "markdown",
   "id": "4bce4b99",
   "metadata": {},
   "source": [
    "A magic date is a date where the day multiplied by the month is equal to the two digit\n",
    "year. For example, June 10, 1960 is amagic date because June is the sixth month, and\n",
    "6 times 10 is 60, which is equal to the two digit year. Write a function that determines\n",
    "whether or not a date is a magic date. Use your function to create a main program\n",
    "that finds and displays all of the magic dates in the 20th century. You will probably\n",
    "find your solution to Exercise 106 helpful when completing this exercise."
   ]
  },
  {
   "cell_type": "code",
   "execution_count": 20,
   "id": "f51b45e2",
   "metadata": {
    "scrolled": true
   },
   "outputs": [
    {
     "name": "stdout",
     "output_type": "stream",
     "text": [
      "Magic Dates are: \n",
      "1-1-1901\n",
      "2-1-1902\n",
      "1-2-1902\n",
      "3-1-1903\n",
      "1-3-1903\n",
      "4-1-1904\n",
      "2-2-1904\n",
      "1-4-1904\n",
      "5-1-1905\n",
      "1-5-1905\n",
      "6-1-1906\n",
      "3-2-1906\n",
      "2-3-1906\n",
      "1-6-1906\n",
      "7-1-1907\n",
      "1-7-1907\n",
      "8-1-1908\n",
      "4-2-1908\n",
      "2-4-1908\n",
      "1-8-1908\n",
      "9-1-1909\n",
      "3-3-1909\n",
      "1-9-1909\n",
      "10-1-1910\n",
      "5-2-1910\n",
      "2-5-1910\n",
      "1-10-1910\n",
      "11-1-1911\n",
      "1-11-1911\n",
      "12-1-1912\n",
      "6-2-1912\n",
      "4-3-1912\n",
      "3-4-1912\n",
      "2-6-1912\n",
      "1-12-1912\n",
      "13-1-1913\n",
      "14-1-1914\n",
      "7-2-1914\n",
      "2-7-1914\n",
      "15-1-1915\n",
      "5-3-1915\n",
      "3-5-1915\n",
      "16-1-1916\n",
      "8-2-1916\n",
      "4-4-1916\n",
      "2-8-1916\n",
      "17-1-1917\n",
      "18-1-1918\n",
      "9-2-1918\n",
      "6-3-1918\n",
      "3-6-1918\n",
      "2-9-1918\n",
      "19-1-1919\n",
      "20-1-1920\n",
      "10-2-1920\n",
      "5-4-1920\n",
      "4-5-1920\n",
      "2-10-1920\n",
      "21-1-1921\n",
      "7-3-1921\n",
      "3-7-1921\n",
      "22-1-1922\n",
      "11-2-1922\n",
      "2-11-1922\n",
      "23-1-1923\n",
      "24-1-1924\n",
      "12-2-1924\n",
      "8-3-1924\n",
      "6-4-1924\n",
      "4-6-1924\n",
      "3-8-1924\n",
      "2-12-1924\n",
      "25-1-1925\n",
      "5-5-1925\n",
      "26-1-1926\n",
      "13-2-1926\n",
      "27-1-1927\n",
      "9-3-1927\n",
      "3-9-1927\n",
      "28-1-1928\n",
      "14-2-1928\n",
      "7-4-1928\n",
      "4-7-1928\n",
      "29-1-1929\n",
      "30-1-1930\n",
      "15-2-1930\n",
      "10-3-1930\n",
      "6-5-1930\n",
      "5-6-1930\n",
      "3-10-1930\n",
      "31-1-1931\n",
      "16-2-1932\n",
      "8-4-1932\n",
      "4-8-1932\n",
      "11-3-1933\n",
      "3-11-1933\n",
      "17-2-1934\n",
      "7-5-1935\n",
      "5-7-1935\n",
      "18-2-1936\n",
      "12-3-1936\n",
      "9-4-1936\n",
      "6-6-1936\n",
      "4-9-1936\n",
      "3-12-1936\n",
      "19-2-1938\n",
      "13-3-1939\n",
      "20-2-1940\n",
      "10-4-1940\n",
      "8-5-1940\n",
      "5-8-1940\n",
      "4-10-1940\n",
      "21-2-1942\n",
      "14-3-1942\n",
      "7-6-1942\n",
      "6-7-1942\n",
      "22-2-1944\n",
      "11-4-1944\n",
      "4-11-1944\n",
      "15-3-1945\n",
      "9-5-1945\n",
      "5-9-1945\n",
      "23-2-1946\n",
      "24-2-1948\n",
      "16-3-1948\n",
      "12-4-1948\n",
      "8-6-1948\n",
      "6-8-1948\n",
      "4-12-1948\n",
      "7-7-1949\n",
      "25-2-1950\n",
      "10-5-1950\n",
      "5-10-1950\n",
      "17-3-1951\n",
      "26-2-1952\n",
      "13-4-1952\n",
      "27-2-1954\n",
      "18-3-1954\n",
      "9-6-1954\n",
      "6-9-1954\n",
      "11-5-1955\n",
      "5-11-1955\n",
      "28-2-1956\n",
      "14-4-1956\n",
      "8-7-1956\n",
      "7-8-1956\n",
      "19-3-1957\n",
      "20-3-1960\n",
      "15-4-1960\n",
      "12-5-1960\n",
      "10-6-1960\n",
      "6-10-1960\n",
      "5-12-1960\n",
      "21-3-1963\n",
      "9-7-1963\n",
      "7-9-1963\n",
      "16-4-1964\n",
      "8-8-1964\n",
      "13-5-1965\n",
      "22-3-1966\n",
      "11-6-1966\n",
      "6-11-1966\n",
      "17-4-1968\n",
      "23-3-1969\n",
      "14-5-1970\n",
      "10-7-1970\n",
      "7-10-1970\n",
      "24-3-1972\n",
      "18-4-1972\n",
      "12-6-1972\n",
      "9-8-1972\n",
      "8-9-1972\n",
      "6-12-1972\n",
      "25-3-1975\n",
      "15-5-1975\n",
      "19-4-1976\n",
      "11-7-1977\n",
      "7-11-1977\n",
      "26-3-1978\n",
      "13-6-1978\n",
      "20-4-1980\n",
      "16-5-1980\n",
      "10-8-1980\n",
      "8-10-1980\n",
      "27-3-1981\n",
      "9-9-1981\n",
      "28-3-1984\n",
      "21-4-1984\n",
      "14-6-1984\n",
      "12-7-1984\n",
      "7-12-1984\n",
      "17-5-1985\n",
      "29-3-1987\n",
      "22-4-1988\n",
      "11-8-1988\n",
      "8-11-1988\n",
      "30-3-1990\n",
      "18-5-1990\n",
      "15-6-1990\n",
      "10-9-1990\n",
      "9-10-1990\n",
      "13-7-1991\n",
      "23-4-1992\n",
      "31-3-1993\n",
      "19-5-1995\n",
      "24-4-1996\n",
      "16-6-1996\n",
      "12-8-1996\n",
      "8-12-1996\n",
      "14-7-1998\n",
      "11-9-1999\n",
      "9-11-1999\n"
     ]
    }
   ],
   "source": [
    "def isLeapYear(year):\n",
    "    if year % 400 == 0:\n",
    "        is_leap_year = True\n",
    "    elif year % 100 == 0:\n",
    "        is_leap_year = False\n",
    "    elif year % 4 == 0:\n",
    "        is_leap_year = True\n",
    "    else:\n",
    "        is_leap_year = False\n",
    "    return is_leap_year\n",
    "\n",
    "def magicDate(month, year):\n",
    "    month_31 = [1,3,5,7,8,10,12]\n",
    "    month_30 = [4,6,9,11]\n",
    "    year_end = int(str(year)[-2:])\n",
    "    \n",
    "    day = year_end // month\n",
    "    if year_end % month == 0:\n",
    "        if month in month_30 and (day >= 1 and day <= 30):\n",
    "            is_magic_date = True\n",
    "        elif month in month_31 and (day >= 1 and day <= 31):\n",
    "            is_magic_date = True\n",
    "        elif month == 2 and isLeapYear(year) == True and (day >= 1 and day <= 29):\n",
    "            is_magic_date = True\n",
    "        elif month == 2 and isLeapYear(year) == False and (day >= 1 and day <= 28):\n",
    "            is_magic_date = True\n",
    "        else:\n",
    "            is_magic_date = False\n",
    "    else:\n",
    "        is_magic_date = False\n",
    "    return is_magic_date\n",
    "\n",
    "def main():\n",
    "    print(\"Magic Dates are: \")\n",
    "    for yr in range(1900, 2001, 1):\n",
    "        for mth in range(1, 13, 1):\n",
    "            r = magicDate(mth, yr)\n",
    "            if r == True:\n",
    "                yr_end = int(str(yr)[-2:])\n",
    "                day = yr_end // mth\n",
    "                print(\"{}-{}-{}\".format(day, mth, yr))\n",
    "            else:\n",
    "                pass\n",
    "                # print(\"Nothing for {}-{}\".format(mth,yr))\n",
    "            \n",
    "main()"
   ]
  },
  {
   "cell_type": "code",
   "execution_count": 8,
   "id": "dda3c823",
   "metadata": {},
   "outputs": [
    {
     "data": {
      "text/plain": [
       "'60'"
      ]
     },
     "execution_count": 8,
     "metadata": {},
     "output_type": "execute_result"
    }
   ],
   "source": []
  },
  {
   "cell_type": "markdown",
   "id": "bc72de5c",
   "metadata": {},
   "source": [
    "# LIST"
   ]
  },
  {
   "cell_type": "markdown",
   "id": "d29bb929",
   "metadata": {},
   "source": [
    "Write a program that reads integers from the user and stores them in a list. Your\n",
    "program should continue reading values until the user enters 0. Then it should display\n",
    "all of the values entered by the user (except for the 0) in ascending order, with one\n",
    "value appearing on each line. Use either the sort method or the sorted function\n",
    "to sort the list."
   ]
  },
  {
   "cell_type": "code",
   "execution_count": 20,
   "id": "ccf0cde6",
   "metadata": {},
   "outputs": [
    {
     "name": "stdout",
     "output_type": "stream",
     "text": [
      "Enter integer: 53\n",
      "Enter integer: 2\n",
      "Enter integer: 33\n",
      "Enter integer: 27\n",
      "Enter integer: 22\n",
      "Enter integer: 0\n",
      "[2, 22, 27, 33, 53]\n"
     ]
    }
   ],
   "source": [
    "listOfNumbers = []\n",
    "while True:\n",
    "    number = int(input(\"Enter integer: \"))\n",
    "    if number != 0:\n",
    "        listOfNumbers.append(number)\n",
    "    else:\n",
    "        break\n",
    "listOfNumbers.sort()\n",
    "print(listOfNumbers)\n"
   ]
  },
  {
   "cell_type": "markdown",
   "id": "f67f5db1",
   "metadata": {},
   "source": [
    "Write a program that reads integers from the user and stores them in a list. Use 0 as\n",
    "a sentinel value to mark the end of the input. Once all of the values have been read\n",
    "your program should display them (except for the 0) in reverse order, with one value\n",
    "appearing on each line."
   ]
  },
  {
   "cell_type": "code",
   "execution_count": 21,
   "id": "c1f6760f",
   "metadata": {},
   "outputs": [
    {
     "name": "stdout",
     "output_type": "stream",
     "text": [
      "Enter integer: 53\n",
      "Enter integer: 2\n",
      "Enter integer: 33\n",
      "Enter integer: 27\n",
      "Enter integer: 22\n",
      "Enter integer: 0\n",
      "[22, 27, 33, 2, 53]\n"
     ]
    }
   ],
   "source": [
    "listOfNumbers = []\n",
    "while True:\n",
    "    number = int(input(\"Enter integer: \"))\n",
    "    if number != 0:\n",
    "        listOfNumbers.append(number)\n",
    "    else:\n",
    "        break\n",
    "listOfNumbers.reverse()\n",
    "print(listOfNumbers)"
   ]
  },
  {
   "cell_type": "code",
   "execution_count": 22,
   "id": "c8b1c602",
   "metadata": {},
   "outputs": [
    {
     "data": {
      "text/plain": [
       "53"
      ]
     },
     "execution_count": 22,
     "metadata": {},
     "output_type": "execute_result"
    }
   ],
   "source": [
    "max([22, 27, 33, 2, 53])"
   ]
  },
  {
   "cell_type": "markdown",
   "id": "dc74c16f",
   "metadata": {},
   "source": [
    "When analysing data collected as part of a science experiment it may be desirable\n",
    "to remove the most extreme values before performing other calculations. Write a\n",
    "function that takes a list of values and an non-negative integer, n, as its parameters.\n",
    "The function should create a new copy of the list with the n largest elements and the\n",
    "n smallest elements removed. Then it should return the new copy of the list as the\n",
    "function’s only result. The order of the elements in the returned list does not have to\n",
    "match the order of the elements in the original list.\n",
    "Write a main program that demonstrates your function. It should read a list of\n",
    "numbers from the user and remove the two largest and two smallest values from it by\n",
    "calling the function described previously. Display the list with the outliers removed,\n",
    "followed by the original list. Your program should generate an appropriate error\n",
    "message if the user enters less than 4 values."
   ]
  },
  {
   "cell_type": "code",
   "execution_count": 27,
   "id": "1d6b25f6",
   "metadata": {},
   "outputs": [
    {
     "name": "stdout",
     "output_type": "stream",
     "text": [
      "Enter integer: 3\n",
      "Enter integer: 12\n",
      "Enter integer: 45\n",
      "Enter integer: 32\n",
      "Enter integer: 1\n",
      "Enter integer: 2\n",
      "Enter integer: 0\n",
      "[3, 12, 45, 32, 1, 2]\n",
      "Enter n: 2\n",
      "[3, 12]\n"
     ]
    }
   ],
   "source": [
    "def cleanData(listOfNumbers, edgeNumber):\n",
    "    if len(listOfNumbers) < edgeNumber * 2:\n",
    "        return \"Error\"\n",
    "    else:\n",
    "        while edgeNumber > 0:\n",
    "            edgeMax = max(listOfNumbers)\n",
    "            edgeMin = min(listOfNumbers)\n",
    "            \n",
    "            listOfNumbers.remove(edgeMax)\n",
    "            listOfNumbers.remove(edgeMin)\n",
    "            \n",
    "            edgeNumber = edgeNumber - 1\n",
    "        return listOfNumbers\n",
    "def main():\n",
    "    listOfNo = []\n",
    "    while True:\n",
    "        number = int(input(\"Enter integer: \"))\n",
    "        if number != 0:\n",
    "            listOfNo.append(number)\n",
    "        else:\n",
    "            break\n",
    "    print(listOfNo)\n",
    "    \n",
    "    n = int(input(\"Enter n: \"))\n",
    "    \n",
    "    result = cleanData(listOfNo, n)\n",
    "    \n",
    "    print(result)\n",
    "    \n",
    "main()"
   ]
  },
  {
   "cell_type": "markdown",
   "id": "fa0bc1bd",
   "metadata": {},
   "source": [
    "In this exercise, you will create a program that reads words from the user until the\n",
    "user enters a blank line. After the user enters a blank line your program should display\n",
    "each word entered by the user exactly once. The words should be displayed in\n",
    "the same order that they were first entered. For example, if the user enters:\n",
    "first\n",
    "second\n",
    "first\n",
    "third\n",
    "second\n",
    "then your program should display:\n",
    "first\n",
    "second\n",
    "third"
   ]
  },
  {
   "cell_type": "code",
   "execution_count": 29,
   "id": "d3a1626d",
   "metadata": {},
   "outputs": [
    {
     "name": "stdout",
     "output_type": "stream",
     "text": [
      "Enter string: first\n",
      "Enter string: second\n",
      "Enter string: third\n",
      "Enter string: second\n",
      "Enter string: first\n",
      "Enter string: \n",
      "first\n",
      "second\n",
      "third\n"
     ]
    }
   ],
   "source": [
    "def main():\n",
    "    listOfstring = []\n",
    "    while True:\n",
    "        string = input(\"Enter string: \").strip(\" \")\n",
    "        if string != \"\":\n",
    "            if string not in listOfstring:\n",
    "                listOfstring.append(string)\n",
    "            else:\n",
    "                pass\n",
    "        else:\n",
    "            break\n",
    "    for statement in listOfstring:\n",
    "        print(statement)\n",
    "main()"
   ]
  },
  {
   "cell_type": "markdown",
   "id": "63973372",
   "metadata": {},
   "source": [
    "Create a program that reads integers from the user until a blank line is entered. Once\n",
    "all of the integers have been read your program should display all of the negative\n",
    "numbers, followed by all of the zeros, followed by all of the positive numbers.Within\n",
    "each group the numbers should be displayed in the same order that they were entered\n",
    "by the user. For example, if the user enters the values 3, -4, 1, 0, -1, 0, and -2 then\n",
    "your program should output the values -4, -1, -2, 0, 0, 3, and 1. Your program\n",
    "should display each value on its own line."
   ]
  },
  {
   "cell_type": "code",
   "execution_count": 10,
   "id": "6c394ea4",
   "metadata": {},
   "outputs": [
    {
     "name": "stdout",
     "output_type": "stream",
     "text": [
      "Enter number: 3\n",
      "Enter number: -4\n",
      "Enter number: 1\n",
      "Enter number: 0\n",
      "Enter number: -1\n",
      "Enter number: 0\n",
      "Enter number: -2\n",
      "Enter number: \n",
      "-4\n",
      "-1\n",
      "-2\n",
      "0\n",
      "0\n",
      "3\n",
      "1\n"
     ]
    }
   ],
   "source": [
    "listOfNumbers = []\n",
    "ngtve_numbers = []\n",
    "pstive_numbers = []\n",
    "zeros = []\n",
    "\n",
    "while True:\n",
    "    no = input(\"Enter number: \")\n",
    "    if no != \"\":\n",
    "        no = int(no)\n",
    "        if no < 0:\n",
    "            ngtve_numbers.append(no)\n",
    "        elif no == 0:\n",
    "            zeros.append(no)\n",
    "        else:\n",
    "            pstive_numbers.append(no)\n",
    "    else:\n",
    "        break\n",
    "listOfNumbers.extend(ngtve_numbers)\n",
    "listOfNumbers.extend(zeros)\n",
    "listOfNumbers.extend(pstive_numbers)\n",
    "for i in listOfNumbers:\n",
    "    print(i)"
   ]
  },
  {
   "cell_type": "markdown",
   "id": "7d651cb5",
   "metadata": {},
   "source": [
    "A proper divisor of a positive integer, n, is a positive integer less than n which divides\n",
    "evenly into n. Write a function that computes all of the proper divisors of a positive\n",
    "integer. The integer will be passed to the function as its only parameter. The function\n",
    "will return a list containing all of the proper divisors as its only result. Complete\n",
    "this exercise by writing a main program that demonstrates the function by reading\n",
    "a value from the user and displaying the list of its proper divisors. Ensure that your\n",
    "main program only runs when your solution has not been imported into another file."
   ]
  },
  {
   "cell_type": "code",
   "execution_count": 11,
   "id": "9472cd8e",
   "metadata": {},
   "outputs": [
    {
     "name": "stdout",
     "output_type": "stream",
     "text": [
      "Enter number: 12\n",
      "The divsiors are: \n",
      "1\n",
      "2\n",
      "3\n",
      "4\n",
      "6\n"
     ]
    }
   ],
   "source": [
    "def getDivisors(number):\n",
    "    listOfDivisiors = []\n",
    "    divisor = 1\n",
    "    while divisor < number:\n",
    "        if number % divisor == 0:\n",
    "            listOfDivisiors.append(divisor)\n",
    "        divisor = divisor + 1\n",
    "    return listOfDivisiors\n",
    "\n",
    "def main():\n",
    "    value = int(input(\"Enter number: \"))\n",
    "    result = getDivisors(value)\n",
    "    print(\"The divsiors are: \")\n",
    "    for i in result:\n",
    "        print(i)\n",
    "main()"
   ]
  },
  {
   "cell_type": "markdown",
   "id": "d7942455",
   "metadata": {},
   "source": [
    "An integer, n, is said to be perfect when the sum of all of the proper divisors of n is\n",
    "equal to n. For example, 28 is a perfect number because its proper divisors are 1, 2,\n",
    "4, 7 and 14, and 1 + 2 + 4 + 7 + 14 = 28.\n",
    "Write a function that determines whether or not a positive integer is perfect. Your\n",
    "function will take one parameter. If that parameter is a perfect number then your\n",
    "function will return True. Otherwise it will return False. In addition, write a main\n",
    "program that uses your function to identify and display all of the perfect numbers\n",
    "between 1 and 10,000. Import your solution to Exercise 115 when completing this\n",
    "task."
   ]
  },
  {
   "cell_type": "code",
   "execution_count": 15,
   "id": "f4369c93",
   "metadata": {},
   "outputs": [
    {
     "name": "stdout",
     "output_type": "stream",
     "text": [
      "6\n",
      "28\n",
      "496\n",
      "8128\n"
     ]
    }
   ],
   "source": [
    "def checkPerfectness(number):\n",
    "    total = 0\n",
    "    divisors = getDivisors(number)\n",
    "    for each_divisor in divisors:\n",
    "        total = total + each_divisor\n",
    "    if total == number:\n",
    "        return True\n",
    "    else:\n",
    "        return False\n",
    "    \n",
    "def main():\n",
    "    for i in range(1,10000,1):\n",
    "        perfectness = checkPerfectness(i)\n",
    "        if perfectness == True:\n",
    "            print(i)\n",
    "\n",
    "main()"
   ]
  },
  {
   "cell_type": "markdown",
   "id": "e6e20ff9",
   "metadata": {},
   "source": [
    "In this exercise you will create a program that identifies all of the words in a\n",
    "string entered by the user. Begin by writing a function that takes a string as\n",
    "its only parameter. Your function should return a list of the words in the string\n",
    "with the punctuation marks at the edges of the words removed. The punctuation\n",
    "marks that you must consider include commas, periods, question marks,\n",
    "hyphens, apostrophes, exclamation points, colons, and semicolons. Do not remove\n",
    "punctuation marks that appear in the middle of a word, such as the apostrophes\n",
    "used to form a contraction. For example, if your function is provided with the\n",
    "string \"Contractions include: don’t, isn’t, and wouldn’t.\"\n",
    "then your function should return the list [\"Contractions\", \"include\",\n",
    "\"don’t\", \"isn’t\", \"and\", \"wouldn’t\"].\n",
    "\n",
    "Write amain program that demonstrates your function. It should read a string from\n",
    "the user and then display all of the words in the string with the punctuation marks\n",
    "removed. You will need to import your solution to this exercise when completing\n",
    "Exercises 118 and 167. As a result, you should ensure that your main program only\n",
    "runs when your file has not been imported into another program."
   ]
  },
  {
   "cell_type": "code",
   "execution_count": 25,
   "id": "8a578b76",
   "metadata": {},
   "outputs": [
    {
     "name": "stdout",
     "output_type": "stream",
     "text": [
      "Enter sentence: Contractions include: 4.3 don’t, isn’t, and wouldn’t.\n",
      "['Contractions', 'include', '4.3', 'don’t', 'isn’t', 'and', 'wouldn’t']\n"
     ]
    }
   ],
   "source": [
    "def getWords(string):\n",
    "    listOfWords = string.split(\" \")\n",
    "    punctuations = [\",\", \".\", \"?\", \"-\", \"'\", \"!\", \":\", \";\"]\n",
    "    \n",
    "    for index, word in enumerate(listOfWords):\n",
    "        if word[0] in punctuations or word[-1] in punctuations:\n",
    "            new_word = \"\"\n",
    "            for char in word:\n",
    "                if char not in punctuations:\n",
    "                    new_word = new_word + char\n",
    "                else:\n",
    "                    pass\n",
    "            listOfWords[index] = new_word\n",
    "        else:\n",
    "            pass\n",
    "    return listOfWords\n",
    "\n",
    "def main():\n",
    "    sentence = input(\"Enter sentence: \")\n",
    "    \n",
    "    results = getWords(sentence)\n",
    "    \n",
    "    print(results)\n",
    "main()"
   ]
  },
  {
   "cell_type": "code",
   "execution_count": 2,
   "id": "ba2be2d1",
   "metadata": {},
   "outputs": [
    {
     "name": "stdout",
     "output_type": "stream",
     "text": [
      "Enter sentence: Contractions include: 4.3 don’t, isn’t, and wouldn’t.\n",
      "['Contractions', 'include', '4.3', 'don’t', 'isn’t', 'and', 'wouldn’t']\n"
     ]
    }
   ],
   "source": [
    "def getWords(string):\n",
    "    # Split the string into words\n",
    "    listOfWords = string.split(\" \")\n",
    "    # Define punctuations to be removed\n",
    "    punctuations = [\",\", \".\", \"?\", \"-\", \"'\", \"!\", \":\", \";\"]\n",
    "    \n",
    "    for index, word in enumerate(listOfWords):\n",
    "        # Remove any punctuation at the beginning or end of each word\n",
    "        new_word = word.strip(\"\".join(punctuations))\n",
    "        listOfWords[index] = new_word\n",
    "\n",
    "    return listOfWords\n",
    "\n",
    "def main():\n",
    "    sentence = input(\"Enter sentence: \")\n",
    "    \n",
    "    # Get the cleaned words from the sentence\n",
    "    results = getWords(sentence)\n",
    "    \n",
    "    # Print the result list\n",
    "    print(results)\n",
    "\n",
    "main()\n"
   ]
  },
  {
   "cell_type": "code",
   "execution_count": 28,
   "id": "9b90ed7b",
   "metadata": {},
   "outputs": [
    {
     "data": {
      "text/plain": [
       "\",.?-'!:;\""
      ]
     },
     "execution_count": 28,
     "metadata": {},
     "output_type": "execute_result"
    }
   ],
   "source": [
    "punctuations = [\",\", \".\", \"?\", \"-\", \"'\", \"!\", \":\", \";\"]\n",
    "\"\".join(punctuations)"
   ]
  },
  {
   "cell_type": "markdown",
   "id": "d33e599f",
   "metadata": {},
   "source": [
    "Exercises 75 and 76 previously introduced the notion of a palindrome. Such palindromes\n",
    "examined the characters in a string, possibly ignoring spacing and punctuation\n",
    "marks, to see if the string was the same forwards and backwards. While\n",
    "palindromes are most commonly considered character by character, the notion of\n",
    "a palindrome can be extended to larger units. For example, while the sentence “Is\n",
    "it crazy how saying sentences backwards creates backwards sentences saying how\n",
    "crazy it is?” isn’t a character by character palindrome, it is a palindrome when examined\n",
    "a word at a time (and when capitalization and punctuation are ignored). Other\n",
    "examples of word by word palindromes include “Herb the sage eats sage, the herb”\n",
    "and “Information school graduate seeks graduate school information”.\n",
    "Create a program that reads a string from the user. Your program should report\n",
    "whether or not the entered string is a word by word palindrome. Ignore spacing and\n",
    "punctuation when determining the result."
   ]
  },
  {
   "cell_type": "code",
   "execution_count": 47,
   "id": "35a889f8",
   "metadata": {},
   "outputs": [
    {
     "name": "stdout",
     "output_type": "stream",
     "text": [
      "Enter string: Herb the sage eats sage, the herb\n",
      "is a word by word Palidrome\n"
     ]
    }
   ],
   "source": [
    "def isPalidrome(string):\n",
    "    listOfWords = getWords(string.lower())\n",
    "    reverse_ListOfWords = getWords(string.lower())\n",
    "    \n",
    "    reverse_ListOfWords.reverse()\n",
    "    \n",
    "    if listOfWords == reverse_ListOfWords:\n",
    "        return True\n",
    "    else:\n",
    "        return False\n",
    "def main():\n",
    "    sentence = input(\"Enter string: \")\n",
    "    \n",
    "    result = isPalidrome(sentence)\n",
    "    \n",
    "    if result is True:\n",
    "        print(\"is a word by word Palidrome\")\n",
    "    else:\n",
    "        print(\"it is not a word by word palidrome\")\n",
    "        \n",
    "main()"
   ]
  },
  {
   "cell_type": "markdown",
   "id": "8ea3453b",
   "metadata": {},
   "source": [
    "Write a program that reads numbers from the user until a blank line is entered. Your\n",
    "program should display the average of all of the values entered by the user. Then\n",
    "the program should display all of the below average values, followed by all of the\n",
    "average values (if any), followed by all of the above average values. An appropriate\n",
    "label should be displayed before each list of values."
   ]
  },
  {
   "cell_type": "code",
   "execution_count": 56,
   "id": "07db2a08",
   "metadata": {},
   "outputs": [
    {
     "name": "stdout",
     "output_type": "stream",
     "text": [
      "Enter number: 3\n",
      "Enter number: 5\n",
      "Enter number: 1\n",
      "Enter number: 2\n",
      "Enter number: 4\n",
      "Enter number: \n",
      "Below average\n",
      "1.0\n",
      "2.0\n",
      "Average\n",
      "3.0\n",
      "Above Average\n",
      "5.0\n",
      "4.0\n"
     ]
    }
   ],
   "source": [
    "def main():\n",
    "    # initiliase storage\n",
    "    list_b4_sorting = []\n",
    "    list_af_sorted = []\n",
    "    below_avg = []\n",
    "    avg = []\n",
    "    above_avg = []\n",
    "    \n",
    "    # initiliaze total\n",
    "    total = 0\n",
    "    count = 0\n",
    "    \n",
    "    while True:\n",
    "        number = input(\"Enter number: \")\n",
    "        if number != \"\":\n",
    "            number = float(number)\n",
    "            list_b4_sorting.append(number)\n",
    "            total = total + number\n",
    "            count = count + 1\n",
    "        else:\n",
    "            break\n",
    "    # compute average\n",
    "    average = total / count\n",
    "    \n",
    "    # compare value to average, and catgorize\n",
    "    for value in list_b4_sorting:\n",
    "        if value < average:\n",
    "            below_avg.append(value)\n",
    "        elif value == average:\n",
    "            avg.append(value)\n",
    "        else:\n",
    "            above_avg.append(value)\n",
    "    list_af_sorted.append(below_avg)\n",
    "    list_af_sorted.append(avg)\n",
    "    list_af_sorted.append(above_avg)\n",
    "    \n",
    "    # Displayinhg each catgory, and numbers within\n",
    "    for index, category in enumerate(list_af_sorted):\n",
    "        # Label\n",
    "        label = [\"Below average\", \"Average\", \"Above Average\"]\n",
    "        print(label[index])\n",
    "        for value in category:\n",
    "            print(value)\n",
    "main()"
   ]
  },
  {
   "cell_type": "code",
   "execution_count": null,
   "id": "d54c22ed",
   "metadata": {},
   "outputs": [],
   "source": []
  },
  {
   "cell_type": "markdown",
   "id": "088c2c2f",
   "metadata": {},
   "source": [
    "When writing out a list of items in English, one normally separates the items with\n",
    "commas. In addition, theword “and” is normally included before the last item, unless\n",
    "the list only contains one item. Consider the following four lists:\n",
    "apples\n",
    "apples and oranges\n",
    "apples, oranges and bananas\n",
    "apples, oranges, bananas and lemons\n",
    "Write a function that takes a list of strings as its only parameter. Your function\n",
    "should return a string that contains all of the items in the list, formatted in the manner\n",
    "described previously, as its only result. While the examples shown previously only\n",
    "include lists containing four elements or less, your function should behave correctly\n",
    "for lists of any length. Include a main program that reads several items from the user,\n",
    "formats them by calling your function, and then displays the result returned by the\n",
    "function."
   ]
  },
  {
   "cell_type": "code",
   "execution_count": 60,
   "id": "5eca17df",
   "metadata": {},
   "outputs": [
    {
     "name": "stdout",
     "output_type": "stream",
     "text": [
      "Enter item: a\n",
      "Enter item: b\n",
      "Enter item: c\n",
      "Enter item: d\n",
      "Enter item: \n",
      "a, b, c and d\n"
     ]
    }
   ],
   "source": [
    "def main():\n",
    "    string = \"\"\n",
    "    groceryList = []\n",
    "    while True:\n",
    "        itm = input(\"Enter item: \")\n",
    "        if itm != \"\":\n",
    "            groceryList.append(itm)\n",
    "        else:\n",
    "            break\n",
    "    for index, item in enumerate(groceryList):\n",
    "        # placing commas or add\n",
    "        if index == 0:\n",
    "            pass\n",
    "        elif index == len(groceryList)-1:\n",
    "            string = string + \" and \"\n",
    "        else:\n",
    "            string = string + \", \"\n",
    "            \n",
    "        string = string + item\n",
    "        \n",
    "    print(string)\n",
    "main()"
   ]
  },
  {
   "cell_type": "markdown",
   "id": "cb68846b",
   "metadata": {},
   "source": [
    "In order to win the top prize in a particular lottery, one must match all 6 numbers\n",
    "on his or her ticket to the 6 numbers between 1 and 49 that are drawn by the lottery\n",
    "organizer. Write a program that generates a random selection of 6 numbers for a\n",
    "lottery ticket. Ensure that the 6 numbers selected do not contain any duplicates.\n",
    "Display the numbers in ascending order."
   ]
  },
  {
   "cell_type": "code",
   "execution_count": 63,
   "id": "a1fad37b",
   "metadata": {},
   "outputs": [
    {
     "name": "stdout",
     "output_type": "stream",
     "text": [
      "6\n",
      "15\n",
      "23\n",
      "34\n",
      "42\n",
      "45\n"
     ]
    }
   ],
   "source": [
    "import random\n",
    "\n",
    "def main():\n",
    "    generatedNumbers = []\n",
    "    for i in range(0,6,1):\n",
    "        # attempt, until number is not in list\n",
    "        while True:\n",
    "            num = random.randint(1,49)\n",
    "            if num not in generatedNumbers:\n",
    "                generatedNumbers.append(num)\n",
    "                break\n",
    "            else:\n",
    "                pass\n",
    "    generatedNumbers.sort()\n",
    "    for number in generatedNumbers:\n",
    "        print(number)\n",
    "main()"
   ]
  },
  {
   "cell_type": "markdown",
   "id": "af45fc8c",
   "metadata": {},
   "source": [
    "Pig Latin is a language constructed by transforming English words. While the origins\n",
    "of the language are unknown, it is mentioned in at least two documents from\n",
    "the nineteenth century, suggesting that it has existed for more than 100 years. The\n",
    "following rules are used to translate English into Pig Latin:\n",
    "• If theword begins with a consonant (including y), then all letters at the beginning of\n",
    "theword, up to the first vowel (excluding y), are removed and then added to the end\n",
    "of the word, followed by ay. For example, computer becomes omputercay\n",
    "and think becomes inkthay.\n",
    "• If the word begins with a vowel (not including y), then way is added to the end\n",
    "of the word. For example, algorithm becomes algorithmway and office\n",
    "becomes officeway.\n",
    "Write a program that reads a line of text from the user. Then your program should\n",
    "translate the line into Pig Latin and display the result. Youmay assume that the string\n",
    "entered by the user only contains lowercase letters and spaces."
   ]
  },
  {
   "cell_type": "code",
   "execution_count": 12,
   "id": "b0356837",
   "metadata": {},
   "outputs": [
    {
     "name": "stdout",
     "output_type": "stream",
     "text": [
      "Enter sentence: computer thinks in algorithms\n",
      " omputerc inksth inway algorithmsway\n"
     ]
    }
   ],
   "source": [
    "def PigLatinTranslator(english):\n",
    "    consonants = [\n",
    "        'b', 'c', 'd', 'f', 'g', 'h', 'j', 'k', 'l', 'm', 'n', \n",
    "        'p', 'q', 'r', 's', 't', 'v', 'w', 'x', 'y', 'z'\n",
    "    ]\n",
    "    vowels = ['a', 'e', 'i', 'o', 'u']\n",
    "    \n",
    "    # initialise\n",
    "    pig_sentence = \"\"\n",
    "    \n",
    "    # get list of words\n",
    "    englishList = getWords(english)\n",
    "    \n",
    "    # convert words\n",
    "    for index, word in enumerate(englishList):\n",
    "        pig_word = \"\"\n",
    "        extract = \"\"\n",
    "        # consonent-beginning word handling\n",
    "        if word[0] in consonants:\n",
    "            met_a_vowel = False\n",
    "            for i, char in enumerate(word):\n",
    "                if char in consonants and met_a_vowel == False:\n",
    "                    extract = extract + char\n",
    "                else:\n",
    "                    pig_word = pig_word + char\n",
    "                    met_a_vowel = True\n",
    "            pig_word = pig_word + extract\n",
    "        # Vowel-beginning word handling\n",
    "        else:\n",
    "            pig_word = word + \"way\"\n",
    "        pig_sentence = pig_sentence + \" \" + pig_word\n",
    "    return pig_sentence\n",
    "\n",
    "def main():\n",
    "    sentence = input(\"Enter sentence: \")\n",
    "    \n",
    "    pig_lan = PigLatinTranslator(sentence)\n",
    "    \n",
    "    print(pig_lan)\n",
    "main()"
   ]
  },
  {
   "cell_type": "markdown",
   "id": "b8f8b2a1",
   "metadata": {},
   "source": [
    "Extend your solution to Exercise 122 so that it correctly handles uppercase letters and\n",
    "punctuation marks such as commas, periods, question marks and exclamation marks.\n",
    "If an English word begins with an uppercase letter then its Pig Latin representation\n",
    "should also begin with an uppercase letter and the uppercase lettermoved to the end of\n",
    "88 5 Lists\n",
    "the word should be changed to lowercase. For example, Computer should become\n",
    "Omputercay. If a word ends in a punctuation mark then the punctuation mark\n",
    "should remain at the end of the word after the transformation has been performed.\n",
    "For example, Science! should become Iencescay!."
   ]
  },
  {
   "cell_type": "code",
   "execution_count": 14,
   "id": "bba655c0",
   "metadata": {},
   "outputs": [
    {
     "name": "stdout",
     "output_type": "stream",
     "text": [
      "Enter sentence: Computer Thinks in algorithms\n",
      " Omputerc Inksth inway algorithmsway\n"
     ]
    }
   ],
   "source": [
    "def PigLatinTranslator2(english):\n",
    "    consonants = [\n",
    "        'b', 'c', 'd', 'f', 'g', 'h', 'j', 'k', 'l', 'm', 'n', \n",
    "        'p', 'q', 'r', 's', 't', 'v', 'w', 'x', 'y', 'z'\n",
    "    ]\n",
    "    vowels = ['a', 'e', 'i', 'o', 'u']\n",
    "    \n",
    "    # initialise\n",
    "    pig_sentence = \"\"\n",
    "    \n",
    "    # get list of words\n",
    "    englishList = getWords(english)\n",
    "    \n",
    "    # convert words\n",
    "    for index, word in enumerate(englishList):\n",
    "        pig_word = \"\"\n",
    "        extract = \"\"\n",
    "        word_capitilized = word.istitle()\n",
    "        # consonent-beginning word handling\n",
    "        word = word.lower()\n",
    "        if word[0] in consonants:\n",
    "            met_a_vowel = False\n",
    "            for i, char in enumerate(word):\n",
    "                if char in consonants and met_a_vowel == False:\n",
    "                    extract = extract + char\n",
    "                else:\n",
    "                    pig_word = pig_word + char\n",
    "                    met_a_vowel = True\n",
    "            pig_word = pig_word + extract\n",
    "        # Vowel-beginning word handling\n",
    "        else:\n",
    "            pig_word = word + \"way\"\n",
    "            \n",
    "        # capitizalze previous capitialozed words\n",
    "        if word_capitilized == True:\n",
    "            pig_word = pig_word.capitalize()\n",
    "        else:\n",
    "            pass\n",
    "        # Form sentence\n",
    "        pig_sentence = pig_sentence + \" \" + pig_word\n",
    "    return pig_sentence\n",
    "\n",
    "def main():\n",
    "    sentence = input(\"Enter sentence: \")\n",
    "    \n",
    "    pig_lan = PigLatinTranslator2(sentence)\n",
    "    \n",
    "    print(pig_lan)\n",
    "main()"
   ]
  },
  {
   "cell_type": "code",
   "execution_count": 9,
   "id": "6546b982",
   "metadata": {},
   "outputs": [
    {
     "data": {
      "text/plain": [
       "'Df Is Word'"
      ]
     },
     "execution_count": 9,
     "metadata": {},
     "output_type": "execute_result"
    }
   ],
   "source": [
    "\"df is word\".title()"
   ]
  },
  {
   "cell_type": "markdown",
   "id": "77e32ca7",
   "metadata": {},
   "source": [
    "A line of best fit is a straight line that best approximates a collection of n data points.\n",
    "In this exercise, we will assume that each point in the collection has an x coordinate\n",
    "and a y coordinate. The symbols ¯ x and ¯y are used to represent the average x value in\n",
    "the collection and the average y value in the collection respectively. The line of best\n",
    "fit is represented by the equation y = mx + b where m and b are calculated using\n",
    "the following formulas:\n",
    "m =\n",
    "\u0002xy − (\u0002x)(\u0002y)\n",
    "n\n",
    "\u0002x2 − (\u0002x)2\n",
    "n\n",
    "b = ¯y − m ¯ x\n",
    "Write a program that reads a collection of points from the user. The user will enter\n",
    "the first x coordinate on its own line, followed by the first y coordinate on its own\n",
    "line. Allow the user to continue entering coordinates, with the x and y values each\n",
    "entered on their own line, until your program reads a blank line for the x coordinate.\n",
    "Display the formula for the line of best fit in the form y = mx + b by replacing m\n",
    "and b with the values calculated by the preceding formulas. For example, if the user\n",
    "inputs the coordinates (1, 1), (2, 2.1) and (3, 2.9) then your program should display\n",
    "y = 0.95x + 0.1."
   ]
  },
  {
   "cell_type": "code",
   "execution_count": 20,
   "id": "ea23cb17",
   "metadata": {},
   "outputs": [
    {
     "name": "stdout",
     "output_type": "stream",
     "text": [
      "Enter x_point 1: 1\n",
      "Enter x_point 1: 1\n",
      "Enter x_point 2: 2\n",
      "Enter x_point 2: 2.1\n",
      "Enter x_point 3: 3\n",
      "Enter x_point 3: 2.9\n",
      "Enter x_point 4: \n",
      "y = 0.95x + 0.10\n"
     ]
    }
   ],
   "source": [
    "def lineOfBestfit(x_points, y_points):\n",
    "    # initialize \n",
    "    sum_x = 0\n",
    "    sum_y = 0\n",
    "    sum_xy = 0\n",
    "    sum_x2 = 0\n",
    "    \n",
    "    n = len(x_points)\n",
    "    \n",
    "    for i in range(0, n, 1):\n",
    "        x = x_points[i]\n",
    "        y = y_points[i]\n",
    "        \n",
    "        xy = x * y\n",
    "        x2 = x * x\n",
    "        \n",
    "        # add to the sums\n",
    "        sum_x += x\n",
    "        sum_y += y\n",
    "        sum_xy += xy\n",
    "        sum_x2 += x2\n",
    "        \n",
    "    # Calculate averages\n",
    "    avg_x = sum_x / n\n",
    "    avg_y = sum_y / n\n",
    "    \n",
    "    # compute m and b\n",
    "    m = (sum_xy - ((sum_x * sum_y)/n)) / (sum_x2 - ((sum_x ** 2)/n))\n",
    "    \n",
    "    b = avg_y - (m * avg_x)\n",
    "    \n",
    "    best_fit = \"y = {:.2f}x + {:.2f}\".format(m, b)\n",
    "    \n",
    "    return best_fit\n",
    "\n",
    "\n",
    "def main():\n",
    "    count = 1\n",
    "    x_pointss = []\n",
    "    y_pointss = []\n",
    "    while True:\n",
    "        x_point = input(\n",
    "            \"Enter x_point {}: \".format(count))\n",
    "        if x_point != \"\":\n",
    "            x_point = float(x_point)\n",
    "            y_point = float(input(\"Enter x_point {}: \".format(count)))\n",
    "            \n",
    "            x_pointss.append(x_point)\n",
    "            y_pointss.append(y_point)\n",
    "            count += 1\n",
    "        else:\n",
    "            break\n",
    "    line = lineOfBestfit(x_pointss, y_pointss)\n",
    "    print(line)\n",
    "main()"
   ]
  },
  {
   "cell_type": "code",
   "execution_count": null,
   "id": "429ae2aa",
   "metadata": {},
   "outputs": [],
   "source": []
  },
  {
   "cell_type": "markdown",
   "id": "98988a9e",
   "metadata": {},
   "source": [
    "A standard deck of playing cards contains 52 cards. Each card has one of four suits\n",
    "along with a value. The suits are normally spades, hearts, diamonds and clubs while\n",
    "the values are 2 through 10, Jack, Queen, King and Ace.\n",
    "Each playing card can be represented using two characters. The first character is\n",
    "the value of the card, with the values 2 through 9 being represented directly. The\n",
    "characters “T”, “J”, “Q”, “K” and “A” are used to represent the values 10, Jack,\n",
    "Queen, King and Ace respectively. The second character is used to represent the suit\n",
    "of the card. It is normally a lowercase letter: “s” for spades, “h” for hearts, “d” for\n",
    "diamonds and “c” for clubs. The following table provides several examples of cards\n",
    "and their two-character representations.\n",
    "\n",
    "Card Abbreviation\n",
    "Jack of spades Js\n",
    "Two of clubs 2c\n",
    "Ten of diamonds Td\n",
    "Ace of hearts Ah\n",
    "Nine of spades 9s\n",
    "Begin by writing a function named createDeck. It will use loops to create a\n",
    "complete deck of cards by storing the two-character abbreviations for all 52 cards\n",
    "into a list. Return the list of cards as the function’s only result. Your function will\n",
    "not require any parameters.\n",
    "Write a second function named shuffle that randomizes the order of the cards\n",
    "in a list. One technique that can be used to shuffle the cards is to visit each element\n",
    "in the list and swap it with another random element in the list. You must write your\n",
    "own loop for shuffling the cards. You cannot make use of Python’s built-in shuffle\n",
    "function.\n",
    "Use both of the functions described in the previous paragraphs to create a main\n",
    "program that displays a deck of cards before and after it has been shuffled. Ensure\n",
    "that your main program only runs when your functions have not been imported into\n",
    "another file.\n",
    "A good shuffling algorithm is unbiased, meaning that every different arrangement\n",
    "of the elements is equally probable when the algorithm completes. While\n",
    "the approach described earlier in this problem suggested visiting each element\n",
    "in sequence and swapping it with an element at a random index, such an algorithm\n",
    "is biased. In particular, elements that appear later in the original list are\n",
    "more likely to end up later in the shuffled list. Counterintuitively, an unbiased\n",
    "shuffle can be achieved by visiting each element in sequence and swapping it\n",
    "to a random index between the position of the current element and the end of\n",
    "the list instead of randomly selecting any index."
   ]
  },
  {
   "cell_type": "code",
   "execution_count": 2,
   "id": "2d142547",
   "metadata": {},
   "outputs": [
    {
     "name": "stdout",
     "output_type": "stream",
     "text": [
      "['6s', 'Qs', 'Ad', 'Ac', '2s', '3h', '7s', '7c', '4c', '3d', '8d', '2d', '2h', 'Tc', '8s', '7h', '8c', '3c', '9c', '5h', 'Kc', '6d', 'Kh', '4d', '5c', 'Qh', 'Ah', 'Ts', 'Qc', '9d', '7d', '4h', 'Kd', '2c', '4s', 'Js', '6c', '9s', '8h', 'Jc', '3s', 'Qd', 'As', '5s', 'Ks', '5d', 'Th', '6h', 'Td', '9h', 'Jd', 'Jh']\n",
      "['6s', 'Js', 'Ad', 'Kd', 'Ts', '3h', '9c', '8h', '4c', 'Qd', '7s', '3d', '2h', '6d', 'Ac', '7h', '8c', '3c', '6c', '9d', 'Td', '8s', 'Kh', '8d', '5h', '7c', 'Qs', 'Th', '2d', 'Ah', 'Qc', '4h', '9h', '2c', 'Tc', 'As', '4s', '9s', 'Kc', '7d', '3s', 'Jc', '5c', '5s', 'Ks', '5d', 'Qh', '4d', '2s', 'Jh', '6h', 'Jd']\n"
     ]
    }
   ],
   "source": [
    "import random\n",
    "\n",
    "def createDeck():\n",
    "    value = [\"2\", \"3\", \"4\", \"5\", \"6\", \"7\", \"8\", \"9\", \"T\", \"J\", \"Q\", \"K\", \"A\"]\n",
    "    suits = [\"s\", \"h\", \"d\", \"c\"]\n",
    "    \n",
    "    # initilaze deck\n",
    "    deck = []\n",
    "    for i in range(0, 52, 1):\n",
    "        v = random.choice(value)\n",
    "        s = random.choice(suits)\n",
    "        # create a card\n",
    "        card = v+s\n",
    "        while True:\n",
    "            # check if card already created\n",
    "            if card in deck:\n",
    "                v = random.choice(value)\n",
    "                s = random.choice(suits)\n",
    "                # create another card\n",
    "                card = v+s\n",
    "            else:\n",
    "                deck.append(card)\n",
    "                break\n",
    "    return deck\n",
    "\n",
    "def shuffle(deck):\n",
    "    new_deck = []\n",
    "    new_deck.extend(deck)\n",
    "    \n",
    "    for times in range(0, 4, 1):\n",
    "        replacement_set = []\n",
    "        selected_set = []\n",
    "        size = 8\n",
    "        # select random card from deck\n",
    "        for i in range(0, size, 1):\n",
    "            # Into set 1\n",
    "            s_card = random.randint(0, 51)\n",
    "            while True:\n",
    "                if s_card in selected_set or s_card in replacement_set:\n",
    "                    s_card = random.randint(0, 51)\n",
    "                else:\n",
    "                    selected_set.append(s_card)\n",
    "                    break\n",
    "            # Into Set 2\n",
    "            r_card = random.randint(0, 51)\n",
    "            while True:\n",
    "                if r_card in selected_set or r_card in replacement_set:\n",
    "                        r_card = random.randint(0, 51)\n",
    "                else:\n",
    "                    replacement_set.append(r_card)\n",
    "                    break\n",
    "        # start swapping set 1 and set 2\n",
    "        for y in range(0, size, 1):\n",
    "            holder = new_deck[selected_set[y]]\n",
    "            new_deck[selected_set[y]] = new_deck[replacement_set[y]]\n",
    "            new_deck[replacement_set[y]] = holder\n",
    "            \n",
    "    return new_deck\n",
    "\n",
    "def main():\n",
    "    set_of_cards = createDeck()\n",
    "    #print(set_of_cards)\n",
    "    shuffled_set = shuffle(set_of_cards)\n",
    "    print(set_of_cards)\n",
    "    print(shuffled_set)\n",
    "\n",
    "main()\n",
    "    \n",
    "    "
   ]
  },
  {
   "cell_type": "code",
   "execution_count": 45,
   "id": "b2dc1ff5",
   "metadata": {},
   "outputs": [
    {
     "name": "stdout",
     "output_type": "stream",
     "text": [
      "Original deck: ['2s', '2h', '2d', '2c', '3s', '3h', '3d', '3c', '4s', '4h', '4d', '4c', '5s', '5h', '5d', '5c', '6s', '6h', '6d', '6c', '7s', '7h', '7d', '7c', '8s', '8h', '8d', '8c', '9s', '9h', '9d', '9c', 'Ts', 'Th', 'Td', 'Tc', 'Js', 'Jh', 'Jd', 'Jc', 'Qs', 'Qh', 'Qd', 'Qc', 'Ks', 'Kh', 'Kd', 'Kc', 'As', 'Ah', 'Ad', 'Ac']\n",
      "Shuffled deck: ['Ad', '5s', '8d', 'Jc', '3s', '3h', '5d', '4c', '4s', '7h', 'Ac', '3c', '2h', 'Ks', '2s', 'Kd', '9s', 'Js', '9c', 'Kh', '6h', '7c', '8c', '6s', 'Tc', '8h', '7d', '2d', 'Ah', '4d', 'Kc', '6d', 'Ts', 'Qs', 'Th', '8s', 'Qd', '5h', 'Qc', '2c', 'Td', 'Qh', 'Jh', '5c', '7s', '6c', '3d', '9d', 'As', '4h', 'Jd', '9h']\n"
     ]
    }
   ],
   "source": [
    "import random\n",
    "\n",
    "def shuffle(new_deck):\n",
    "    deck_size = len(new_deck)\n",
    "    \n",
    "    # Shuffle for a certain number of rounds (4 in this case)\n",
    "    for times in range(0, 4, 1):\n",
    "        replacement_set = []\n",
    "        selected_set = []\n",
    "        size = 8\n",
    "        \n",
    "        # Ensure selected_set and replacement_set have 8 unique random indices\n",
    "        while len(selected_set) < size:\n",
    "            s_card = random.randint(0, deck_size - 1)\n",
    "            if s_card not in selected_set:\n",
    "                selected_set.append(s_card)\n",
    "        \n",
    "        while len(replacement_set) < size:\n",
    "            r_card = random.randint(0, deck_size - 1)\n",
    "            if r_card not in replacement_set and r_card not in selected_set:\n",
    "                replacement_set.append(r_card)\n",
    "        \n",
    "        # Start swapping set 1 and set 2\n",
    "        for y in range(0, size, 1):\n",
    "            holder = new_deck[selected_set[y]]\n",
    "            new_deck[selected_set[y]] = new_deck[replacement_set[y]]\n",
    "            new_deck[replacement_set[y]] = holder\n",
    "            \n",
    "    return new_deck\n",
    "\n",
    "def createDeck():\n",
    "    value = [\"2\", \"3\", \"4\", \"5\", \"6\", \"7\", \"8\", \"9\", \"T\", \"J\", \"Q\", \"K\", \"A\"]\n",
    "    suits = [\"s\", \"h\", \"d\", \"c\"]\n",
    "    \n",
    "    deck = [v + s for v in value for s in suits]\n",
    "    \n",
    "    return deck\n",
    "\n",
    "def main():\n",
    "    set_of_cards = createDeck()\n",
    "    print(\"Original deck:\", set_of_cards)\n",
    "    shuffled_set = shuffle(set_of_cards)\n",
    "    print(\"Shuffled deck:\", shuffled_set)\n",
    "\n",
    "main()\n"
   ]
  },
  {
   "cell_type": "code",
   "execution_count": 44,
   "id": "cf664bcd",
   "metadata": {},
   "outputs": [
    {
     "name": "stdout",
     "output_type": "stream",
     "text": [
      "Original deck: ['2s', '2h', '2d', '2c', '3s', '3h', '3d', '3c', '4s', '4h', '4d', '4c', '5s', '5h', '5d', '5c', '6s', '6h', '6d', '6c', '7s', '7h', '7d', '7c', '8s', '8h', '8d', '8c', '9s', '9h', '9d', '9c', 'Ts', 'Th', 'Td', 'Tc', 'Js', 'Jh', 'Jd', 'Jc', 'Qs', 'Qh', 'Qd', 'Qc', 'Ks', 'Kh', 'Kd', 'Kc', 'As', 'Ah', 'Ad', 'Ac']\n",
      "Shuffled deck: ['Qh', '9d', '9c', 'As', '3s', 'Ts', 'Kc', '2c', 'Ac', '5h', '4d', '7h', 'Ad', '9h', 'Jh', 'Qc', '4c', '6s', '4h', '2d', 'Th', 'Td', '4s', '8h', '2h', '6d', '7c', '6c', '5d', 'Ah', 'Kh', 'Js', '7d', '3d', '8c', '2s', 'Jd', 'Jc', '5s', 'Ks', 'Qs', '3c', 'Tc', '5c', '8d', '8s', 'Kd', '7s', '3h', '6h', '9s', 'Qd']\n"
     ]
    }
   ],
   "source": [
    "import random\n",
    "\n",
    "def createDeck():\n",
    "    # Initialize deck by combining each value with each suit\n",
    "    value = [\"2\", \"3\", \"4\", \"5\", \"6\", \"7\", \"8\", \"9\", \"T\", \"J\", \"Q\", \"K\", \"A\"]\n",
    "    suits = [\"s\", \"h\", \"d\", \"c\"]\n",
    "    \n",
    "    # Create deck with all possible unique combinations\n",
    "    deck = [v + s for v in value for s in suits]\n",
    "    \n",
    "    return deck\n",
    "\n",
    "def shuffle(deck):\n",
    "    deck_size = len(deck)\n",
    "    \n",
    "    # Perform a shuffle by swapping random pairs of cards\n",
    "    for i in range(deck_size):\n",
    "        # Pick two random indices to swap their cards\n",
    "        index1 = random.randint(0, deck_size - 1)\n",
    "        index2 = random.randint(0, deck_size - 1)\n",
    "        \n",
    "        # Swap the two selected cards\n",
    "        deck[index1], deck[index2] = deck[index2], deck[index1]\n",
    "    \n",
    "    return deck\n",
    "\n",
    "def main():\n",
    "    # Create and print the original deck\n",
    "    set_of_cards = createDeck()\n",
    "    print(\"Original deck:\", set_of_cards)\n",
    "    \n",
    "    # Shuffle and print the shuffled deck\n",
    "    shuffled_set = shuffle(set_of_cards)\n",
    "    print(\"Shuffled deck:\", shuffled_set)\n",
    "\n",
    "main()\n"
   ]
  },
  {
   "cell_type": "code",
   "execution_count": 16,
   "id": "46c09cfb",
   "metadata": {},
   "outputs": [
    {
     "data": {
      "text/plain": [
       "[1]"
      ]
     },
     "execution_count": 16,
     "metadata": {},
     "output_type": "execute_result"
    }
   ],
   "source": [
    "a = []\n",
    "for i in range(0,4,1):\n",
    "    a.append([1])\n",
    "b = a.pop()\n",
    "b"
   ]
  },
  {
   "cell_type": "markdown",
   "id": "1d147f39",
   "metadata": {},
   "source": [
    "In many card games each player is dealt a specific number of cards after the deck\n",
    "has been shuffled. Write a function, deal, which takes the number of hands, the\n",
    "number of cards per hand, and a deck of cards as its three parameters. Your function\n",
    "should return a list containing all of the hands that were dealt. Each hand will be\n",
    "represented as a list of cards.\n",
    "When dealing the hands, your function should modify the deck of cards passed\n",
    "to it as a parameter, removing each card from the deck as it is added to a player’s\n",
    "hand. When cards are dealt, it is customary to give each player a card before any\n",
    "90 5 Lists\n",
    "player receives an additional card. Your function should follow this custom when\n",
    "constructing the hands for the players.\n",
    "Use your solution to Exercise 125 to help you construct a main program that\n",
    "creates and shuffles a deck of cards, and then deals out four hands of five cards each.\n",
    "Display all of the hands of cards, along with the cards remaining in the deck after\n",
    "the hands have been dealt."
   ]
  },
  {
   "cell_type": "code",
   "execution_count": 3,
   "id": "62ae50f3",
   "metadata": {},
   "outputs": [
    {
     "name": "stdout",
     "output_type": "stream",
     "text": [
      "\n",
      "Player 1 card:  6s Jh 4d 8d \n",
      "Player 2 card:  2s 2d 2c Js \n",
      "Player 3 card:  8c Ad Jc As \n",
      "Player 4 card:  7h 5d 9c Qc \n",
      "Player 5 card:  3s Kh Kd Td "
     ]
    }
   ],
   "source": [
    "import random\n",
    "\n",
    "def deal(no_of_hands, no_of_cards_per_hands, card_deck):\n",
    "    hand_dealt = []\n",
    "    for i in range(0, no_of_hands, 1):\n",
    "        hand_dealt.append([])\n",
    "    for card_count in range(0, no_of_cards_per_hands, 1):\n",
    "        for hand_count in range(0, no_of_hands, 1):\n",
    "            index = random.randint(0, len(card_deck)-1)\n",
    "            add_card = card_deck.pop(index)\n",
    "            hand_dealt[hand_count].append(add_card)\n",
    "    return hand_dealt\n",
    "\n",
    "def main():\n",
    "    hands = 5\n",
    "    cards = 4\n",
    "    \n",
    "    card = createDeck()\n",
    "    shuffled = shuffle(card)\n",
    "    d = deal(hands, cards, shuffled)\n",
    "    for player in range(0, hands, 1):\n",
    "        print(\"\\nPlayer {} card: \".format(player+1), end= \" \")\n",
    "        for c in range(0, cards, 1):\n",
    "            print(d[player][c], end=\" \")\n",
    "main()"
   ]
  },
  {
   "cell_type": "code",
   "execution_count": 5,
   "id": "7b409871",
   "metadata": {},
   "outputs": [
    {
     "name": "stdout",
     "output_type": "stream",
     "text": [
      "Enter The number of players: 4\n",
      "Enter the number of cards per player: 8\n",
      "\n",
      "Player 1 card:  Js 4d Tc Ad 2s 6s 6c As \n",
      "Player 2 card:  2h Qc 5s Th Kc 5h Qd 7h \n",
      "Player 3 card:  Ah 3h 7d 8h Kd Ts Qs 3c \n",
      "Player 4 card:  2d 8s 8d Ac Jd 7s 9s 4s "
     ]
    }
   ],
   "source": [
    "import random\n",
    "\n",
    "def deal(no_of_hands, no_of_cards_per_hands, card_deck) -> list[str]:\n",
    "    \n",
    "    hand_dealt = [[] for i in range(0, no_of_hands, 1)]\n",
    "    \n",
    "    for card_count in range(0, no_of_cards_per_hands, 1):\n",
    "        for hand_count in range(0, no_of_hands, 1):\n",
    "            index = random.randint(0, len(card_deck)-1)\n",
    "            add_card = card_deck.pop(index)\n",
    "            hand_dealt[hand_count].append(add_card)\n",
    "    return hand_dealt\n",
    "\n",
    "def main()-> None:\n",
    "    hands = int(input(\"Enter The number of players: \"))\n",
    "    cards = int(input(\"Enter the number of cards per player: \"))\n",
    "    \n",
    "    card = createDeck()\n",
    "    shuffled = shuffle(card)\n",
    "    d = deal(hands, cards, shuffled)\n",
    "    for player in range(0, hands, 1):\n",
    "        print(\"\\nPlayer {} card: \".format(player+1), end= \" \")\n",
    "        print(\" \".join(d[player][c] for c in range(0, cards, 1)), end=\" \")\n",
    "main()"
   ]
  },
  {
   "cell_type": "markdown",
   "id": "fdcb0cf6",
   "metadata": {},
   "source": [
    "Write a function that determines whether or not a list of values is in sorted order\n",
    "(either ascending or descending). The function should return True if the list is\n",
    "already sorted. Otherwise it should return False. Write a main program that reads\n",
    "a list of numbers from the user and then uses your function to report whether or not\n",
    "the list is sorted.\n",
    "Make sure you consider these questions when completing this exercise: Is a\n",
    "list that is empty in sorted order? What about a list containing one element?"
   ]
  },
  {
   "cell_type": "code",
   "execution_count": 21,
   "id": "d7e8828b",
   "metadata": {},
   "outputs": [
    {
     "name": "stdout",
     "output_type": "stream",
     "text": [
      "Enter value: 3\n",
      "Enter value: 4\n",
      "Enter value: e\n",
      "Is sorted:  True\n"
     ]
    }
   ],
   "source": [
    "def isSorted(set_of_values:list)-> bool:\n",
    "    status = None\n",
    "    no_of_values = len(set_of_values)\n",
    "    if no_of_values <= 1:\n",
    "        return False\n",
    "    \n",
    "    for i in range(0, no_of_values - 2, 1):\n",
    "        first_element = set_of_values[i]\n",
    "        second_element = set_of_values[i+1]\n",
    "        \n",
    "        if status == None:\n",
    "            if first_element > second_element:\n",
    "                status = \"D\"\n",
    "            elif first_element < second_element:\n",
    "                status = \"A\"\n",
    "            else:\n",
    "                status = None\n",
    "        elif status == \"A\":\n",
    "            if first_element <= second_element:\n",
    "                continue\n",
    "            else:\n",
    "                return False\n",
    "        else:\n",
    "            if first_element >= second_element:\n",
    "                continue\n",
    "            else:\n",
    "                return False\n",
    "    return True\n",
    "def main()-> None:\n",
    "    numbers = []\n",
    "    while True:\n",
    "        value = input(\"Enter value: \")\n",
    "        if value.isnumeric() == True:\n",
    "            numbers.append(int(value))\n",
    "        else:\n",
    "            break\n",
    "    answer = isSorted(numbers)\n",
    "    print(\"Is sorted: \", answer)\n",
    "\n",
    "main()"
   ]
  },
  {
   "cell_type": "code",
   "execution_count": 18,
   "id": "2cc4b8a2",
   "metadata": {},
   "outputs": [
    {
     "data": {
      "text/plain": [
       "False"
      ]
     },
     "execution_count": 18,
     "metadata": {},
     "output_type": "execute_result"
    }
   ],
   "source": [
    "\"a\".isnumeric()"
   ]
  },
  {
   "cell_type": "markdown",
   "id": "9311303e",
   "metadata": {},
   "source": [
    "Python’s standard library includes a method named count that determines how\n",
    "many times a specific value occurs in a list. In this exercise, you will create a new\n",
    "function named countRange. It will determine and return the number of elements\n",
    "within a list that are greater than or equal to some minimum value and less than some\n",
    "maximum value. Your function will take three parameters: the list, the minimum\n",
    "value and the maximum value. It will return an integer result greater than or equal to\n",
    "0. Include a main program that demonstrates your function for several different lists,\n",
    "minimum values and maximum values. Ensure that your program works correctly\n",
    "for both lists of integers and lists of floating-point numbers."
   ]
  },
  {
   "cell_type": "code",
   "execution_count": 1,
   "id": "495fc570",
   "metadata": {},
   "outputs": [
    {
     "name": "stdout",
     "output_type": "stream",
     "text": [
      "Enter length of list: 9\n",
      "Enter the min value: 2\n",
      "Enter the max value: 5\n",
      "[10, 5, 5, 3, 4, 5, 7, 10, 10]\n",
      "2\n"
     ]
    }
   ],
   "source": [
    "import random\n",
    "\n",
    "def countRange(set_of_values:list, min_value:float, max_value:float)-> int:\n",
    "    count = 0\n",
    "    for index, element in enumerate(set_of_values):\n",
    "        if element < max_value and element >= min_value:\n",
    "            count += 1\n",
    "        else:\n",
    "            pass\n",
    "    return count\n",
    "def main()-> None:\n",
    "    # generate list\n",
    "    length = int(input(\"Enter length of list: \"))\n",
    "    min_range = float(input(\"Enter the min value: \"))\n",
    "    max_range = float(input(\"Enter the max value: \"))\n",
    "    \n",
    "    list_of_value = [random.randrange(0, 11) for i in range(0, length , 1)]\n",
    "    \n",
    "    result = countRange(list_of_value, min_range, max_range)\n",
    "    print(list_of_value)\n",
    "    print(result)\n",
    "main()"
   ]
  },
  {
   "cell_type": "code",
   "execution_count": null,
   "id": "0d5da586",
   "metadata": {},
   "outputs": [],
   "source": []
  },
  {
   "cell_type": "markdown",
   "id": "5bc3327e",
   "metadata": {},
   "source": [
    "Tokenizing is the process of converting a string into a list of substrings, known as\n",
    "tokens. In many circumstances, a list of tokens is far easier to work with than the\n",
    "original string because the original string may have irregular spacing. In some cases\n",
    "substantial work is also required to determine where one token ends and the next one\n",
    "begins.\n",
    "In a mathematical expression, tokens are items such as operators, numbers and\n",
    "parentheses. The operator symbols that we will consider in this (and subsequent)\n",
    "problems are *, /, ˆ, - and +. Operators and parentheses are easy to identify because\n",
    "the token is always a single character, and the character is never part of another token.\n",
    "Numbers are slightly more challenging to identify because the token may consist of\n",
    "multiple characters. Any sequence of consecutive digits should be treated as one\n",
    "number token.\n",
    "Write a function that takes a string containing a mathematical expression as its\n",
    "only parameter and breaks it into a list of tokens. Each token should be a parenthesis,\n",
    "an operator, or a number. (For simplicity we will only work with integers in this\n",
    "problem). Return the list of tokens as the function’s only result.\n",
    "You may assume that the string passed to your function always contains a valid\n",
    "mathematical expression consisting of parentheses, operators and integers. However,\n",
    "your function must handle variable amounts of whitespace (including no whitespace)\n",
    "between these elements. Include a main program that demonstrates your tokenizing\n",
    "function by reading an expression from the user and printing the list of tokens. Ensure\n",
    "that the main program will not run when the file containing your solution is imported\n",
    "into another program."
   ]
  },
  {
   "cell_type": "code",
   "execution_count": 2,
   "id": "bf90cf1a",
   "metadata": {},
   "outputs": [
    {
     "name": "stdout",
     "output_type": "stream",
     "text": [
      "Enter mathematical expression: -3  +23/  3--2\n",
      "['-', '3', '+', '23', '/', '3', '-', '-', '2']\n"
     ]
    }
   ],
   "source": [
    "def tokenizer(expression:str)-> list:\n",
    "    number_status = False\n",
    "    token = \"\"\n",
    "    list_of_tokens = []\n",
    "    # operators and parnetehesis\n",
    "    operators = [\"+\", \"-\", \"^\", \"*\", \"/\", \"(\", \")\"]\n",
    "    \n",
    "    for index, char in enumerate(expression):\n",
    "        if char in operators:\n",
    "            if number_status == True:\n",
    "                list_of_tokens.append(token)\n",
    "                token = \"\"\n",
    "                number_status = False\n",
    "            list_of_tokens.append(char)\n",
    "        # if a number\n",
    "        elif char.isnumeric() == True:\n",
    "            number_status = True\n",
    "            token = token + char\n",
    "            # if the last element of expression\n",
    "            if index == len(expression)-1:\n",
    "                list_of_tokens.append(token)\n",
    "        else:\n",
    "            pass\n",
    "    return list_of_tokens\n",
    "def main()-> None:\n",
    "    string = input(\"Enter mathematical expression: \")\n",
    "    tokens = tokenizer(string)\n",
    "    \n",
    "    print(tokens)\n",
    "    \n",
    "main()"
   ]
  },
  {
   "cell_type": "markdown",
   "id": "5e530a18",
   "metadata": {},
   "source": [
    "Some mathematical operators are unary while others are binary. Unary operators act\n",
    "on one value while binary operators act on two. For example, in the expression2 *\n",
    "-3 the * is a binary operator because it acts on both the 2 and the −3 while the - is\n",
    "a unary operator because it only acts on the 3.\n",
    "An operator’s symbol is not always sufficient to determine whether it is unary or\n",
    "binary. For example, while the - operator was unary in the previous expression, the\n",
    "same character is used to represent the binary - operator in an expression such as\n",
    "2 - 3. This ambiguity, which is also present for the + operator, must be removed\n",
    "before other interesting operations can be performed on a list of tokens representing\n",
    "a mathematical expression.\n",
    "Create a function that identifies unary + and - operators in a list of tokens and\n",
    "replaces them with u+ and u- respectively. Your function will take a list of tokens\n",
    "for a mathematical expression as its only parameter and return a new list of tokens\n",
    "where the unary + and - operators have been substituted as its only result. A +\n",
    "or - operator is unary if it is the first token in the list, or if the token that immediately\n",
    "precedes it is an operator or open parenthesis. Otherwise the operator is\n",
    "binary.\n",
    "Write a main program that demonstrates that your function works correctly by\n",
    "reading, tokenizing, and marking the unary operators in an expression entered by\n",
    "the user. Your main program should not execute when your function is imported into\n",
    "another program."
   ]
  },
  {
   "cell_type": "code",
   "execution_count": 3,
   "id": "9e5fb4a8",
   "metadata": {},
   "outputs": [
    {
     "name": "stdout",
     "output_type": "stream",
     "text": [
      "Enter mathematical expression: -3  +23/  3--2\n",
      "['-', '3', '+', '23', '/', '3', '-', '-', '2']\n",
      "['u-', '3', '+', '23', '/', '3', '-', 'u-', '2']\n"
     ]
    }
   ],
   "source": [
    "\n",
    "def unaryTokenizer(list_of_token:list)->list:\n",
    "    first_status = True\n",
    "    operator_status = False\n",
    "    # operators and parnetehesis\n",
    "    operators = [\"+\", \"-\", \"^\", \"*\", \"/\", \"(\", \")\"]\n",
    "    \n",
    "    for index, token in enumerate(list_of_token):\n",
    "        if index > 0:\n",
    "            first_status = False\n",
    "        if token in operators:\n",
    "            if token in [\"+\", \"-\"] and (first_status == True or operator_status == True):\n",
    "                modified_token = \"u\" + token\n",
    "                list_of_token[index] = modified_token\n",
    "            else:\n",
    "                operator_status = True\n",
    "        else:\n",
    "            operator_status = False\n",
    "    return list_of_token\n",
    "\n",
    "def main()->None:\n",
    "    string = input(\"Enter mathematical expression: \")\n",
    "    tokens = tokenizer(string)\n",
    "    print(tokens)\n",
    "    \n",
    "    result = unaryTokenizer(tokens)\n",
    "    print(result)\n",
    "main()"
   ]
  },
  {
   "cell_type": "code",
   "execution_count": null,
   "id": "80a1e6b1",
   "metadata": {},
   "outputs": [],
   "source": []
  },
  {
   "cell_type": "code",
   "execution_count": 23,
   "id": "a54744c8",
   "metadata": {},
   "outputs": [
    {
     "name": "stdout",
     "output_type": "stream",
     "text": [
      "{('Class1', 'Math'): 'Period1', ('Class1', 'English'): 'Period1', ('Class2', 'Math'): 'Period2', ('Class2', 'Science'): 'Period1', ('Class3', 'English'): 'Period2', ('Class3', 'Science'): 'Period2'}\n"
     ]
    }
   ],
   "source": [
    "# Import necessary libraries\n",
    "from collections import defaultdict\n",
    "from itertools import combinations  # Import the combinations function\n",
    "\n",
    "class Graph:\n",
    "    def __init__(self):\n",
    "        self.graph = defaultdict(list)\n",
    "\n",
    "    def add_node(self, node):\n",
    "        if node not in self.graph:\n",
    "            self.graph[node] = []\n",
    "\n",
    "    def add_edge(self, node1, node2):\n",
    "        self.graph[node1].append(node2)\n",
    "        self.graph[node2].append(node1)\n",
    "\n",
    "    def neighbors(self, node):\n",
    "        return self.graph[node]\n",
    "\n",
    "    def nodes(self):\n",
    "        return self.graph.keys()\n",
    "\n",
    "    def degree(self, node):\n",
    "        return len(self.graph[node])\n",
    "\n",
    "# Helper Functions\n",
    "def create_graph(C, S, T):\n",
    "    \"\"\"\n",
    "    Creates a graph where nodes represent (class, subject) pairs and edges represent constraints.\n",
    "    \"\"\"\n",
    "    G = Graph()\n",
    "    # Add class-subject nodes\n",
    "    for c in C:\n",
    "        for s in S[c]:\n",
    "            G.add_node((c, s))  # Each node is a tuple (class, subject)\n",
    "    \n",
    "    # Add edges to enforce constraints:\n",
    "    # 1. Teachers cannot teach two classes at the same time\n",
    "    # 2. No two classes can use the same room at the same time\n",
    "    for t in T:\n",
    "        # For each teacher, add edges between all their assigned classes\n",
    "        for (c1, s1), (c2, s2) in combinations(T[t], 2):\n",
    "            G.add_edge((c1, s1), (c2, s2))\n",
    "    \n",
    "    return G\n",
    "\n",
    "def get_available_colors(node, G, color_map, P):\n",
    "    \"\"\"\n",
    "    Returns a list of available time periods (colors) for the given node.\n",
    "    \"\"\"\n",
    "    used_colors = set([color_map[n] for n in G.neighbors(node) if n in color_map])\n",
    "    return [p for p in P if p not in used_colors]\n",
    "\n",
    "def check_constraints(node, color_map, T, teacher_availability, room_availability):\n",
    "    \"\"\"\n",
    "    Checks if the current assignment respects the teacher and room availability constraints.\n",
    "    \"\"\"\n",
    "    class_, subject = node\n",
    "    assigned_period = color_map[node]\n",
    "    \n",
    "    # Find the assigned teacher for this class-subject\n",
    "    assigned_teacher = None\n",
    "    for teacher, assignments in T.items():\n",
    "        if (class_, subject) in assignments:\n",
    "            assigned_teacher = teacher\n",
    "            break\n",
    "    \n",
    "    # Check if the teacher is available in the assigned period\n",
    "    if assigned_period not in teacher_availability[assigned_teacher]:\n",
    "        return False\n",
    "    \n",
    "    # Check if any room is available in the assigned period\n",
    "    room_available = False\n",
    "    for room, periods in room_availability.items():\n",
    "        if assigned_period in periods:\n",
    "            room_available = True\n",
    "            break\n",
    "\n",
    "    return room_available\n",
    "\n",
    "def backtrack_and_resolve_conflict(G, node, color_map, P):\n",
    "    \"\"\"\n",
    "    Resolves conflicts by trying a different time period for the conflicting node.\n",
    "    \"\"\"\n",
    "    available_colors = get_available_colors(node, G, color_map, P)\n",
    "    if available_colors:\n",
    "        color_map[node] = available_colors[0]  # Assign a new valid time period\n",
    "        return True\n",
    "    else:\n",
    "        # If no available colors, backtrack further (in a real system, this would involve retrying earlier steps)\n",
    "        return False\n",
    "\n",
    "# Main Program: Timetable Scheduling\n",
    "def timetable_scheduler(C, S, T, P, R, teacher_availability, room_availability):\n",
    "    \"\"\"\n",
    "    Main scheduling algorithm for generating a non-clashing timetable.\n",
    "    \"\"\"\n",
    "    G = create_graph(C, S, T)  # Step 2: Create the graph with constraints\n",
    "    \n",
    "    color_map = {}  # Step 3: Stores time period (color) for each class-subject pair\n",
    "    for node in sorted(G.nodes(), key=lambda x: G.degree(x), reverse=True):\n",
    "        available_colors = get_available_colors(node, G, color_map, P)\n",
    "        if available_colors:\n",
    "            color_map[node] = available_colors[0]  # Assign the first available time period\n",
    "        else:\n",
    "            return \"Conflict found, unable to assign valid time period.\"\n",
    "    \n",
    "    # Step 4: Check constraints for teachers and rooms\n",
    "    for node in G.nodes():\n",
    "        if not check_constraints(node, color_map, T, teacher_availability, room_availability):\n",
    "            if not backtrack_and_resolve_conflict(G, node, color_map, P):\n",
    "                return \"Unable to resolve conflicts in timetable.\"\n",
    "    \n",
    "    return color_map  # Step 7: Output the final timetable\n",
    "\n",
    "# Example usage:\n",
    "\n",
    "# Sample data\n",
    "C = [\"Class1\", \"Class2\", \"Class3\"]  # Classes\n",
    "S = {\n",
    "    \"Class1\": [\"Math\", \"English\"],\n",
    "    \"Class2\": [\"Math\", \"Science\"],\n",
    "    \"Class3\": [\"English\", \"Science\"]\n",
    "}  # Subjects taught in each class\n",
    "T = {\n",
    "    \"Teacher1\": [(\"Class1\", \"Math\"), (\"Class2\", \"Math\")],\n",
    "    \"Teacher2\": [(\"Class1\", \"English\"), (\"Class3\", \"English\")],\n",
    "    \"Teacher3\": [(\"Class2\", \"Science\"), (\"Class3\", \"Science\")]\n",
    "}  # Teachers assigned to subjects in classes\n",
    "P = [\"Period1\", \"Period2\", \"Period3\", \"Period4\"]  # Available periods\n",
    "R = [\"Room1\", \"Room2\", \"Room3\"]  # Available rooms\n",
    "\n",
    "teacher_availability = {\n",
    "    \"Teacher1\": [\"Period1\", \"Period2\"],\n",
    "    \"Teacher2\": [\"Period1\", \"Period3\"],\n",
    "    \"Teacher3\": [\"Period2\", \"Period4\"]\n",
    "}  # Teacher availability in each period\n",
    "\n",
    "room_availability = {\n",
    "    \"Room1\": [\"Period1\", \"Period2\"],\n",
    "    \"Room2\": [\"Period3\", \"Period4\"],\n",
    "    \"Room3\": [\"Period1\", \"Period3\", \"Period4\"]\n",
    "}  # Room availability in each period\n",
    "\n",
    "# Generate the timetable\n",
    "timetable = timetable_scheduler(C, S, T, P, R, teacher_availability, room_availability)\n",
    "print(timetable)\n"
   ]
  },
  {
   "cell_type": "markdown",
   "id": "e0c3c5eb",
   "metadata": {},
   "source": [
    "Mathematical expressions are often written in infix form, where operators appear\n",
    "between the operands on which they act. While this is a common form, it is also\n",
    "possible to express mathematical expressions in postfix form, where the operator\n",
    "appears after all of its operands. For example, the infix expression3 + 4is written\n",
    "as3 4 +in postfix form. One can convert an infix expression to postfix form using\n",
    "the following algorithm:\n",
    "Create a new empty list, operators\n",
    "Create a new empty list, postfix\n",
    "For each token in the infix expression\n",
    "If the token is an integer then\n",
    "Append the token to postfix\n",
    "If the token is an operator then\n",
    "While operators is not empty and\n",
    "the last item in operators is not an open parenthesis and\n",
    "precedence(token) < precedence(last item in operators) do\n",
    "Remove the last item from operators and append it to postfix\n",
    "Append the token to operators\n",
    "If the token is an open parenthesis then\n",
    "Append the token to operators\n",
    "If the token is a close parenthesis then\n",
    "While the last item in operators is not an open parenthesis do\n",
    "Remove the last item from operators and append it to postfix\n",
    "Remove the open parenthesis from operators\n",
    "While operators is not the empty list do\n",
    "Remove the last item from operators and append it to postfix\n",
    "Return postfix as the result of the algorithm\n",
    "Use your solutions to Exercises 129 and 130 to tokenize amathematical expression\n",
    "and identify any unary operators in it. Then use the algorithm above to transform the\n",
    "expression from infix form to postfix form. Your code that implements the preceding\n",
    "algorithm should reside in a function that takes a list of tokens representing an\n",
    "infix expression (with the unary operators marked) as its only parameter. It should\n",
    "return a list of tokens representing the equivalent postfix expression as its only result.\n",
    "Include a main program that demonstrates your infix to postfix function by reading\n",
    "an expression from the user in infix form and displaying it in postfix form.\n",
    "The purpose of converting from infix form to postfix form will become apparent\n",
    "when you read Exercise 132. You may find your solutions to Exercises 96 and 97\n",
    "helpful when completing this problem. While you should be able to use your solution\n",
    "to Exercise 96 without any modifications, your solution to Exercise 97 will need to\n",
    "be extended so that it returns the correct precedence for the unary operators. The\n",
    "unary operators should have higher precedence than multiplication and division, but\n",
    "lower precedence than exponentiation."
   ]
  },
  {
   "cell_type": "code",
   "execution_count": 10,
   "id": "55705b59",
   "metadata": {},
   "outputs": [
    {
     "name": "stdout",
     "output_type": "stream",
     "text": [
      "Enter mathematical expression: 2+(3*-4)\n",
      "['2', '3', '*', '4', 'u-', '+']\n"
     ]
    }
   ],
   "source": [
    "def postfixTokenizer(expression:str)->list:\n",
    "    operators:list = []\n",
    "    postfix = []\n",
    "    operatorsSymbols = [\"+\", \"-\", \"^\", \"*\", \"/\", \"u-\", \"u+\"]\n",
    "    \n",
    "    non_unary_infix = tokenizer(expression)\n",
    "    infix = unaryTokenizer(non_unary_infix)\n",
    "    for index, token in enumerate(infix):\n",
    "        if token.isnumeric() == True:\n",
    "            postfix.append(token)\n",
    "        elif token in operatorsSymbols:\n",
    "            while len(operators) != 0 and operators[len(operators)-1] != \"(\":\n",
    "                last_item = operators.pop()\n",
    "                postfix.append(last_item)\n",
    "            operators.append(token)\n",
    "        elif token == \"(\":\n",
    "            operators.append(token)\n",
    "        else:\n",
    "            while len(operators) != 0 and operators[len(operators)-1] != \"(\":\n",
    "                last_item = operators.pop()\n",
    "                postfix.append(last_item)\n",
    "            operators.remove(\"(\")\n",
    "    while len(operators) != 0:\n",
    "        last_item = operators.pop()\n",
    "        postfix.append(last_item)\n",
    "    return postfix\n",
    "\n",
    "def main()->None:\n",
    "    string = input(\"Enter mathematical expression: \")\n",
    "    result = postfixTokenizer(string)\n",
    "    print(result)\n",
    "main()"
   ]
  },
  {
   "cell_type": "code",
   "execution_count": 10,
   "id": "f70fe94b",
   "metadata": {},
   "outputs": [
    {
     "name": "stdout",
     "output_type": "stream",
     "text": [
      "[]\n"
     ]
    }
   ],
   "source": [
    "k = []\n",
    "if len(k) != 0 and k[len(k)-1] != 'y':\n",
    "    print(\"o\")\n",
    "print(k)"
   ]
  },
  {
   "cell_type": "markdown",
   "id": "28adcbd9",
   "metadata": {},
   "source": [
    "Evaluating a postfix expression is easier than evaluating an infix expression because\n",
    "it does not contain any parentheses and there are no operator precedence rules to\n",
    "consider. A postfix expression can be evaluated using the following algorithm:\n",
    "Create a new empty list, values\n",
    "For each token in the postfix expression\n",
    "If the token is a number then\n",
    "Convert it to an integer and append it to values\n",
    "Else if the token is a unary minus then\n",
    "Remove an item from the end of values\n",
    "Negate the item and append the result of the negation to values\n",
    "Else if the token is a binary operator then\n",
    "Remove an item from the end of values and call it right\n",
    "Remove an item from the end of values and call it left\n",
    "Compute the result of applying the operator to left and right\n",
    "Append the result to values\n",
    "Return the first item in values as the value of the expression\n",
    "Write a program that reads a mathematical expression in infix form from the user,\n",
    "converts it to postfix form, evaluates it, and displays its value. Use your solutions\n",
    "to Exercises 129, 130 and 131, along with the algorithm shown above, to solve this\n",
    "problem.\n",
    "The algorithms provided in Exercises 131 and 132 do not perform any error\n",
    "checking. As a result, your programs may crash or generate incorrect results if\n",
    "you provide them with invalid input. The algorithms presented in these exercises\n",
    "can be extended to detect invalid input and respond to it in a reasonable\n",
    "manner. Doing so is left as an independent study exercise for the interested\n",
    "student."
   ]
  },
  {
   "cell_type": "code",
   "execution_count": 19,
   "id": "55fbb7d8",
   "metadata": {},
   "outputs": [
    {
     "name": "stdout",
     "output_type": "stream",
     "text": [
      "Enter mathematical expression: 2+(3*-4)\n",
      "['2', '3', '*', '4', 'u-', '+']\n",
      "[2]\n"
     ]
    }
   ],
   "source": [
    "def evaluatePostFix(list_of_token:list)->float or int:\n",
    "    values = []\n",
    "    unary = [\"u-\", \"u+\"]\n",
    "    binary = [\"+\", \"-\", \"^\", \"*\", \"/\"]\n",
    "    \n",
    "    for index, token in enumerate(list_of_token):\n",
    "        if token.isnumeric() == True:\n",
    "            values.append(int(token))\n",
    "        elif token in unary:\n",
    "            lastItem = values.pop()\n",
    "            if token == \"u-\":\n",
    "                lastItem = lastItem * -1\n",
    "            values.append(lastItem)\n",
    "        elif token in binary:\n",
    "            left = values.pop()\n",
    "            right = values.pop()\n",
    "            if token == \"+\":\n",
    "                computation = right + left\n",
    "            elif token == \"-\":\n",
    "                computation = right - left\n",
    "            elif token == \"^\":\n",
    "                computation = right ^ left\n",
    "            elif token == \"*\":\n",
    "                computation = right * left\n",
    "            else:\n",
    "                computation = right / left\n",
    "            values.append(computation)\n",
    "        else:\n",
    "            raise ValueError(\"Invalid token\")\n",
    "    return values\n",
    "\n",
    "def main()-> None:\n",
    "    string = input(\"Enter mathematical expression: \")\n",
    "    expression = postfixTokenizer(string)\n",
    "    print(expression)\n",
    "    result = evaluatePostFix(expression)\n",
    "    print(result)\n",
    "main()"
   ]
  },
  {
   "cell_type": "markdown",
   "id": "da2fb652",
   "metadata": {},
   "source": [
    "A sublist is a list that is part of a larger list. A sublist may be a list containing a\n",
    "single element, multiple elements, or even no elements at all. For example, [1],\n",
    "[2], [3] and [4] are all sublists of [1, 2, 3, 4]. The list [2, 3] is also a\n",
    "sublist of [1, 2, 3, 4], but [2, 4] is not a sublist [1, 2, 3, 4] because\n",
    "the elements 2 and 4 are not adjacent in the longer list. The empty list is a sublist of\n",
    "94 5 Lists\n",
    "any list. As a result, [] is a sublist of [1, 2, 3, 4]. A list is a sublist of itself,\n",
    "meaning that [1, 2, 3, 4] is also a sublist of [1, 2, 3, 4].\n",
    "In this exercise you will create a function, isSublist, that determines whether\n",
    "or not one list is a sublist of another. Your function should take two lists, larger\n",
    "and smaller, as its only parameters. It should return True if and only if smaller\n",
    "is a sublist of larger. Write a main program that demonstrates your function."
   ]
  },
  {
   "cell_type": "code",
   "execution_count": null,
   "id": "55f447e8",
   "metadata": {},
   "outputs": [],
   "source": []
  },
  {
   "cell_type": "markdown",
   "id": "c10a934e",
   "metadata": {},
   "source": []
  },
  {
   "cell_type": "markdown",
   "id": "00fa391d",
   "metadata": {},
   "source": [
    "Using the definition of a sublist from Exercise 133, write a function that returns a\n",
    "list containing every possible sublist of a list. For example, the sublists of [1, 2,\n",
    "3] are [], [1], [2], [3], [1, 2], [2, 3] and [1, 2, 3]. Note that your\n",
    "function will always return a list containing at least the empty list because the empty\n",
    "list is a sublist of every list. Include a main program that demonstrate your function\n",
    "by displaying all of the sublists of several different lists."
   ]
  },
  {
   "cell_type": "markdown",
   "id": "128514df",
   "metadata": {},
   "source": []
  },
  {
   "cell_type": "markdown",
   "id": "de030c00",
   "metadata": {},
   "source": [
    "The Sieve of Eratosthenes is a technique that was developed more than 2,000 years\n",
    "ago to easily find all of the prime numbers between 2 and some limit, say 100. A\n",
    "description of the algorithm follows:\n",
    "Write down all of the numbers from 0 to the limit\n",
    "Cross out 0 and 1 because they are not prime\n",
    "Set p equal to 2\n",
    "While p is less than the limit do\n",
    "Cross out all multiples of p (but not p itself)\n",
    "Set p equal to the next number in the list that is not crossed out\n",
    "Report all of the numbers that have not been crossed out as prime\n",
    "The key to this algorithm is that it is relatively easy to cross out every nth number\n",
    "on a piece of paper. This is also an easy task for a computer—a for loop can simulate\n",
    "this behavior when a third parameter is provided to the range function. When a\n",
    "number is crossed out, we know that it is no longer prime, but it still occupies space\n",
    "on the piece of paper, and must still be considered when computing later prime\n",
    "numbers. As a result, you should not simulate crossing out a number by removing\n",
    "it from the list. Instead, you should simulate crossing out a number by replacing it\n",
    "with 0. Then, once the algorithm completes, all of the non-zero values in the list are\n",
    "prime.\n",
    "Create a Python program that uses this algorithm to display all of the prime\n",
    "numbers between 2 and a limit entered by the user. If you implement the algorithm\n",
    "correctly you should be able to display all of the prime numbers less than 1,000,000\n",
    "in a few seconds.\n",
    "This algorithm for finding prime numbers is not Eratosthenes’ only claim to\n",
    "fame. His other noteworthy accomplishments include calculating the circumference\n",
    "of the Earth and the tilt of the Earth’s axis. He also served as the Chief\n",
    "Librarian at the Library of Alexandria."
   ]
  },
  {
   "cell_type": "code",
   "execution_count": null,
   "id": "f9a4170a",
   "metadata": {},
   "outputs": [],
   "source": []
  }
 ],
 "metadata": {
  "kernelspec": {
   "display_name": "Python 3",
   "language": "python",
   "name": "python3"
  },
  "language_info": {
   "codemirror_mode": {
    "name": "ipython",
    "version": 3
   },
   "file_extension": ".py",
   "mimetype": "text/x-python",
   "name": "python",
   "nbconvert_exporter": "python",
   "pygments_lexer": "ipython3",
   "version": "3.11.5"
  }
 },
 "nbformat": 4,
 "nbformat_minor": 5
}
